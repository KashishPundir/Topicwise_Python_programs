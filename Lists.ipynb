{
 "cells": [
  {
   "cell_type": "code",
   "execution_count": 47,
   "metadata": {},
   "outputs": [
    {
     "name": "stdout",
     "output_type": "stream",
     "text": [
      "[2, 3, 5, 6, 9]\n",
      "[9, 6, 5, 3, 2]\n"
     ]
    }
   ],
   "source": [
    "### Sorting of elements in list\n",
    "a=[6,9,5,3,2]\n",
    "a.sort()                  # Ascending order\n",
    "print(a)\n",
    "a.sort(reverse=True)      # Descending order\n",
    "print(a)"
   ]
  },
  {
   "cell_type": "code",
   "execution_count": 46,
   "metadata": {},
   "outputs": [
    {
     "name": "stdout",
     "output_type": "stream",
     "text": [
      "apple\n",
      "e\n"
     ]
    }
   ],
   "source": [
    "### Take out an item and letter of that item from list\n",
    "a=[\"apple\",\"mango\",\"lichi\",\"guava\"]\n",
    "print(a[0])\n",
    "print(a[0][4])"
   ]
  },
  {
   "cell_type": "code",
   "execution_count": 44,
   "metadata": {},
   "outputs": [
    {
     "name": "stdout",
     "output_type": "stream",
     "text": [
      "9\n",
      "[6, 5, 3, 2]\n",
      "[6, 5, 3]\n"
     ]
    }
   ],
   "source": [
    "### pop() and remove() in list\n",
    "a=[6,9,5,3,2]\n",
    "print(a.pop(1))\n",
    "print(a)\n",
    "a.remove(2)\n",
    "print(a)"
   ]
  },
  {
   "cell_type": "code",
   "execution_count": 43,
   "metadata": {},
   "outputs": [
    {
     "name": "stdout",
     "output_type": "stream",
     "text": [
      "[6, 9, 8, 5, 3, 2]\n"
     ]
    }
   ],
   "source": [
    "### Insert function in list\n",
    "a=[6,9,5,3,2]\n",
    "a.insert(2,8)\n",
    "print(a)"
   ]
  },
  {
   "cell_type": "code",
   "execution_count": 42,
   "metadata": {},
   "outputs": [
    {
     "name": "stdout",
     "output_type": "stream",
     "text": [
      "[6, 9, 5, 3, 2, 'abc']\n",
      "[6, 9, 5, 3, 2, 'abc', 1]\n"
     ]
    }
   ],
   "source": [
    "### Appending string and integer items in list\n",
    "a=[6,9,5,3,2]\n",
    "a.append(\"abc\")\n",
    "print(a)\n",
    "a.append(1)\n",
    "print(a)"
   ]
  },
  {
   "cell_type": "code",
   "execution_count": 41,
   "metadata": {},
   "outputs": [
    {
     "name": "stdout",
     "output_type": "stream",
     "text": [
      "[2, 3, 5, 9, 6]\n"
     ]
    }
   ],
   "source": [
    "### Reverse items of list\n",
    "a=[6,9,5,3,2]\n",
    "a.reverse()\n",
    "print(a)"
   ]
  },
  {
   "cell_type": "code",
   "execution_count": 40,
   "metadata": {},
   "outputs": [
    {
     "name": "stdout",
     "output_type": "stream",
     "text": [
      "[2, 3, 5, 8, 9, 1]\n",
      "[8, 9, 1, 2, 3, 5, 8, 9, 1]\n"
     ]
    }
   ],
   "source": [
    "### Extend function on lists\n",
    "a=[2,3,5]\n",
    "b=[8,9,1]\n",
    "a.extend(b)\n",
    "print(a)\n",
    "b.extend(a)\n",
    "print(b)"
   ]
  },
  {
   "cell_type": "code",
   "execution_count": 35,
   "metadata": {},
   "outputs": [
    {
     "name": "stdout",
     "output_type": "stream",
     "text": [
      "[2, 3, 5, 8, 9, 1]\n"
     ]
    }
   ],
   "source": [
    "### Extend function on list and tuple\n",
    "a=[2,3,5]\n",
    "b=(8,9,1)\n",
    "a.extend(b)\n",
    "print(a)\n",
    "# b.extend(a)\n",
    "# print(b)           # Gives error while extending list elements in tuple"
   ]
  },
  {
   "cell_type": "code",
   "execution_count": 29,
   "metadata": {},
   "outputs": [
    {
     "name": "stdout",
     "output_type": "stream",
     "text": [
      "[3, 5, 7, 2, 8]\n"
     ]
    }
   ],
   "source": [
    "# cloning or copying a list\n",
    "l1=[3,5,7,2,8]\n",
    "l2=l1.copy()\n",
    "print(l2)"
   ]
  },
  {
   "cell_type": "code",
   "execution_count": 28,
   "metadata": {},
   "outputs": [
    {
     "name": "stdout",
     "output_type": "stream",
     "text": [
      "Smallest number: 1\n",
      "Largest number: 7\n",
      "[5, 2, 3, 1]\n",
      "Second largest number: 5\n"
     ]
    }
   ],
   "source": [
    "### Find smallest, largest and second largest number\n",
    "a=[5,7,2,3,1]\n",
    "print(\"Smallest number:\",min(a))\n",
    "print(\"Largest number:\",max(a))\n",
    "\n",
    "# To find second largest no.\n",
    "a.remove(max(a))\n",
    "print(a)\n",
    "print(\"Second largest number:\",max(a))"
   ]
  },
  {
   "cell_type": "code",
   "execution_count": 27,
   "metadata": {},
   "outputs": [
    {
     "name": "stdout",
     "output_type": "stream",
     "text": [
      "['My', 'Name', 'is', 'Kashish']\n"
     ]
    }
   ],
   "source": [
    "### Concatenate two lists index wise\n",
    "l1=[\"M\",\"Na\",\"i\",\"Kash\"]\n",
    "l2=[\"y\",\"me\",\"s\",\"ish\"]\n",
    "s=[]\n",
    "\n",
    "for  i in range(len(l1)):\n",
    "        s.append(l1[i]+l2[i])\n",
    "print(s)\n",
    "\n",
    "# Another way: print([l1[0]+l2[0],l1[1]+l2[1],l1[2]+l2[2],l1[3]+l2[3]])"
   ]
  },
  {
   "cell_type": "code",
   "execution_count": 26,
   "metadata": {},
   "outputs": [
    {
     "name": "stdout",
     "output_type": "stream",
     "text": [
      "10 400\n",
      "20 300\n",
      "30 200\n",
      "40 100\n"
     ]
    }
   ],
   "source": [
    "### Iterate both lists simultaneously\n",
    "\"\"\"l1 = [10, 20, 30, 40]\n",
    "l2 = [100, 200, 300, 400]\n",
    "for i in range(len(l1)):\n",
    "    print(l1[i],l2[3-i])\n",
    "\"\"\"\n",
    "# Another method\n",
    "for i,j in zip(l1,l2[::-1]):   # zip() function return zip object, which is an iterator of tuples where the first item in each passed iterator is paired together\n",
    "     print(i,j)                #, and then the second item in each passed iterator are paired together etc.\n"
   ]
  },
  {
   "cell_type": "code",
   "execution_count": 24,
   "metadata": {},
   "outputs": [
    {
     "name": "stdout",
     "output_type": "stream",
     "text": [
      "['a', 'b', ['c', ['d', 'e', ['f', 'g', 'h', 'i', 'j'], 'k'], 'l'], 'm', 'n']\n"
     ]
    }
   ],
   "source": [
    "###  Extend nested list by adding sublist\n",
    "list1 = [\"a\", \"b\", [\"c\", [\"d\", \"e\", [\"f\", \"g\"], \"k\"], \"l\"], \"m\", \"n\"]\n",
    "\n",
    "# sub list to add\n",
    "sub_list = [\"h\", \"i\", \"j\"]\n",
    "\n",
    "s=list1[2][1][2]\n",
    "s.extend(sub_list)\n",
    "print(list1)"
   ]
  },
  {
   "cell_type": "code",
   "execution_count": null,
   "metadata": {},
   "outputs": [],
   "source": [
    "### Remove multiple elements from list\n",
    "l=[2,5,3,7,1]\n",
    "times=int(input(\"Enter how many items you want to remove:\"))\n",
    "for i in range(1,times+1):\n",
    "    s=int(input(\"Enter elements you want to remove:\"))\n",
    "    l.remove(s)\n",
    "print(l)"
   ]
  },
  {
   "cell_type": "code",
   "execution_count": 23,
   "metadata": {},
   "outputs": [
    {
     "name": "stdout",
     "output_type": "stream",
     "text": [
      "2\n",
      "2\n",
      "0\n"
     ]
    }
   ],
   "source": [
    "### Count occurence of element\n",
    "l1=[3,6,5,3,5,1]\n",
    "print(l1.count(5))\n",
    "print(l1.count(3))\n",
    "print(l1.count(9))       # returns 0"
   ]
  },
  {
   "cell_type": "code",
   "execution_count": 22,
   "metadata": {},
   "outputs": [
    {
     "name": "stdout",
     "output_type": "stream",
     "text": [
      "[3, 2, 1]\n"
     ]
    }
   ],
   "source": [
    "### Remove even indexing element\n",
    "lst=[3,5,2,8,1]\n",
    "del lst[1::2]\n",
    "print(lst)"
   ]
  },
  {
   "cell_type": "code",
   "execution_count": 21,
   "metadata": {},
   "outputs": [
    {
     "name": "stdout",
     "output_type": "stream",
     "text": [
      "[5, 8]\n"
     ]
    }
   ],
   "source": [
    "### Remove odd indexing element\n",
    "lst=[3,5,2,8,1]\n",
    "del lst[::2]\n",
    "print(lst)"
   ]
  },
  {
   "cell_type": "code",
   "execution_count": 20,
   "metadata": {},
   "outputs": [
    {
     "name": "stdout",
     "output_type": "stream",
     "text": [
      "Even no. [2, 4, 6, 8]\n",
      "Odd no. [3, 5, 7]\n"
     ]
    }
   ],
   "source": [
    "### Print all even and odd numbers from range\n",
    "start=int(input(\"Enter the starting point of range:\"))\n",
    "end=int(input(\"Enter the ending point of range:\"))\n",
    "e=[]\n",
    "o=[]\n",
    "for i in range(start,end):\n",
    "    if i%2==0:\n",
    "        e.append(i)\n",
    "    else:\n",
    "        o.append(i)\n",
    "print(\"Even no.\",e)\n",
    "print(\"Odd no.\",o)"
   ]
  },
  {
   "cell_type": "code",
   "execution_count": 19,
   "metadata": {},
   "outputs": [
    {
     "name": "stdout",
     "output_type": "stream",
     "text": [
      "Even elements : [2, 4, 8]\n",
      "Odd elements : [7, 3, 1, 5]\n",
      "Even no. 3\n",
      "Odd no. 4\n"
     ]
    }
   ],
   "source": [
    "### Print and count even and odd numbers from list\n",
    "a=[2,7,4,8,3,1,5]\n",
    "e=[]\n",
    "o=[]\n",
    "s=0\n",
    "u=0\n",
    "for i in a:\n",
    "    if i%2==0:\n",
    "        e.append(i)\n",
    "        s=s+1\n",
    "    else:\n",
    "        o.append(i)\n",
    "        u=u+1\n",
    "print(\"Even elements :\",e)\n",
    "print(\"Odd elements :\",o)\n",
    "print(\"Even no.\",s)\n",
    "print(\"Odd no.\",u)"
   ]
  },
  {
   "cell_type": "code",
   "execution_count": 18,
   "metadata": {},
   "outputs": [
    {
     "name": "stdout",
     "output_type": "stream",
     "text": [
      "Sum : 18\n",
      "Average:  3.6\n",
      "Multiplication: 210\n"
     ]
    }
   ],
   "source": [
    "### Sum, Average and Multiplication of a list\n",
    "a=[5,7,2,3,1]\n",
    "mul=1\n",
    "print(\"Sum :\",sum(a))\n",
    "print(\"Average: \",sum(a)/len(a))\n",
    "for i in a:\n",
    "    mul=mul*i\n",
    "print(\"Multiplication:\",mul)"
   ]
  },
  {
   "cell_type": "code",
   "execution_count": 12,
   "metadata": {},
   "outputs": [
    {
     "name": "stdout",
     "output_type": "stream",
     "text": [
      "['4', '5', '6', '2', '9', '1']\n",
      "['1', '5', '6', '2', '9', '4']\n"
     ]
    }
   ],
   "source": [
    "### Interchange first and last elements in a list\n",
    "l= input(\"Enter elements :\")\n",
    "s=l.split()\n",
    "print(s)\n",
    "\n",
    "s[0],s[len(s)-1]=s[len(s)-1],s[0]\n",
    "print(s)"
   ]
  },
  {
   "cell_type": "code",
   "execution_count": 11,
   "metadata": {},
   "outputs": [
    {
     "name": "stdout",
     "output_type": "stream",
     "text": [
      "['4', '5', '2', '3', '7', '2', '4', '1']\n",
      "['4', '5', '2', '3', '7', '1']\n"
     ]
    }
   ],
   "source": [
    "### Remove all occurrences of an item from list\n",
    "a=[]\n",
    "l= input(\"Enter elements :\")\n",
    "s=l.split()\n",
    "print(s)\n",
    "for i in s:\n",
    "    if i not in a:\n",
    "        a.append(i)\n",
    "print(a)"
   ]
  },
  {
   "cell_type": "code",
   "execution_count": 6,
   "metadata": {},
   "outputs": [
    {
     "name": "stdout",
     "output_type": "stream",
     "text": [
      "[5, 10, 15, 200, 25, 50, 20]\n"
     ]
    }
   ],
   "source": [
    "### Replace list's items with new values\n",
    "list1 = [5, 10, 15, 20, 25, 50, 20]\n",
    "list1[3]=200\n",
    "print(list1)"
   ]
  },
  {
   "cell_type": "code",
   "execution_count": 5,
   "metadata": {},
   "outputs": [
    {
     "name": "stdout",
     "output_type": "stream",
     "text": [
      "[10, 20, [300, 400, [5000, 6000, 7000], 500], 30, 40]\n"
     ]
    }
   ],
   "source": [
    "### Add new item to list after a specified item\n",
    "list1 = [10, 20, [300, 400, [5000, 6000], 500], 30, 40]\n",
    "s=list1[2][2]\n",
    "s.append(7000)\n",
    "print(list1)"
   ]
  },
  {
   "cell_type": "code",
   "execution_count": 4,
   "metadata": {},
   "outputs": [
    {
     "name": "stdout",
     "output_type": "stream",
     "text": [
      "['Mike', 'Emma', 'Kelly', 'Brad']\n"
     ]
    }
   ],
   "source": [
    "### Remove empty strings from list of strings\n",
    "list1 = [\"Mike\", \"\", \"Emma\", \"Kelly\", \"\", \"Brad\"]\n",
    "for i in list1:\n",
    "    if i ==\"\":\n",
    "        list1.remove(i)\n",
    "    else:\n",
    "        continue\n",
    "print(list1)"
   ]
  },
  {
   "cell_type": "code",
   "execution_count": 3,
   "metadata": {},
   "outputs": [
    {
     "name": "stdout",
     "output_type": "stream",
     "text": [
      "['Hello Dear', 'Hello Sir', 'take Dear', 'take Sir']\n"
     ]
    }
   ],
   "source": [
    "### Concatenate items of two lists with each other\n",
    "list1=[\"Hello \", \"take \"]\n",
    "list2=[\"Dear\", \"Sir\"]\n",
    "s=[]\n",
    "for i in list1:\n",
    "    for j in list2:\n",
    "        a=i+j\n",
    "        s.append(a)\n",
    "print(s)"
   ]
  },
  {
   "cell_type": "code",
   "execution_count": 2,
   "metadata": {},
   "outputs": [
    {
     "name": "stdout",
     "output_type": "stream",
     "text": [
      "[1, 4, 9, 16, 25, 36]\n"
     ]
    }
   ],
   "source": [
    "### Return list of square of elements\n",
    "l=[1,2,3,4,5,6]\n",
    "k=[]\n",
    "for i in l:\n",
    "    s=i**2\n",
    "    k.append(s)\n",
    "print(k)"
   ]
  },
  {
   "cell_type": "code",
   "execution_count": 1,
   "metadata": {},
   "outputs": [
    {
     "name": "stdout",
     "output_type": "stream",
     "text": [
      "[1, 0, 5, 9, 4, 2]\n"
     ]
    }
   ],
   "source": [
    "### Reverse a list in dictionary\n",
    "a=[2,4,9,5,0,1]\n",
    "print(a[::-1])"
   ]
  },
  {
   "cell_type": "code",
   "execution_count": 1,
   "metadata": {},
   "outputs": [
    {
     "name": "stdout",
     "output_type": "stream",
     "text": [
      "([1, 2, 3], [4, 5, 6], [7, 8, 9])\n"
     ]
    }
   ],
   "source": [
    "###  How to create 2D list\n",
    "l1=[1,2,3]\n",
    "l2=[4,5,6]\n",
    "l3=[7,8,9]\n",
    "L=(l1,l2,l3)\n",
    "print(L)"
   ]
  },
  {
   "cell_type": "code",
   "execution_count": 4,
   "metadata": {},
   "outputs": [
    {
     "name": "stdout",
     "output_type": "stream",
     "text": [
      "1\n",
      "2\n",
      "3\n",
      "4\n",
      "5\n",
      "6\n",
      "7\n",
      "8\n",
      "9\n"
     ]
    }
   ],
   "source": [
    "### Iteration in 2D list\n",
    "L=[[1, 2, 3], [4, 5, 6], [7, 8, 9]]\n",
    "for i in L:\n",
    "    for j in i:\n",
    "        print(j)"
   ]
  }
 ],
 "metadata": {
  "kernelspec": {
   "display_name": "Python 3",
   "language": "python",
   "name": "python3"
  },
  "language_info": {
   "codemirror_mode": {
    "name": "ipython",
    "version": 3
   },
   "file_extension": ".py",
   "mimetype": "text/x-python",
   "name": "python",
   "nbconvert_exporter": "python",
   "pygments_lexer": "ipython3",
   "version": "3.11.5"
  }
 },
 "nbformat": 4,
 "nbformat_minor": 2
}
