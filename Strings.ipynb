{
 "cells": [
  {
   "cell_type": "code",
   "execution_count": 3,
   "metadata": {},
   "outputs": [
    {
     "name": "stdout",
     "output_type": "stream",
     "text": [
      "97\n",
      "65\n",
      "122\n",
      "90\n",
      "25096\n",
      "2346\n"
     ]
    }
   ],
   "source": [
    "print(ord(\"a\"))\n",
    "print(ord(\"A\"))\n",
    "print(ord(\"z\"))\n",
    "print(ord(\"Z\"))\n",
    "print(ord(\"戈\"))\n",
    "print(ord(\"प\"))\n"
   ]
  },
  {
   "cell_type": "markdown",
   "metadata": {},
   "source": [
    "STRING FORMAT FUNCTION"
   ]
  },
  {
   "cell_type": "code",
   "execution_count": 4,
   "metadata": {},
   "outputs": [
    {
     "name": "stdout",
     "output_type": "stream",
     "text": [
      "My name is Sahil and my age is 41\n"
     ]
    }
   ],
   "source": [
    "name=input(\"Enter name:\")\n",
    "age=int(input(\"Enter age:\"))\n",
    "print(\"My name is {} and my age is {}\".format(name,age))"
   ]
  },
  {
   "cell_type": "code",
   "execution_count": 5,
   "metadata": {},
   "outputs": [
    {
     "name": "stdout",
     "output_type": "stream",
     "text": [
      "My name is Ritu and my age is 23\n"
     ]
    }
   ],
   "source": [
    "name=input(\"Enter name:\")\n",
    "age=int(input(\"Enter age:\"))\n",
    "print(f\"My name is {name} and my age is {age}\")"
   ]
  },
  {
   "cell_type": "code",
   "execution_count": 6,
   "metadata": {},
   "outputs": [
    {
     "name": "stdout",
     "output_type": "stream",
     "text": [
      "<class 'str'>\n"
     ]
    }
   ],
   "source": [
    "### We cannot enclose multiline string in single quotes but only in triple quote \n",
    "S=\"\"\"\n",
    "Two roads diverged in a wood, and I, I took the one less travelled by, and that has made all the difference.\"\"\"\n",
    "print(type(S))                  # Use of single quotes give error"
   ]
  },
  {
   "cell_type": "code",
   "execution_count": 34,
   "metadata": {},
   "outputs": [
    {
     "name": "stdout",
     "output_type": "stream",
     "text": [
      "No such combination can be made\n"
     ]
    }
   ],
   "source": [
    "# 1.Create a string made of the first, middle and last character\n",
    "s=input(\"Enter any string\")\n",
    "a=len(s)\n",
    "if a%2!=0:\n",
    "    print(s[0]+s[(a-1)//2]+s[-1])\n",
    "else:\n",
    "    print(\"No such combination can be made\")"
   ]
  },
  {
   "cell_type": "code",
   "execution_count": 36,
   "metadata": {},
   "outputs": [
    {
     "name": "stdout",
     "output_type": "stream",
     "text": [
      "son\n"
     ]
    }
   ],
   "source": [
    "# 2. Create a string made of the middle three characters\n",
    "s=input(\"Enter any string\")\n",
    "a=len(s)\n",
    "if a%2!=0:\n",
    "    w=(a-1)//2\n",
    "    print(s[w-1]+s[(a-1)//2]+s[w+1])\n",
    "else:\n",
    "    print(\"No such combination can be made\")"
   ]
  },
  {
   "cell_type": "code",
   "execution_count": 51,
   "metadata": {},
   "outputs": [
    {
     "name": "stdout",
     "output_type": "stream",
     "text": [
      "jokellyhn\n"
     ]
    }
   ],
   "source": [
    "# 3. Append new string in the middle of a given string\n",
    "s1=input(\"Enter any string\")\n",
    "s2=input(\"Enter a string which is need to insert in between s1\")\n",
    "a=len(s1)\n",
    "s=\"\"\n",
    "w=a//2\n",
    "if a%2!=0:\n",
    "    print(\"No such combination can be made\")\n",
    "else:\n",
    "    for i in range(w+1):\n",
    "        if i<w:\n",
    "            s=s+s1[i]\n",
    "        else:\n",
    "            s=s+s2\n",
    "    for i in range(a):\n",
    "        if i>=w:\n",
    "            s=s+s1[i]     \n",
    "print(s)"
   ]
  },
  {
   "cell_type": "code",
   "execution_count": 5,
   "metadata": {},
   "outputs": [
    {
     "name": "stdout",
     "output_type": "stream",
     "text": [
      "elcomeoythonWTP\n"
     ]
    }
   ],
   "source": [
    "# 4. Arrange string characters such that lowercase letters should come first\n",
    "S=input(\"Enter any string\")\n",
    "new_s=\"\"\n",
    "new_b=\"\"\n",
    "for i in S:\n",
    "    if i.islower()==True:\n",
    "       new_s+=i\n",
    "    else:\n",
    "       new_b+=i\n",
    "print(new_s+new_b)  "
   ]
  },
  {
   "cell_type": "code",
   "execution_count": 18,
   "metadata": {},
   "outputs": [
    {
     "name": "stdout",
     "output_type": "stream",
     "text": [
      "Character in a string: 8\n",
      "Digits in a string: 3\n",
      "Special Symbol in a string: 4\n"
     ]
    }
   ],
   "source": [
    "# 5. Count all letters, digits, and special symbols from a given string\n",
    "st=input(\"Enter any string consists of character,digit and symbol:\")\n",
    "character=0\n",
    "digit=0\n",
    "symbol=0\n",
    "for i in st:\n",
    "    if i.isalpha()==True:\n",
    "        character+=1\n",
    "    elif i.isdigit()==True:\n",
    "        digit+=1\n",
    "    else:\n",
    "        symbol+=1\n",
    "print(\"Character in a string:\",character)\n",
    "print(\"Digits in a string:\",digit)\n",
    "print(\"Special Symbol in a string:\",symbol)"
   ]
  },
  {
   "cell_type": "code",
   "execution_count": 42,
   "metadata": {},
   "outputs": [
    {
     "name": "stdout",
     "output_type": "stream",
     "text": [
      "QLWKEJHGFDSA\n"
     ]
    }
   ],
   "source": [
    "# 6.Create a new string made of the first char of s1, then the last char of s2, Next, the second char of s1 and second last char of s2, and so on.\n",
    "s1=input(\"Enter first string:\")\n",
    "s2=input(\"Enter second string:\")\n",
    "a=\"\"\n",
    "b=abs(len(s1)-len(s2))\n",
    "if len(s1)==len(s2):\n",
    "    for i in range(len(s1)):\n",
    "        a=a+s1[0+i]+s2[-1-i]\n",
    "if len(s1)>=len(s2):\n",
    "    for i in range(len(s2)):\n",
    "        a=a+s1[0+i]+s2[-1-i]\n",
    "    for i in range(b):\n",
    "        a=a+s1[len(s2)+i]\n",
    "if len(s1)<=len(s2):\n",
    "    for i in range(len(s1)):\n",
    "        a=a+s1[0+i]+s2[-1-i]\n",
    "    for i in range(b):\n",
    "        a=a+s2[len(s2)-len(s1)-i-1]\n",
    "print(a)"
   ]
  }
 ],
 "metadata": {
  "kernelspec": {
   "display_name": "Python 3",
   "language": "python",
   "name": "python3"
  },
  "language_info": {
   "codemirror_mode": {
    "name": "ipython",
    "version": 3
   },
   "file_extension": ".py",
   "mimetype": "text/x-python",
   "name": "python",
   "nbconvert_exporter": "python",
   "pygments_lexer": "ipython3",
   "version": "3.11.5"
  }
 },
 "nbformat": 4,
 "nbformat_minor": 2
}
