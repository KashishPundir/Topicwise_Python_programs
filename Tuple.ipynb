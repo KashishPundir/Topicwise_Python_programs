{
 "cells": [
  {
   "cell_type": "code",
   "execution_count": 8,
   "metadata": {},
   "outputs": [
    {
     "name": "stdout",
     "output_type": "stream",
     "text": [
      "(9, 8, 7, 6)\n"
     ]
    }
   ],
   "source": [
    "### Reverse the tuple:\n",
    "# 1. First Method\n",
    "\"\"\"S=()\n",
    "A=tuple(map(int,input(\"Enter elements:\").split()))\n",
    "for i in range(len(A),0,-1):\n",
    "    S=S+(A[i-1],)\n",
    "print(S)\"\"\"\n",
    "\n",
    "# 2. Second Method\n",
    "A=tuple(map(int,input(\"Enter elements:\").split()))\n",
    "B=tuple(reversed(A))\n",
    "print(B)\n",
    "\n"
   ]
  },
  {
   "cell_type": "code",
   "execution_count": 1,
   "metadata": {},
   "outputs": [
    {
     "name": "stdout",
     "output_type": "stream",
     "text": [
      "20\n"
     ]
    }
   ],
   "source": [
    "### Access value 20 from the tuple\n",
    "tuple1 = (\"Orange\", [10, 20, 30], (5, 15, 25))\n",
    "print(tuple1[1][1])"
   ]
  },
  {
   "cell_type": "code",
   "execution_count": 2,
   "metadata": {},
   "outputs": [
    {
     "name": "stdout",
     "output_type": "stream",
     "text": [
      "(50,)\n"
     ]
    }
   ],
   "source": [
    "### Create a tuple with single item 50\n",
    "Tup=(50,)\n",
    "print(Tup)"
   ]
  },
  {
   "cell_type": "code",
   "execution_count": 1,
   "metadata": {},
   "outputs": [
    {
     "name": "stdout",
     "output_type": "stream",
     "text": [
      "<class 'str'>\n"
     ]
    }
   ],
   "source": [
    "fruits = (\"Orange\")\n",
    "print(type(fruits))"
   ]
  },
  {
   "cell_type": "code",
   "execution_count": 3,
   "metadata": {},
   "outputs": [
    {
     "name": "stdout",
     "output_type": "stream",
     "text": [
      "45\n",
      "78\n",
      "23\n",
      "21\n"
     ]
    }
   ],
   "source": [
    "### Unpack the tuple into 4 variables\n",
    "tup=(45,78,23,21)\n",
    "for i in tup:\n",
    "    print(i)"
   ]
  },
  {
   "cell_type": "code",
   "execution_count": 6,
   "metadata": {},
   "outputs": [
    {
     "name": "stdout",
     "output_type": "stream",
     "text": [
      "Tuple1: (99, 88)\n",
      "Tuple2: (11, 22)\n"
     ]
    }
   ],
   "source": [
    "### Swap two tuples in Python\n",
    "tuple1 = (11, 22)\n",
    "tuple2 = (99, 88)\n",
    "tuple1,tuple2 = tuple2, tuple1\n",
    "\n",
    "print(\"Tuple1:\",tuple1)\n",
    "print(\"Tuple2:\",tuple2)"
   ]
  },
  {
   "cell_type": "code",
   "execution_count": 7,
   "metadata": {},
   "outputs": [
    {
     "name": "stdout",
     "output_type": "stream",
     "text": [
      "Tuple2: (22, 33, 44)\n"
     ]
    }
   ],
   "source": [
    "### Copy specific elements from one tuple to a new tuple\n",
    "tuple1 = (11, 22, 33, 44, 55, 66)\n",
    "tuple2 = tuple1[1:4]\n",
    "print(\"Tuple2:\",tuple2)"
   ]
  },
  {
   "cell_type": "code",
   "execution_count": 17,
   "metadata": {},
   "outputs": [
    {
     "name": "stdout",
     "output_type": "stream",
     "text": [
      "(11, [222, 33], 44, 55)\n"
     ]
    }
   ],
   "source": [
    "### Modify the tuple\n",
    "tuple1 = (11, [22, 33], 44, 55)\n",
    "tuple1[1][0]=222\n",
    "print(tuple1)"
   ]
  },
  {
   "cell_type": "code",
   "execution_count": 18,
   "metadata": {},
   "outputs": [
    {
     "name": "stdout",
     "output_type": "stream",
     "text": [
      "2\n"
     ]
    }
   ],
   "source": [
    "### Count occurence of 50 in tuple:\n",
    "tuple1 = (50, 10, 60, 70, 50)\n",
    "c=0\n",
    "for i in range(len(tuple1)):\n",
    "    if tuple1[i]==50:\n",
    "        c+=1\n",
    "print(c)\n"
   ]
  },
  {
   "cell_type": "code",
   "execution_count": 28,
   "metadata": {},
   "outputs": [
    {
     "name": "stdout",
     "output_type": "stream",
     "text": [
      "True\n"
     ]
    }
   ],
   "source": [
    "### Check if all items in the tuple are the same\n",
    "tuple1 = (45,45,45,90)\n",
    "\n",
    "for i in tuple1:\n",
    "    if tuple1.count(i)>1:\n",
    "        print(\"True\")\n",
    "        break\n",
    "    else:\n",
    "        print(\"False\")\n",
    "        break\n"
   ]
  },
  {
   "cell_type": "code",
   "execution_count": 1,
   "metadata": {},
   "outputs": [
    {
     "name": "stdout",
     "output_type": "stream",
     "text": [
      "<class 'int'>\n"
     ]
    }
   ],
   "source": [
    "T1=(2)\n",
    "print(type(T1))"
   ]
  },
  {
   "cell_type": "code",
   "execution_count": 2,
   "metadata": {},
   "outputs": [
    {
     "name": "stdout",
     "output_type": "stream",
     "text": [
      "<class 'tuple'>\n"
     ]
    }
   ],
   "source": [
    "T2=(2,)\n",
    "print(type(T2))"
   ]
  },
  {
   "cell_type": "code",
   "execution_count": 3,
   "metadata": {},
   "outputs": [
    {
     "name": "stdout",
     "output_type": "stream",
     "text": [
      "('N', 'e', 'h', 'a')\n"
     ]
    }
   ],
   "source": [
    "T3=tuple(\"Neha\")\n",
    "print(T3)"
   ]
  },
  {
   "cell_type": "code",
   "execution_count": 4,
   "metadata": {},
   "outputs": [
    {
     "name": "stdout",
     "output_type": "stream",
     "text": [
      "1 2 3 4\n"
     ]
    }
   ],
   "source": [
    "### This is called unpacking of a tuple\n",
    "T=(1,2,3,4)\n",
    "a,b,c,d=T\n",
    "print(a,b,c,d)"
   ]
  },
  {
   "cell_type": "code",
   "execution_count": 5,
   "metadata": {},
   "outputs": [
    {
     "name": "stdout",
     "output_type": "stream",
     "text": [
      "(1, 2, 3, 4, 5, 6)\n"
     ]
    }
   ],
   "source": [
    "### Concatenation\n",
    "T1=(1,2,3,4)\n",
    "T2=(5,6)\n",
    "T=T1+T2\n",
    "print(T)"
   ]
  },
  {
   "cell_type": "code",
   "execution_count": 6,
   "metadata": {},
   "outputs": [
    {
     "name": "stdout",
     "output_type": "stream",
     "text": [
      "(1, 2, 3, 4, 1, 2, 3, 4)\n"
     ]
    }
   ],
   "source": [
    "### Multiplication\n",
    "T1=(1,2,3,4)\n",
    "print(T1*2)"
   ]
  },
  {
   "cell_type": "code",
   "execution_count": 7,
   "metadata": {},
   "outputs": [
    {
     "name": "stdout",
     "output_type": "stream",
     "text": [
      "3\n"
     ]
    }
   ],
   "source": [
    "### Count no. of times of an element in tuple\n",
    "T1=(1,2,3,4,2,7,5,2)\n",
    "print(T1.count(2))"
   ]
  },
  {
   "cell_type": "code",
   "execution_count": 8,
   "metadata": {},
   "outputs": [
    {
     "name": "stdout",
     "output_type": "stream",
     "text": [
      "5\n"
     ]
    }
   ],
   "source": [
    "### Finding index of an item in tuple\n",
    "T1=(1,2,3,4,2,7,5,2)\n",
    "print(T1.index(7))"
   ]
  },
  {
   "cell_type": "code",
   "execution_count": 23,
   "metadata": {},
   "outputs": [
    {
     "name": "stdout",
     "output_type": "stream",
     "text": [
      "[2, 5, 8, 10, 15]\n",
      "2 : 1\n",
      "5 : 2\n",
      "8 : 3\n",
      "10 : 4\n",
      "15 : 5\n"
     ]
    }
   ],
   "source": [
    "\n",
    "def unique_count(tup):\n",
    "    l=[]\n",
    "    c=0\n",
    "    k=list(set(tup))\n",
    "    print(k)\n",
    "    for i in k:\n",
    "        if i not in l:\n",
    "            c+=1\n",
    "        print(i,\":\",c)\n",
    "unique_count((10, 8, 5, 2, 10, 15, 10, 8, 5, 8, 8, 2))"
   ]
  }
 ],
 "metadata": {
  "kernelspec": {
   "display_name": "Python 3",
   "language": "python",
   "name": "python3"
  },
  "language_info": {
   "codemirror_mode": {
    "name": "ipython",
    "version": 3
   },
   "file_extension": ".py",
   "mimetype": "text/x-python",
   "name": "python",
   "nbconvert_exporter": "python",
   "pygments_lexer": "ipython3",
   "version": "3.11.5"
  }
 },
 "nbformat": 4,
 "nbformat_minor": 2
}
