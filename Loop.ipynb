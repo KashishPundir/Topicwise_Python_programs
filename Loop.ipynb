{
 "cells": [
  {
   "cell_type": "code",
   "execution_count": 1,
   "metadata": {},
   "outputs": [
    {
     "name": "stdout",
     "output_type": "stream",
     "text": [
      "['nirdesh', 3]\n"
     ]
    }
   ],
   "source": [
    "### Program to Show first two elements of a list\n",
    "l=[\"nirdesh\",3,5,\"ramesh\"]\n",
    "s=[]\n",
    "for i in l:\n",
    "    if i==\"nirdesh\" or i ==3:                  # else:\n",
    "        s.append(i)                            #      break  (give same output)\n",
    "print(s)"
   ]
  },
  {
   "cell_type": "code",
   "execution_count": 4,
   "metadata": {},
   "outputs": [
    {
     "name": "stdout",
     "output_type": "stream",
     "text": [
      "['nirdesh', 'ramesh']\n"
     ]
    }
   ],
   "source": [
    "### Progarm to print string type elements from list in a new list\n",
    "l=[\"nirdesh\",3,5,\"ramesh\"]\n",
    "s=[]\n",
    "for i in l:\n",
    "    if type(i)==str:                           # else:\n",
    "        s.append(i)                            #      break  (give same output)\n",
    "print(s)"
   ]
  },
  {
   "cell_type": "code",
   "execution_count": 6,
   "metadata": {},
   "outputs": [
    {
     "name": "stdout",
     "output_type": "stream",
     "text": [
      "nirdesh\n",
      "ramesh\n"
     ]
    }
   ],
   "source": [
    "### Program to show string type elements from list\n",
    "l=[\"nirdesh\",3,5,\"ramesh\"]\n",
    "for i in l:\n",
    "    if i==3 or i==5:\n",
    "        continue\n",
    "    print(i)"
   ]
  },
  {
   "cell_type": "code",
   "execution_count": 11,
   "metadata": {},
   "outputs": [
    {
     "name": "stdout",
     "output_type": "stream",
     "text": [
      "[2, 4, 6]\n"
     ]
    }
   ],
   "source": [
    "### Show even numberss within range in a list\n",
    "n=int(input(\"Enter a number:\"))\n",
    "l=[]\n",
    "for i in range(1,n+1):\n",
    "    if i%2==0:\n",
    "        l.append(i)\n",
    "print(l)"
   ]
  },
  {
   "cell_type": "code",
   "execution_count": 12,
   "metadata": {},
   "outputs": [
    {
     "name": "stdout",
     "output_type": "stream",
     "text": [
      "Sum of even numbers within range: 12\n"
     ]
    }
   ],
   "source": [
    "### Find sum of even numbers within the range\n",
    "n=int(input(\"Enter a number:\"))\n",
    "sum=0\n",
    "for i in range(1,n+1):\n",
    "    if i%2==0:\n",
    "        sum=sum+i\n",
    "print(\"Sum of even numbers within range:\",sum)"
   ]
  },
  {
   "cell_type": "code",
   "execution_count": 13,
   "metadata": {},
   "outputs": [
    {
     "name": "stdout",
     "output_type": "stream",
     "text": [
      "[2, 4, 6]\n"
     ]
    }
   ],
   "source": [
    "### Show even numbers in a list\n",
    "n=int(input(\"Enter number:\"))\n",
    "x=[i for i in range(1,n+1) if i%2==0]\n",
    "print(x)"
   ]
  },
  {
   "cell_type": "code",
   "execution_count": 15,
   "metadata": {},
   "outputs": [
    {
     "name": "stdout",
     "output_type": "stream",
     "text": [
      "2\n",
      "4\n",
      "6\n",
      "8\n",
      "10\n",
      "12\n"
     ]
    }
   ],
   "source": [
    "### Show each even elements within range\n",
    "n=int(input(\"Enter number:\"))\n",
    "x=[i for i in range(1,n+1) if i%2==0]\n",
    "for j in x:\n",
    "    print(j)"
   ]
  },
  {
   "cell_type": "code",
   "execution_count": 2,
   "metadata": {},
   "outputs": [
    {
     "name": "stdout",
     "output_type": "stream",
     "text": [
      "9 is not a prime number\n"
     ]
    }
   ],
   "source": [
    "### Check if number is prime or not\n",
    "n=int(input(\"Enter the number:\"))\n",
    "for i in range(2,n):\n",
    "    if n%i==0:\n",
    "        a=\"not a prime\"\n",
    "        break\n",
    "    else:\n",
    "        a=\"prime\"\n",
    "print(n,\"is\",a,\"number\")"
   ]
  },
  {
   "cell_type": "code",
   "execution_count": 20,
   "metadata": {},
   "outputs": [
    {
     "name": "stdout",
     "output_type": "stream",
     "text": [
      "1\n",
      "2\n",
      "Fizz\n",
      "4\n",
      "Buzz\n",
      "Fizz\n",
      "7\n",
      "8\n",
      "Fizz\n",
      "Buzz\n",
      "11\n",
      "Fizz\n",
      "13\n",
      "14\n",
      "Fizzbuzz\n",
      "16\n",
      "17\n",
      "Fizz\n",
      "19\n",
      "Buzz\n"
     ]
    }
   ],
   "source": [
    "### Conditional statement with appropriate message\n",
    "for i in range(1,21):\n",
    "    if i%3==0 and i%5==0:\n",
    "        print(\"Fizzbuzz\")\n",
    "    elif i%3==0:\n",
    "        print(\"Fizz\")\n",
    "    elif i%5==0:\n",
    "        print(\"Buzz\")\n",
    "    else:\n",
    "        print(i)"
   ]
  },
  {
   "cell_type": "code",
   "execution_count": 21,
   "metadata": {},
   "outputs": [
    {
     "name": "stdout",
     "output_type": "stream",
     "text": [
      "2\n"
     ]
    }
   ],
   "source": [
    "### Count vowels in a string\n",
    "c=0\n",
    "a=input(\"Enter any string:\")\n",
    "\n",
    "for i in a:\n",
    "    if i in (\"a\",\"e\",\"o\",\"u\",\"i\"):\n",
    "        c=c+1\n",
    "print(c)"
   ]
  },
  {
   "cell_type": "code",
   "execution_count": 22,
   "metadata": {},
   "outputs": [
    {
     "name": "stdout",
     "output_type": "stream",
     "text": [
      "['neha', 'himanshi', 'uma', 'shushma', 'giyan', 'goli', 'akshat', 'mimi', 'suryanshi', 'sahil']\n"
     ]
    }
   ],
   "source": [
    "### Create blank list and append 10 names by taking input from user\n",
    "l=[]\n",
    "for i in range(1,11):\n",
    "    name=input(\"Enter name:\")\n",
    "    l.append(name)\n",
    "print(l)"
   ]
  },
  {
   "cell_type": "code",
   "execution_count": 23,
   "metadata": {},
   "outputs": [
    {
     "name": "stdout",
     "output_type": "stream",
     "text": [
      "720\n"
     ]
    }
   ],
   "source": [
    "### Print Factorial of a number\n",
    "a=1\n",
    "n=int(input(\"Enter the number:\"))\n",
    "for i in range(1,n+1):\n",
    "    a=a*i\n",
    "print(a)"
   ]
  },
  {
   "cell_type": "code",
   "execution_count": 25,
   "metadata": {},
   "outputs": [
    {
     "name": "stdout",
     "output_type": "stream",
     "text": [
      "1\n",
      "3\n",
      "5\n",
      "7\n",
      "9\n",
      "11\n",
      "13\n",
      "15\n",
      "17\n",
      "19\n"
     ]
    }
   ],
   "source": [
    "### Print odd numbers from range \n",
    "for i in range(1,21):\n",
    "    if i%2!=0:\n",
    "        print(i)\n",
    "    else:\n",
    "        continue\n",
    "    "
   ]
  },
  {
   "cell_type": "code",
   "execution_count": 26,
   "metadata": {},
   "outputs": [
    {
     "name": "stdout",
     "output_type": "stream",
     "text": [
      "asha\n",
      "aarti\n"
     ]
    }
   ],
   "source": [
    "### Print student name which start from a\n",
    "L=[\"neha\",\"asha\",\"aarti\",\"vivan\"]\n",
    "for i in L:\n",
    "    if i[0]==\"a\" or i[0]==\"A\":\n",
    "        print(i)"
   ]
  },
  {
   "cell_type": "code",
   "execution_count": 27,
   "metadata": {},
   "outputs": [
    {
     "name": "stdout",
     "output_type": "stream",
     "text": [
      "[5, 6, 7, 2, 1]\n",
      "Sum of elements in a list: 21\n"
     ]
    }
   ],
   "source": [
    "### Sum of all numbers in a list\n",
    "a=list(map(int,input(\"Enter no.:\").split()))\n",
    "print(a)\n",
    "sum=0\n",
    "for i in a:\n",
    "    sum=sum+i\n",
    "print(\"Sum of elements in a list:\",sum)"
   ]
  },
  {
   "cell_type": "code",
   "execution_count": 28,
   "metadata": {},
   "outputs": [
    {
     "name": "stdout",
     "output_type": "stream",
     "text": [
      "['this', 'is', 'my', 'first', 'python', 'class']\n",
      "this\n",
      "is\n",
      "my\n",
      "python\n"
     ]
    }
   ],
   "source": [
    "### Print strings from list which has even number of letters\n",
    "a=\"this is my first python class\"\n",
    "s=a.split()\n",
    "print(s)\n",
    "for i in s:\n",
    "    if len(i)%2==0:\n",
    "        print(i)\n",
    "    else:\n",
    "        continue"
   ]
  },
  {
   "cell_type": "markdown",
   "metadata": {},
   "source": [
    "LAMBDA FUNCTION"
   ]
  },
  {
   "cell_type": "code",
   "execution_count": 7,
   "metadata": {},
   "outputs": [
    {
     "name": "stdout",
     "output_type": "stream",
     "text": [
      "12\n"
     ]
    }
   ],
   "source": [
    "x=lambda a,b,c:a+b+c\n",
    "print(x(4,6,2))"
   ]
  },
  {
   "cell_type": "code",
   "execution_count": 8,
   "metadata": {},
   "outputs": [
    {
     "name": "stdout",
     "output_type": "stream",
     "text": [
      "hi hello hey\n"
     ]
    }
   ],
   "source": [
    "x=lambda a,b,c:a+b+c\n",
    "print(x(\"hi \",\"hello \",\"hey\"))"
   ]
  },
  {
   "cell_type": "code",
   "execution_count": 9,
   "metadata": {},
   "outputs": [
    {
     "name": "stdout",
     "output_type": "stream",
     "text": [
      "22\n"
     ]
    }
   ],
   "source": [
    "x=lambda a:a+10\n",
    "print(x(12))"
   ]
  },
  {
   "cell_type": "code",
   "execution_count": 10,
   "metadata": {},
   "outputs": [
    {
     "name": "stdout",
     "output_type": "stream",
     "text": [
      "5.0\n"
     ]
    }
   ],
   "source": [
    "avg=lambda x,y:(x+y)/2\n",
    "print(avg(4,6))"
   ]
  }
 ],
 "metadata": {
  "kernelspec": {
   "display_name": "Python 3",
   "language": "python",
   "name": "python3"
  },
  "language_info": {
   "codemirror_mode": {
    "name": "ipython",
    "version": 3
   },
   "file_extension": ".py",
   "mimetype": "text/x-python",
   "name": "python",
   "nbconvert_exporter": "python",
   "pygments_lexer": "ipython3",
   "version": "3.11.5"
  }
 },
 "nbformat": 4,
 "nbformat_minor": 2
}
