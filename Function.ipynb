{
 "cells": [
  {
   "cell_type": "code",
   "execution_count": 11,
   "metadata": {},
   "outputs": [
    {
     "name": "stdout",
     "output_type": "stream",
     "text": [
      "[('neha', 5, 6.5)]\n"
     ]
    }
   ],
   "source": [
    "### Append elements in a list \n",
    "l=[]\n",
    "def add(*x):\n",
    "    l.append(x)\n",
    "    print(l)\n",
    "add(\"neha\",5,6.5)"
   ]
  },
  {
   "cell_type": "code",
   "execution_count": 1,
   "metadata": {},
   "outputs": [
    {
     "name": "stdout",
     "output_type": "stream",
     "text": [
      "7\n"
     ]
    }
   ],
   "source": [
    "### Add two numbers\n",
    "def add(x,y):\n",
    "    print (x+y)\n",
    "add(4,3)"
   ]
  },
  {
   "cell_type": "code",
   "execution_count": 3,
   "metadata": {},
   "outputs": [
    {
     "name": "stdout",
     "output_type": "stream",
     "text": [
      "\u001b[1;31mSignature:\u001b[0m \u001b[0mprint\u001b[0m\u001b[1;33m(\u001b[0m\u001b[1;33m*\u001b[0m\u001b[0margs\u001b[0m\u001b[1;33m,\u001b[0m \u001b[0msep\u001b[0m\u001b[1;33m=\u001b[0m\u001b[1;34m' '\u001b[0m\u001b[1;33m,\u001b[0m \u001b[0mend\u001b[0m\u001b[1;33m=\u001b[0m\u001b[1;34m'\\n'\u001b[0m\u001b[1;33m,\u001b[0m \u001b[0mfile\u001b[0m\u001b[1;33m=\u001b[0m\u001b[1;32mNone\u001b[0m\u001b[1;33m,\u001b[0m \u001b[0mflush\u001b[0m\u001b[1;33m=\u001b[0m\u001b[1;32mFalse\u001b[0m\u001b[1;33m)\u001b[0m\u001b[1;33m\u001b[0m\u001b[1;33m\u001b[0m\u001b[0m\n",
      "\u001b[1;31mDocstring:\u001b[0m\n",
      "Prints the values to a stream, or to sys.stdout by default.\n",
      "\n",
      "sep\n",
      "  string inserted between values, default a space.\n",
      "end\n",
      "  string appended after the last value, default a newline.\n",
      "file\n",
      "  a file-like object (stream); defaults to the current sys.stdout.\n",
      "flush\n",
      "  whether to forcibly flush the stream.\n",
      "\u001b[1;31mType:\u001b[0m      builtin_function_or_method"
     ]
    }
   ],
   "source": [
    "def greet():\n",
    "    \"\"\"\n",
    "    this is a function greet   # Docstring defines info about function used\n",
    "    \"\"\"\n",
    "    print(\"hi\")\n",
    "print?                # use of ? after function show docstring"
   ]
  },
  {
   "cell_type": "code",
   "execution_count": 2,
   "metadata": {},
   "outputs": [
    {
     "name": "stdout",
     "output_type": "stream",
     "text": [
      "\u001b[1;31mSignature:\u001b[0m \u001b[0mgreet\u001b[0m\u001b[1;33m(\u001b[0m\u001b[1;33m)\u001b[0m\u001b[1;33m\u001b[0m\u001b[1;33m\u001b[0m\u001b[0m\n",
      "\u001b[1;31mDocstring:\u001b[0m this is a function greet   # Docstring defines info about function used\n",
      "\u001b[1;31mFile:\u001b[0m      c:\\users\\hp\\appdata\\local\\temp\\ipykernel_4328\\1224609458.py\n",
      "\u001b[1;31mType:\u001b[0m      function"
     ]
    }
   ],
   "source": [
    "def greet():\n",
    "    \"\"\"\n",
    "    this is a function greet   # Docstring defines info about function used\n",
    "    \"\"\"\n",
    "    print(\"hi\")\n",
    "greet?                 # show doctring of greet function"
   ]
  },
  {
   "cell_type": "code",
   "execution_count": 3,
   "metadata": {},
   "outputs": [
    {
     "name": "stdout",
     "output_type": "stream",
     "text": [
      "7\n",
      "None <class 'NoneType'>\n"
     ]
    }
   ],
   "source": [
    "def add(a,b):\n",
    "    print(a+b)\n",
    "r=add(3,4)\n",
    "print(r,type(r))"
   ]
  },
  {
   "cell_type": "code",
   "execution_count": 4,
   "metadata": {},
   "outputs": [
    {
     "name": "stdout",
     "output_type": "stream",
     "text": [
      "7 <class 'int'>\n"
     ]
    }
   ],
   "source": [
    "def add(a,b):\n",
    "    return a+b\n",
    "r=add(3,4)\n",
    "print(r,type(r))"
   ]
  },
  {
   "cell_type": "code",
   "execution_count": 7,
   "metadata": {},
   "outputs": [
    {
     "name": "stdout",
     "output_type": "stream",
     "text": [
      "None <class 'NoneType'>\n"
     ]
    }
   ],
   "source": [
    "# If no return object then returns nonetype\n",
    "def func():\n",
    "    return\n",
    "# func()            # do not show anything\n",
    "c=func()\n",
    "print(c,type(c))"
   ]
  },
  {
   "cell_type": "code",
   "execution_count": 9,
   "metadata": {},
   "outputs": [
    {
     "name": "stdout",
     "output_type": "stream",
     "text": [
      "Before return\n"
     ]
    },
    {
     "data": {
      "text/plain": [
       "'hello'"
      ]
     },
     "execution_count": 9,
     "metadata": {},
     "output_type": "execute_result"
    }
   ],
   "source": [
    "def func():\n",
    "    print(\"Before return\")\n",
    "    return \"hello\"\n",
    "    print(\"After return\")\n",
    "func()"
   ]
  },
  {
   "cell_type": "code",
   "execution_count": 24,
   "metadata": {},
   "outputs": [
    {
     "name": "stdout",
     "output_type": "stream",
     "text": [
      "Before return\n",
      "hello\n"
     ]
    }
   ],
   "source": [
    "def func():\n",
    "    print(\"Before return\")\n",
    "    return \"hello\"\n",
    "    print(\"After return\")\n",
    "b=func()\n",
    "print(b)"
   ]
  },
  {
   "cell_type": "markdown",
   "metadata": {},
   "source": [
    "Scope of a variable : \n",
    "Global variable can be used anywhere in program.\n",
    "Local variable can be used locally inside a program(function)."
   ]
  },
  {
   "cell_type": "code",
   "execution_count": 25,
   "metadata": {},
   "outputs": [
    {
     "name": "stdout",
     "output_type": "stream",
     "text": [
      "5\n",
      "5\n"
     ]
    }
   ],
   "source": [
    "a=5\n",
    "def func():\n",
    "    print(a)\n",
    "func()\n",
    "print(a)"
   ]
  },
  {
   "cell_type": "code",
   "execution_count": 26,
   "metadata": {},
   "outputs": [
    {
     "name": "stdout",
     "output_type": "stream",
     "text": [
      "3\n",
      "5\n"
     ]
    },
    {
     "ename": "NameError",
     "evalue": "name 'x' is not defined",
     "output_type": "error",
     "traceback": [
      "\u001b[1;31m---------------------------------------------------------------------------\u001b[0m",
      "\u001b[1;31mNameError\u001b[0m                                 Traceback (most recent call last)",
      "\u001b[1;32mc:\\Users\\hp\\Desktop\\Python\\Function.ipynb Cell 12\u001b[0m line \u001b[0;36m7\n\u001b[0;32m      <a href='vscode-notebook-cell:/c%3A/Users/hp/Desktop/Python/Function.ipynb#X14sZmlsZQ%3D%3D?line=4'>5</a>\u001b[0m func()\n\u001b[0;32m      <a href='vscode-notebook-cell:/c%3A/Users/hp/Desktop/Python/Function.ipynb#X14sZmlsZQ%3D%3D?line=5'>6</a>\u001b[0m \u001b[39mprint\u001b[39m(a)\n\u001b[1;32m----> <a href='vscode-notebook-cell:/c%3A/Users/hp/Desktop/Python/Function.ipynb#X14sZmlsZQ%3D%3D?line=6'>7</a>\u001b[0m \u001b[39mprint\u001b[39m(x)\n",
      "\u001b[1;31mNameError\u001b[0m: name 'x' is not defined"
     ]
    }
   ],
   "source": [
    "a=5\n",
    "def func():\n",
    "    x=3\n",
    "    print(x)\n",
    "func()\n",
    "print(a)\n",
    "print(x)   # x value cannnot be access outside function\n",
    "           # That's why this gives error"
   ]
  },
  {
   "cell_type": "code",
   "execution_count": 27,
   "metadata": {},
   "outputs": [
    {
     "name": "stdout",
     "output_type": "stream",
     "text": [
      "20\n",
      "5\n"
     ]
    }
   ],
   "source": [
    "a=5\n",
    "def func():\n",
    "    a=20\n",
    "    print(a)\n",
    "func()\n",
    "print(a)"
   ]
  },
  {
   "cell_type": "code",
   "execution_count": 28,
   "metadata": {},
   "outputs": [
    {
     "name": "stdout",
     "output_type": "stream",
     "text": [
      "5\n",
      "20\n",
      "20\n"
     ]
    }
   ],
   "source": [
    "a=5\n",
    "def  func():\n",
    "    global a\n",
    "    a=20\n",
    "    print(a)\n",
    "print(a)\n",
    "func()\n",
    "print(a)"
   ]
  },
  {
   "cell_type": "markdown",
   "metadata": {},
   "source": [
    "LAMBDA FUNCTION"
   ]
  },
  {
   "cell_type": "code",
   "execution_count": 30,
   "metadata": {},
   "outputs": [
    {
     "data": {
      "text/plain": [
       "<function __main__.<lambda>(a, b)>"
      ]
     },
     "execution_count": 30,
     "metadata": {},
     "output_type": "execute_result"
    }
   ],
   "source": [
    "lambda a,b:a*b"
   ]
  },
  {
   "cell_type": "code",
   "execution_count": 33,
   "metadata": {},
   "outputs": [
    {
     "name": "stdout",
     "output_type": "stream",
     "text": [
      "12\n"
     ]
    },
    {
     "data": {
      "text/plain": [
       "12"
      ]
     },
     "execution_count": 33,
     "metadata": {},
     "output_type": "execute_result"
    }
   ],
   "source": [
    "print((lambda a,b:a*b)(3,4))\n",
    "(lambda a,b:a*b)(3,4)   # return same output"
   ]
  },
  {
   "cell_type": "code",
   "execution_count": 35,
   "metadata": {},
   "outputs": [
    {
     "name": "stdout",
     "output_type": "stream",
     "text": [
      "12 <class 'function'>\n"
     ]
    }
   ],
   "source": [
    "s=lambda a,b:a*b\n",
    "print(s(3,4))"
   ]
  },
  {
   "cell_type": "code",
   "execution_count": 41,
   "metadata": {},
   "outputs": [
    {
     "name": "stdout",
     "output_type": "stream",
     "text": [
      "5\n"
     ]
    }
   ],
   "source": [
    "\"\"\"def  large(a,b):\n",
    "    if a>b:\n",
    "        return a\n",
    "    else:\n",
    "        return b\n",
    "large(3,4)\"\"\"\n",
    "# METHOD 1 :(lambda a,b: a if a>b else b)(3,4)\n",
    "# METHOD 2:\n",
    "s=lambda a,b: a if a>b else b\n",
    "print(s(5,4))"
   ]
  },
  {
   "cell_type": "code",
   "execution_count": 51,
   "metadata": {},
   "outputs": [
    {
     "name": "stdout",
     "output_type": "stream",
     "text": [
      "[(12, 56), (13, 27), (4, 5)]\n"
     ]
    }
   ],
   "source": [
    "lst=[(12,56),(4,5),(13,27)]\n",
    "\"\"\"def u(x):\n",
    "    return x[1]\n",
    "lst.sort(key=u,reverse=True)\n",
    "print(lst)\"\"\"\n",
    "s=(lst.sort(key=lambda x :x[1],reverse=True))\n",
    "print(lst)"
   ]
  },
  {
   "cell_type": "code",
   "execution_count": 76,
   "metadata": {},
   "outputs": [
    {
     "name": "stdout",
     "output_type": "stream",
     "text": [
      "2 4 6 "
     ]
    }
   ],
   "source": [
    "# Que. Print even numbers from list using function\n",
    "input=[1,2,3,4,5,6]\n",
    "def even_odd():\n",
    "    for i in input:\n",
    "        if i%2==0:\n",
    "            print(i,end=\" \") \n",
    "even_odd()\n"
   ]
  },
  {
   "cell_type": "code",
   "execution_count": 77,
   "metadata": {},
   "outputs": [
    {
     "name": "stdout",
     "output_type": "stream",
     "text": [
      " 2  4  6 "
     ]
    }
   ],
   "source": [
    "# Que. Print even numbers from list using lambda function\n",
    "input=[1,2,3,4,5,6]\n",
    "for i in input:\n",
    "    s=lambda i:i if i%2==0 else \"\"\n",
    "    print(s(i),end =\" \")"
   ]
  },
  {
   "cell_type": "code",
   "execution_count": 80,
   "metadata": {},
   "outputs": [
    {
     "name": "stdout",
     "output_type": "stream",
     "text": [
      "[1, 2, 3, 4]\n"
     ]
    }
   ],
   "source": [
    "# Que.Print new list having unique numbers from given list\n",
    "input=[1,2,3,4,2,4]\n",
    "output=[]\n",
    "def no_redundancy():\n",
    "    for i in input:\n",
    "        if i  not in output:\n",
    "            output.append(i)\n",
    "no_redundancy()\n",
    "print(output)"
   ]
  },
  {
   "cell_type": "markdown",
   "metadata": {},
   "source": [
    "Argument and parameters:"
   ]
  },
  {
   "cell_type": "code",
   "execution_count": 81,
   "metadata": {},
   "outputs": [
    {
     "name": "stdout",
     "output_type": "stream",
     "text": [
      "Hello Sujata\n"
     ]
    }
   ],
   "source": [
    "def greet(name):  # Parameter\n",
    "    print(\"Hello\",name)\n",
    "greet(\"Sujata\")   # Arguments\n"
   ]
  },
  {
   "cell_type": "code",
   "execution_count": 83,
   "metadata": {},
   "outputs": [
    {
     "name": "stdout",
     "output_type": "stream",
     "text": [
      "Welcome Emma\n",
      "Your age is 24\n"
     ]
    }
   ],
   "source": [
    "# POSITIONAL ARGUMENTS:The value you pass when calling a function are matched according to their position.\n",
    "def info(name,age):\n",
    "    print(\"Welcome\",name)\n",
    "    print(\"Your age is\",age)\n",
    "info(\"Emma\",24)                # if you write as:info(24,\"Emma\") so output will be  Welcome 24 /n Your age is Emma"
   ]
  },
  {
   "cell_type": "code",
   "execution_count": 86,
   "metadata": {},
   "outputs": [
    {
     "name": "stdout",
     "output_type": "stream",
     "text": [
      "Welcome Emma\n",
      "Your age is 45\n",
      "Welcome Emma\n",
      "Your age is 35\n"
     ]
    }
   ],
   "source": [
    "# DEFAULT ARGUMENTS:\n",
    "# 1.Giving default values to parameters\n",
    "# 2.For these paarameters paassing value in arguments is optional\n",
    "def info(name,age=45):\n",
    "    print(\"Welcome\",name)\n",
    "    print(\"Your age is\",age)\n",
    "info(\"Emma\")\n",
    "def info(name,age=45):\n",
    "    print(\"Welcome\",name)\n",
    "    print(\"Your age is\",age)\n",
    "info(\"Emma\",35)                # 35 value overlaps with default value of age 45"
   ]
  },
  {
   "cell_type": "code",
   "execution_count": 90,
   "metadata": {},
   "outputs": [
    {
     "name": "stdout",
     "output_type": "stream",
     "text": [
      "Welcome EMMA\n",
      "Your age is 45\n"
     ]
    }
   ],
   "source": [
    "# position of default and non default arguments\n",
    "\"\"\"def info(name=\"himanshi\",age):   # ERROR: non-default argument follows default argument\n",
    "    print(\"Welcome\",name)\n",
    "    print(\"Your age is\",age)\n",
    "info(45)\"\"\"\n",
    "def info(name,age=45):  \n",
    "    print(\"Welcome\",name)\n",
    "    print(\"Your age is\",age)\n",
    "info(\"EMMA\")"
   ]
  },
  {
   "cell_type": "code",
   "execution_count": 98,
   "metadata": {},
   "outputs": [
    {
     "name": "stdout",
     "output_type": "stream",
     "text": [
      "(2, 4, 'rahul', 3.6)\n",
      "2\n",
      "4\n",
      "rahul\n",
      "3.6\n"
     ]
    }
   ],
   "source": [
    "# ARBITARY ARGUMENTS:Used when number of value you want to pass is not known.Here, values are being stored as tuple\n",
    "def test(*args):\n",
    "    print(args)\n",
    "    for i in args:\n",
    "        print(i)\n",
    "test(2, 4, \"rahul\",3.6)\n"
   ]
  },
  {
   "cell_type": "code",
   "execution_count": 100,
   "metadata": {},
   "outputs": [
    {
     "name": "stdout",
     "output_type": "stream",
     "text": [
      "{'name': 'Emma', 'age': 45}\n",
      "name:Emma\n",
      "age:45\n"
     ]
    }
   ],
   "source": [
    "# KEYWORDD ARGUMENTS: stored data in dictionary format\n",
    "def text(**kwargs):\n",
    "    print(kwargs)\n",
    "    for key,value in kwargs.items():\n",
    "        print(key,value,sep=\":\")\n",
    "text(name=\"Emma\",age=45)"
   ]
  },
  {
   "cell_type": "code",
   "execution_count": 103,
   "metadata": {},
   "outputs": [
    {
     "name": "stdout",
     "output_type": "stream",
     "text": [
      "2 3 4\n",
      "45\n",
      "(4, 6, 1)\n",
      "{'name': 'Heena', 'Hobby': 'Cycling'}\n"
     ]
    }
   ],
   "source": [
    "def mix(a,b,c,age=34,*args,**kwargs):\n",
    "    print(a,b,c)\n",
    "    print(age)\n",
    "    print(args)\n",
    "    print(kwargs)\n",
    "mix(2,3,4,45,4,6,1,name=\"Heena\",Hobby=\"Cycling\")"
   ]
  },
  {
   "cell_type": "code",
   "execution_count": null,
   "metadata": {},
   "outputs": [],
   "source": [
    "# error codes\n",
    "def mix(**kwargs,*args):   #Error: arguments cannot follow var-keyword argument\n",
    "    print(args)\n",
    "    print(kwargs)\n",
    "mix(name=\"Heena\",3,5,1)"
   ]
  }
 ],
 "metadata": {
  "kernelspec": {
   "display_name": "Python 3",
   "language": "python",
   "name": "python3"
  },
  "language_info": {
   "codemirror_mode": {
    "name": "ipython",
    "version": 3
   },
   "file_extension": ".py",
   "mimetype": "text/x-python",
   "name": "python",
   "nbconvert_exporter": "python",
   "pygments_lexer": "ipython3",
   "version": "3.11.5"
  }
 },
 "nbformat": 4,
 "nbformat_minor": 2
}
