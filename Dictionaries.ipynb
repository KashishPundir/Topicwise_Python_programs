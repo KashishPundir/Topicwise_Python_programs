{
 "cells": [
  {
   "cell_type": "code",
   "execution_count": 4,
   "metadata": {},
   "outputs": [
    {
     "name": "stdout",
     "output_type": "stream",
     "text": [
      "{'Apple': 100, 'Grapes': 120, 'Banana': 80, 'Guava': 90}\n"
     ]
    }
   ],
   "source": [
    "### zip function to create a dictionary\n",
    "Name=(\"Apple\",\"Grapes\",\"Banana\",\"Guava\")\n",
    "Price=(100,120,80,90)\n",
    "fruit=dict(zip(Name,Price))\n",
    "print(fruit)"
   ]
  },
  {
   "cell_type": "code",
   "execution_count": 1,
   "metadata": {},
   "outputs": [
    {
     "name": "stdout",
     "output_type": "stream",
     "text": [
      "{'emp1': {'name': 'Jhon', 'salary': 7500}, 'emp2': {'name': 'Emma', 'salary': 8000}, 'emp3': {'name': 'Brad', 'salary': 8500}}\n"
     ]
    }
   ],
   "source": [
    "### Change value of a key in nested dictionaries\n",
    "dict = {\n",
    "    'emp1': {'name': 'Jhon', 'salary': 7500},\n",
    "    'emp2': {'name': 'Emma', 'salary': 8000},\n",
    "    'emp3': {'name': 'Brad', 'salary': 500}\n",
    "}\n",
    "dict[\"emp3\"][\"salary\"]=8500\n",
    "print(dict)"
   ]
  },
  {
   "cell_type": "code",
   "execution_count": 3,
   "metadata": {},
   "outputs": [
    {
     "name": "stdout",
     "output_type": "stream",
     "text": [
      "300 is present at key c\n"
     ]
    }
   ],
   "source": [
    "### Check if a value exists in a dictionary\n",
    "dict = {'a': 100, 'b': 200, 'c': 300}\n",
    "a=int(input(\"Enter the value of dict which u want to check:\"))\n",
    "for i in dict:\n",
    "    if dict[i]==a:\n",
    "        print(a,\"is present at key\",i)"
   ]
  },
  {
   "cell_type": "code",
   "execution_count": 4,
   "metadata": {},
   "outputs": [
    {
     "name": "stdout",
     "output_type": "stream",
     "text": [
      "{'Ten': 10, 'Twenty': 20, 'Thirty': 30}\n"
     ]
    }
   ],
   "source": [
    "### Put two lists of key and value in dictionary\n",
    "keys = ['Ten', 'Twenty', 'Thirty']\n",
    "values = [10, 20, 30]\n",
    "dict={}\n",
    "\n",
    "for i in range(len(keys)):\n",
    "    dict[keys[i]] = values[i]\n",
    "print(dict)"
   ]
  },
  {
   "cell_type": "code",
   "execution_count": 5,
   "metadata": {},
   "outputs": [
    {
     "name": "stdout",
     "output_type": "stream",
     "text": [
      "{'name': 'Kelly', 'salary': 8000}\n"
     ]
    }
   ],
   "source": [
    "### Create a dictionary by extracting some keys from given dictionary\n",
    "dict = {\"name\": \"Kelly\",\"age\": 25,\"salary\": 8000,\"city\": \"New york\"}\n",
    "n_dict={}\n",
    "for i in dict:\n",
    "    if i==\"name\" or i==\"salary\":\n",
    "        n_dict.update({i:dict[i]})\n",
    "print(n_dict)"
   ]
  },
  {
   "cell_type": "code",
   "execution_count": 6,
   "metadata": {},
   "outputs": [
    {
     "name": "stdout",
     "output_type": "stream",
     "text": [
      "{'1': 'Monday', '2': 'Tuesday', '3': 'Wednesday'}\n"
     ]
    }
   ],
   "source": [
    "### Creation of dictionary\n",
    "d={}\n",
    "a=int(input(\"Enter no. of items u want in dictionary\"))\n",
    "for i in range(1,a+1):\n",
    "    key=input(\"Enter key:\")\n",
    "    value=input(\"Enter value\")\n",
    "    d.update({key:value})\n",
    "print(d)"
   ]
  },
  {
   "cell_type": "code",
   "execution_count": 7,
   "metadata": {},
   "outputs": [
    {
     "name": "stdout",
     "output_type": "stream",
     "text": [
      "{'age': 25, 'city': 'New york'}\n"
     ]
    }
   ],
   "source": [
    "### Delete a list of keys from dictionaries\n",
    "dict = {\"name\": \"Kelly\",\"age\": 25,\"salary\": 8000,\"city\": \"New york\"}\n",
    "keys=[\"name\",\"salary\"]\n",
    "\n",
    "for j in keys:\n",
    "     dict.pop(j)\n",
    "print(dict)"
   ]
  },
  {
   "cell_type": "code",
   "execution_count": 8,
   "metadata": {},
   "outputs": [
    {
     "name": "stdout",
     "output_type": "stream",
     "text": [
      "10\n",
      "6\n"
     ]
    }
   ],
   "source": [
    "###  Sum of keys and values in a dictionary\n",
    "# To find the sum of keys \n",
    "a={1:\"mon\", 2:\"tue\", 3:\"wed\", 4:\"thu\"}\n",
    "print(sum(a))\n",
    "# To find the sum of values\n",
    "b={\"mon\": 1, \"tue\": 2, \"wed\":3}\n",
    "print(sum(b.values()))"
   ]
  },
  {
   "cell_type": "code",
   "execution_count": 9,
   "metadata": {},
   "outputs": [
    {
     "name": "stdout",
     "output_type": "stream",
     "text": [
      "Math\n"
     ]
    }
   ],
   "source": [
    "### Get the key of minimum value from given dictionary\n",
    "dict = {\n",
    "  'Physics': 82,\n",
    "  'Math': 65,\n",
    "  'history': 75\n",
    "}\n",
    "a=min(dict.values())\n",
    "\n",
    "for i in dict:\n",
    "    if dict.get(i)==a:\n",
    "        print(i)"
   ]
  },
  {
   "cell_type": "code",
   "execution_count": 10,
   "metadata": {},
   "outputs": [
    {
     "name": "stdout",
     "output_type": "stream",
     "text": [
      "{'Kelly': {'designation': 'Developer', 'salary': 8000}, 'Emma': {'designation': 'Developer', 'salary': 8000}}\n"
     ]
    }
   ],
   "source": [
    "### Initalize dictionary with default values\n",
    "employees = ['Kelly', 'Emma']\n",
    "defaults = {\"designation\": 'Developer', \"salary\": 8000}\n",
    "dict={}\n",
    "for i in range(len(employees)):\n",
    "    dict.update({employees[i]:defaults})\n",
    "print(dict)"
   ]
  },
  {
   "cell_type": "code",
   "execution_count": 11,
   "metadata": {},
   "outputs": [
    {
     "name": "stdout",
     "output_type": "stream",
     "text": [
      "{1: 'mon', 2: 'tue', 3: 'wed', 4: 'thu', 5: 'fri', 6: 'sat', 7: 'sun'}\n"
     ]
    }
   ],
   "source": [
    "### Merging two dictionaries\n",
    "dict_1={1:\"mon\",2:\"tue\",3:\"wed\",4:\"thu\"}\n",
    "dict_2={5:\"fri\",6:\"sat\",7:\"sun\"}\n",
    "dict_1.update(dict_2)\n",
    "print(dict_1)"
   ]
  },
  {
   "cell_type": "code",
   "execution_count": 12,
   "metadata": {},
   "outputs": [
    {
     "name": "stdout",
     "output_type": "stream",
     "text": [
      "80\n"
     ]
    }
   ],
   "source": [
    "### Print value of key \"history\" from given dictionary\n",
    "Dict = {\"class\": {\"student\": {\"name\": \"Mike\",\"marks\": {\"physics\": 70,\"history\": 80}}}}\n",
    "s=Dict[\"class\"][\"student\"][\"marks\"][\"history\"]\n",
    "print(s)"
   ]
  },
  {
   "cell_type": "code",
   "execution_count": 13,
   "metadata": {},
   "outputs": [
    {
     "name": "stdout",
     "output_type": "stream",
     "text": [
      "tue\n",
      "{1: 'mon', 3: 'wed', 4: 'thu'}\n"
     ]
    }
   ],
   "source": [
    "### Remving a key from dictionary\n",
    "a={1:\"mon\", 2:\"tue\", 3:\"wed\", 4:\"thu\"}\n",
    "k=int(input(\"Enter the key whivh u want to remove:\"))\n",
    "s=a.pop(k)\n",
    "print(s)\n",
    "print(a)"
   ]
  },
  {
   "cell_type": "code",
   "execution_count": 14,
   "metadata": {},
   "outputs": [
    {
     "name": "stdout",
     "output_type": "stream",
     "text": [
      "{'name': 'Kelly', 'age': 25, 'salary': 8000}\n",
      "{'name': 'Kelly', 'age': 25, 'salary': 8000, 'location': 'New york'}\n"
     ]
    }
   ],
   "source": [
    "###  Rename a key of dictionary\n",
    "dict = {\n",
    "  \"name\": \"Kelly\",\n",
    "  \"age\":25,\n",
    "  \"salary\": 8000,\n",
    "  \"city\": \"New york\"\n",
    "}\n",
    "dict.pop(\"city\")\n",
    "print(dict)\n",
    "dict.update({\"location\":\"New york\"})\n",
    "print(dict)"
   ]
  },
  {
   "cell_type": "code",
   "execution_count": 6,
   "metadata": {},
   "outputs": [
    {
     "name": "stdout",
     "output_type": "stream",
     "text": [
      "Not available\n"
     ]
    }
   ],
   "source": [
    "# Get method ----- To find value of a key from dictionary\n",
    "fruit={'Apple': 100, 'Grapes': 120, 'Banana': 80, 'Guava': 90}\n",
    "print(fruit.get(\"Mango\",\"Not available\"))"
   ]
  },
  {
   "cell_type": "code",
   "execution_count": 8,
   "metadata": {},
   "outputs": [
    {
     "name": "stdout",
     "output_type": "stream",
     "text": [
      "100\n",
      "{'Grapes': 120, 'Banana': 80, 'Guava': 90}\n"
     ]
    }
   ],
   "source": [
    "### pop function\n",
    "fruit={'Apple': 100, 'Grapes': 120, 'Banana': 80, 'Guava': 90}\n",
    "print(fruit.pop(\"Apple\"))\n",
    "print(fruit)"
   ]
  },
  {
   "cell_type": "code",
   "execution_count": 12,
   "metadata": {},
   "outputs": [
    {
     "name": "stdout",
     "output_type": "stream",
     "text": [
      "('Guava', 90)\n",
      "{'Apple': 100, 'Grapes': 120, 'Banana': 80}\n"
     ]
    }
   ],
   "source": [
    "### popitem function --- It can remove last element only\n",
    "fruit={'Apple': 100, 'Grapes': 120, 'Banana': 80, 'Guava': 90}\n",
    "print(fruit.popitem())\n",
    "print(fruit)"
   ]
  },
  {
   "cell_type": "code",
   "execution_count": null,
   "metadata": {},
   "outputs": [],
   "source": [
    "### del function remove all elements and destroy dictionary\n",
    "fruit={'Apple': 100, 'Grapes': 120, 'Banana': 80, 'Guava': 90}\n",
    "del fruit         \n",
    "print(fruit)     # Gives error"
   ]
  },
  {
   "cell_type": "code",
   "execution_count": 17,
   "metadata": {},
   "outputs": [
    {
     "name": "stdout",
     "output_type": "stream",
     "text": [
      "{'h': 2, 'i': 2, 'm': 1, 'a': 1, 'n': 1, 's': 1}\n"
     ]
    }
   ],
   "source": [
    "### Count frequency of each word of string and show in dictionary\n",
    "freq={}\n",
    "n=input(\"Enter a string:\")\n",
    "for i in n:\n",
    "    if i not in freq:\n",
    "        freq[i]=1\n",
    "    else:\n",
    "        freq[i]+=1\n",
    "print(freq)\n"
   ]
  }
 ],
 "metadata": {
  "kernelspec": {
   "display_name": "Python 3",
   "language": "python",
   "name": "python3"
  },
  "language_info": {
   "codemirror_mode": {
    "name": "ipython",
    "version": 3
   },
   "file_extension": ".py",
   "mimetype": "text/x-python",
   "name": "python",
   "nbconvert_exporter": "python",
   "pygments_lexer": "ipython3",
   "version": "3.11.5"
  }
 },
 "nbformat": 4,
 "nbformat_minor": 2
}
