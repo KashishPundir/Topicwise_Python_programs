{
 "cells": [
  {
   "cell_type": "markdown",
   "metadata": {},
   "source": [
    "# MARKDOWN FEATURES:\n",
    "*NUMPY* OR  _NUMPY_ ----> Using single star OR underscore shows italic format of string\n",
    "# NUMPY  ----> Use of single hash \"#\" in starting of word gives blue colour to string\n",
    "** NUMPY ** ----> Use of double asterisk makes the word bold."
   ]
  },
  {
   "cell_type": "code",
   "execution_count": 1,
   "metadata": {},
   "outputs": [
    {
     "name": "stdout",
     "output_type": "stream",
     "text": [
      "1.26.1\n"
     ]
    }
   ],
   "source": [
    "import numpy as np\n",
    "print(np.__version__)"
   ]
  },
  {
   "cell_type": "code",
   "execution_count": 1,
   "metadata": {},
   "outputs": [
    {
     "name": "stdout",
     "output_type": "stream",
     "text": [
      "[1 2 3]\n"
     ]
    }
   ],
   "source": [
    "# 1D array ----> Called as Vector\n",
    "import numpy as np\n",
    "arr = np.array([1, 2, 3])         # arr = np.array((1, 2, 3)) \n",
    "print(arr)\n",
    "  "
   ]
  },
  {
   "cell_type": "code",
   "execution_count": 1,
   "metadata": {},
   "outputs": [
    {
     "name": "stdout",
     "output_type": "stream",
     "text": [
      "[[1 2 3]\n",
      " [4 5 6]] <class 'numpy.ndarray'>\n",
      "[ 0  1  2  3  4  5  6  7  8  9 10 11 12 13 14 15 16 17 18 19]\n",
      "6\n",
      "[1 2 3]\n"
     ]
    }
   ],
   "source": [
    "# 2D array ----> Called as Matrix\n",
    "import numpy as np\n",
    "arr = np.array([[1,2,3],           #arr = np.array(((1,2,3),(4,5,6,))) \n",
    "               [4,5,6]]) \n",
    "print(arr,type(arr))\n",
    "print(np.arange(20))\n",
    "print(arr[1][2])     # print(arr[1,2])\n",
    "print(arr[0])"
   ]
  },
  {
   "cell_type": "code",
   "execution_count": 4,
   "metadata": {},
   "outputs": [
    {
     "name": "stdout",
     "output_type": "stream",
     "text": [
      "<class 'dict'>\n",
      "{'Ram': 23, 'Sham': 24}\n",
      "<class 'numpy.ndarray'>\n"
     ]
    }
   ],
   "source": [
    "b={\"Ram\":23,\"Sham\":24}\n",
    "print(type(b))\n",
    "a=np.array(b)\n",
    "print(a)\n",
    "print(type(a))"
   ]
  },
  {
   "cell_type": "code",
   "execution_count": 9,
   "metadata": {},
   "outputs": [
    {
     "name": "stdout",
     "output_type": "stream",
     "text": [
      "[[[ 1  2  3  4]\n",
      "  [ 5  6  7  8]]\n",
      "\n",
      " [[ 9 10 11 12]\n",
      "  [13 14 15 16]]\n",
      "\n",
      " [[17 18 19 20]\n",
      "  [21 22 23 24]]]\n",
      "10\n",
      "[ 9 10 11 12]\n"
     ]
    }
   ],
   "source": [
    "# nD Array ----> Called as Tensor\n",
    "# 3D array \n",
    "import numpy as np\n",
    "c=np.array([[[1,2,3,4],[5,6,7,8]],\n",
    "           [[9,10,11,12],[13,14,15,16]],\n",
    "           [[17,18,19,20],[21,22,23,24]]])\n",
    "print(c)\n",
    "print(c[1,0,1])     # print(c[1][0][1])\n",
    "print(c[1][0])"
   ]
  },
  {
   "cell_type": "markdown",
   "metadata": {},
   "source": [
    "# Why it is useful:\n",
    "Memory efficent container that provide fast numerical operations.\n",
    "----> Here, array takes certainly less time to execute than list."
   ]
  },
  {
   "cell_type": "code",
   "execution_count": 11,
   "metadata": {},
   "outputs": [
    {
     "name": "stdout",
     "output_type": "stream",
     "text": [
      "7.02 µs ± 206 ns per loop (mean ± std. dev. of 7 runs, 100,000 loops each)\n"
     ]
    }
   ],
   "source": [
    "l=range(100)\n",
    "%timeit [i**2 for i in l]"
   ]
  },
  {
   "cell_type": "code",
   "execution_count": 12,
   "metadata": {},
   "outputs": [
    {
     "name": "stdout",
     "output_type": "stream",
     "text": [
      "718 ns ± 20.8 ns per loop (mean ± std. dev. of 7 runs, 1,000,000 loops each)\n"
     ]
    }
   ],
   "source": [
    "import numpy as np;\n",
    "arr=np.arange(100)\n",
    "%timeit arr**2"
   ]
  },
  {
   "cell_type": "markdown",
   "metadata": {},
   "source": [
    "# BASIC FUNCTIONS OF ARRAY:"
   ]
  },
  {
   "cell_type": "code",
   "execution_count": 3,
   "metadata": {},
   "outputs": [
    {
     "name": "stdout",
     "output_type": "stream",
     "text": [
      "Dimension: 2 D\n",
      "Dimension: 3 D\n",
      "Dimension: 5 D\n"
     ]
    }
   ],
   "source": [
    "# 1.Finding dimension of array using ndim function\n",
    "import numpy as np;\n",
    "a=np.array([[4,8,2,9,1],\n",
    "           [4,8,2,9,1]])\n",
    "s=np.array([[[12]]])\n",
    "k=np.array([[[12]]],ndmin=5)\n",
    "print(\"Dimension:\",a.ndim,\"D\")\n",
    "print(\"Dimension:\",s.ndim,\"D\")\n",
    "print(\"Dimension:\",k.ndim,\"D\")"
   ]
  },
  {
   "cell_type": "code",
   "execution_count": 25,
   "metadata": {},
   "outputs": [
    {
     "name": "stdout",
     "output_type": "stream",
     "text": [
      "(5,)\n",
      "(2, 4)\n",
      "(3, 1, 5)\n",
      "5 2 3\n"
     ]
    }
   ],
   "source": [
    "# 2. shape function returns: A tuple whose elements give the lengths of the corresponding array dimensions. \n",
    "import numpy as np;\n",
    "a=np.array([4,8,2,9,1])\n",
    "b=np.array([[4,8,2,9],\n",
    "           [4,8,2,9]])\n",
    "c=np.array([[[4,8,2,9,1]],\n",
    "            [[4,8,2,9,1]],\n",
    "            [[4,8,2,9,1]]])\n",
    "print(a.shape) \n",
    "print(b.shape) \n",
    "print(c.shape) \n",
    "print(len(a), len(b),len(c))"
   ]
  },
  {
   "cell_type": "code",
   "execution_count": 28,
   "metadata": {},
   "outputs": [
    {
     "name": "stdout",
     "output_type": "stream",
     "text": [
      "[1 3 5 7 9]\n"
     ]
    }
   ],
   "source": [
    "# 3. arange function having parameters as(start, end(exclusive),step)\n",
    "import numpy as np\n",
    "a=np.arange(1,10,2)\n",
    "print(a)"
   ]
  },
  {
   "cell_type": "code",
   "execution_count": 30,
   "metadata": {},
   "outputs": [
    {
     "name": "stdout",
     "output_type": "stream",
     "text": [
      "[0.  0.2 0.4 0.6 0.8 1. ]\n",
      "[1.         1.13793103 1.27586207 1.4137931  1.55172414 1.68965517\n",
      " 1.82758621 1.96551724 2.10344828 2.24137931 2.37931034 2.51724138\n",
      " 2.65517241 2.79310345 2.93103448 3.06896552 3.20689655 3.34482759\n",
      " 3.48275862 3.62068966 3.75862069 3.89655172 4.03448276 4.17241379\n",
      " 4.31034483 4.44827586 4.5862069  4.72413793 4.86206897 5.        ]\n"
     ]
    }
   ],
   "source": [
    "# 4. np.linspace(start,stop,number of values) function returns number spaces evenly w.r.t interval.here,6 is the interval\n",
    "import numpy as np\n",
    "a=np.linspace(0,1,6)    # (1-0)/5\n",
    "b=np.linspace(1,5,30)   # (5-1)/29\n",
    "print(a)\n",
    "print(b)"
   ]
  },
  {
   "cell_type": "code",
   "execution_count": 41,
   "metadata": {},
   "outputs": [
    {
     "name": "stdout",
     "output_type": "stream",
     "text": [
      "[[1 1 1]\n",
      " [1 1 1]] \n",
      "\n",
      "[[1. 1. 1.]\n",
      " [1. 1. 1.]] \n",
      "\n",
      "[[1. 1. 1.]\n",
      " [1. 1. 1.]\n",
      " [1. 1. 1.]] \n",
      "\n",
      "[[1. 1.]\n",
      " [1. 1.]\n",
      " [1. 1.]]\n"
     ]
    }
   ],
   "source": [
    "# 5. np.ones() function will return an array of number 1 acc. to intervals written(We can give values in list or tuple)\n",
    "import numpy as np;\n",
    "a=np.ones([3,3])\n",
    "b=np.ones((2,3),dtype=int)\n",
    "print(b,\"\\n\")\n",
    "b=np.ones((2,3),dtype=float)    # 1. means 1.0\n",
    "print(b,\"\\n\")\n",
    "c=np.ones((3,2))\n",
    "print(a,\"\\n\")\n",
    "print(c)"
   ]
  },
  {
   "cell_type": "code",
   "execution_count": 42,
   "metadata": {},
   "outputs": [
    {
     "name": "stdout",
     "output_type": "stream",
     "text": [
      "[[0 0 0]\n",
      " [0 0 0]] \n",
      "\n",
      "[[0. 0. 0.]\n",
      " [0. 0. 0.]] \n",
      "\n",
      "[[0. 0. 0.]\n",
      " [0. 0. 0.]\n",
      " [0. 0. 0.]] \n",
      "\n",
      "[[0. 0.]\n",
      " [0. 0.]\n",
      " [0. 0.]]\n"
     ]
    }
   ],
   "source": [
    "# 6. np.zeros() function will return an array of number 0 acc. to intervals written(We can give values in list or tuple)\n",
    "import numpy as np;\n",
    "a=np.zeros([3,3])\n",
    "b=np.zeros((2,3),dtype=int)\n",
    "print(b,\"\\n\")\n",
    "b=np.zeros((2,3),dtype=float)    # 0. means 0.0\n",
    "print(b,\"\\n\")\n",
    "c=np.zeros((3,2))\n",
    "print(a,\"\\n\")\n",
    "print(c)"
   ]
  },
  {
   "cell_type": "code",
   "execution_count": 2,
   "metadata": {},
   "outputs": [
    {
     "name": "stdout",
     "output_type": "stream",
     "text": [
      "[[1. 0. 0. 0.]\n",
      " [0. 1. 0. 0.]\n",
      " [0. 0. 1. 0.]\n",
      " [0. 0. 0. 1.]] \n",
      "\n",
      "[[1. 0. 0.]\n",
      " [0. 1. 0.]\n",
      " [0. 0. 1.]] \n",
      "\n",
      "[[1. 0.]\n",
      " [0. 1.]\n",
      " [0. 0.]]\n"
     ]
    }
   ],
   "source": [
    "# 7. np.eye() function returns 2D array have one on diagonal and zero elsewhere\n",
    "import numpy as np;\n",
    "a=np.eye(4)              # np.identity(4) also works same\n",
    "b=np.eye(3)\n",
    "c=np.eye(3,2)  # 3 is no. of rows and 2 is no. of columns\n",
    "print(a,\"\\n\")\n",
    "print(b,\"\\n\")\n",
    "print(c)          # it is not identity matrix"
   ]
  },
  {
   "cell_type": "code",
   "execution_count": 4,
   "metadata": {},
   "outputs": [
    {
     "name": "stdout",
     "output_type": "stream",
     "text": [
      "[[1 0 0 0]\n",
      " [0 2 0 0]\n",
      " [0 0 3 0]\n",
      " [0 0 0 4]] \n",
      "\n",
      "[[1. 0. 0. 0.]\n",
      " [0. 2. 0. 0.]\n",
      " [0. 0. 3. 0.]\n",
      " [0. 0. 0. 4.]] \n",
      "\n",
      "[1 2 3 4]\n"
     ]
    }
   ],
   "source": [
    "# 8. Create array using diag function\n",
    "import numpy as np;\n",
    "a=np.diag([1,2,3,4]) # construct a diagonal array\n",
    "c=np.diag([1.,2,3,4]) # construct a diagonal array\n",
    "print(a,\"\\n\")\n",
    "print(c,\"\\n\")\n",
    "b=np.diag(a) # extract diagonal\n",
    "print(b)"
   ]
  },
  {
   "cell_type": "code",
   "execution_count": 6,
   "metadata": {},
   "outputs": [
    {
     "name": "stdout",
     "output_type": "stream",
     "text": [
      "[0.03725295 0.10054731 0.42988567 0.38561168 0.17037946]\n",
      "[-0.32278727 -0.15715623  0.2005538  -1.31534813 -1.66400346]\n",
      "[13 17  7 18  0  2  6 14 12 15 15  3 19 12 19]\n"
     ]
    }
   ],
   "source": [
    "# 9. Create array using random module where rand & randn are one of the function of random module\n",
    "import numpy as np;\n",
    "a=np.random.rand(5)\n",
    "b=np.random.randn(5)  # it can include negative numbers also\n",
    "c=np.random.randint(0,20,15)  # start,end,length\n",
    "print(a)      # our output can be shown as: array([0.03880731 0.73273688 0.11557813 0.38140661 0.13596918])\n",
    "print(b)\n",
    "print(c)"
   ]
  },
  {
   "cell_type": "markdown",
   "metadata": {},
   "source": [
    "#  _BASIC DATA TYPES_"
   ]
  },
  {
   "cell_type": "code",
   "execution_count": 56,
   "metadata": {},
   "outputs": [
    {
     "name": "stdout",
     "output_type": "stream",
     "text": [
      "int32\n"
     ]
    }
   ],
   "source": [
    "# Finding data types\n",
    "import numpy as np;\n",
    "a=np.arange(100)\n",
    "print(a.dtype)"
   ]
  },
  {
   "cell_type": "code",
   "execution_count": 60,
   "metadata": {},
   "outputs": [
    {
     "name": "stdout",
     "output_type": "stream",
     "text": [
      "complex128\n",
      "bool\n",
      "<U5\n"
     ]
    }
   ],
   "source": [
    "# complex datatypes\n",
    "import numpy as np;\n",
    "a=np.array([1+2j,2+4j])\n",
    "print(a.dtype)\n",
    "# boolean datatype\n",
    "b=np.array([True,False,True,True])\n",
    "print(b.dtype)\n",
    "# String datatype\n",
    "c=np.array(['Rahul','Uma','John'])  # here,U means Unicode datatype\n",
    "print(c.dtype)"
   ]
  },
  {
   "cell_type": "markdown",
   "metadata": {},
   "source": [
    "# _Datatype_\n",
    "'b' - boolean\n",
    "'i' - (signed) integer\n",
    "'u' - unsigned integer\n",
    "'f' - floating-point\n",
    "'c' - complex-floating point\n",
    "'m' - timedelta\n",
    "'M' - datetime\n",
    "'O' (Python) - objects \n",
    "'S', 'a' (byte-) - string \n",
    "'U' - Unicode\n",
    "'V' - raw data"
   ]
  },
  {
   "cell_type": "markdown",
   "metadata": {},
   "source": [
    "# _INDEXING_"
   ]
  },
  {
   "cell_type": "code",
   "execution_count": 8,
   "metadata": {},
   "outputs": [
    {
     "name": "stdout",
     "output_type": "stream",
     "text": [
      "[0 1 2 3 4 5 6 7 8 9]\n",
      "3\n",
      "[0 1 2 3 4 9 6 7 8 9]\n"
     ]
    }
   ],
   "source": [
    "# Finding index and changing value of particular index in 1 D Array\n",
    "import numpy as np;\n",
    "a=np.arange(10)\n",
    "print(a)\n",
    "print(a[3])\n",
    "a[5]=9\n",
    "print(a)"
   ]
  },
  {
   "cell_type": "code",
   "execution_count": 8,
   "metadata": {},
   "outputs": [
    {
     "name": "stdout",
     "output_type": "stream",
     "text": [
      "Array arr1:\n",
      " [[ 0  1  2  3]\n",
      " [ 4  5  6  7]\n",
      " [ 8  9 10 11]]\n",
      "Element at 0th row and 0th column of arr1 is: 0\n",
      "Element at 1st row and 2nd column  of arr1 is: 6\n",
      "Element at 1st row and 2nd column  of arr1 is: 8\n"
     ]
    }
   ],
   "source": [
    "# Finding index and changing value of particular index in 1 D Array\n",
    "arr=np.arange(12)\n",
    "arr1=arr.reshape(3,4)\n",
    "print(\"Array arr1:\\n\",arr1)\n",
    "print(\"Element at 0th row and 0th column of arr1 is:\",arr1[0,0])\n",
    "print(\"Element at 1st row and 2nd column  of arr1 is:\",arr1[1,2])\n",
    "arr1[1,2]=8                                                        # Changing value \n",
    "print(\"Element at 1st row and 2nd column  of arr1 is:\",arr1[1,2])"
   ]
  },
  {
   "cell_type": "code",
   "execution_count": 19,
   "metadata": {},
   "outputs": [
    {
     "name": "stdout",
     "output_type": "stream",
     "text": [
      "Array arr1:\n",
      " [[ 0  1  2  3]\n",
      " [ 4  5  6  7]\n",
      " [ 8  9 10 11]]\n",
      "\n",
      "\n",
      "1st index row :\n",
      " [4 5 6 7]\n",
      "\n",
      "\n",
      "2nd index column :\n",
      " [ 2  6 10]\n"
     ]
    }
   ],
   "source": [
    "# Picking a row and a column in 2D Numpy Array\n",
    "import numpy as np\n",
    "arr=np.arange(12)\n",
    "arr1=arr.reshape(3,4)\n",
    "print(\"Array arr1:\\n\",arr1)\n",
    "print(\"\\n\")\n",
    "print(\"1st index row :\\n\",arr1[1])\n",
    "print(\"\\n\")\n",
    "print(\"2nd index column :\\n\",arr1[:,2])"
   ]
  },
  {
   "cell_type": "code",
   "execution_count": 20,
   "metadata": {},
   "outputs": [
    {
     "name": "stdout",
     "output_type": "stream",
     "text": [
      "Array arr1:\n",
      " [[[ 0  1  2]\n",
      "  [ 3  4  5]]\n",
      "\n",
      " [[ 6  7  8]\n",
      "  [ 9 10 11]]]\n",
      "Element: 8\n"
     ]
    }
   ],
   "source": [
    "#  Indexing in 3D ARRAY\n",
    "import numpy as np\n",
    "arr=np.arange(12)\n",
    "arr1=arr.reshape(2,2,3)\n",
    "print(\"Array arr1:\\n\",arr1)   \n",
    "print(\"Element:\",arr1[1,0,2]) # here,[1,0,2]=[i,j,k] where i,j,k stands for 1D,2D,3D"
   ]
  },
  {
   "cell_type": "code",
   "execution_count": 37,
   "metadata": {},
   "outputs": [
    {
     "name": "stdout",
     "output_type": "stream",
     "text": [
      "Array arr1:\n",
      " [[[ 0  1  2]\n",
      "  [ 3  4  5]]\n",
      "\n",
      " [[ 6  7  8]\n",
      "  [ 9 10 11]]]\n",
      "1st row : [3 4 5]\n",
      "0 and 2nd column of 1st index row : [[ 6  9]\n",
      " [ 8 11]]\n",
      "2nd column of 1st index row : [[ 8 11]]\n"
     ]
    }
   ],
   "source": [
    "# Picking a row or a column in 3D Array\n",
    "import numpy as np\n",
    "arr=np.arange(12)\n",
    "arr1=arr.reshape(2,2,3)\n",
    "print(\"Array arr1:\\n\",arr1)\n",
    "print(\"1st row :\",arr1[0,1])\n",
    "print(\"0 and 2nd column of 1st index row :\",arr1[1,:,[0,2]])\n",
    "print(\"2nd column of 1st index row :\",arr1[1,:,[2]])"
   ]
  },
  {
   "cell_type": "code",
   "execution_count": 39,
   "metadata": {},
   "outputs": [
    {
     "name": "stdout",
     "output_type": "stream",
     "text": [
      "Array arr1:\n",
      " [[[ 0  1  2]\n",
      "  [ 3  4  5]]\n",
      "\n",
      " [[ 6  7  8]\n",
      "  [ 9 10 11]]]\n",
      "\n",
      "\n",
      "1st matrix :\n",
      " [[ 6  7  8]\n",
      " [ 9 10 11]]\n"
     ]
    }
   ],
   "source": [
    "# Picking a matrix in 3D ARRAY\n",
    "import numpy as np\n",
    "arr=np.arange(12)\n",
    "arr1=arr.reshape(2,2,3)\n",
    "print(\"Array arr1:\\n\",arr1)\n",
    "print(\"\\n\")\n",
    "print(\"1st matrix :\\n\",arr1[1])"
   ]
  },
  {
   "cell_type": "code",
   "execution_count": 10,
   "metadata": {},
   "outputs": [
    {
     "name": "stdout",
     "output_type": "stream",
     "text": [
      "[ 0 10 20 30 40 50 60 70 80 90]\n",
      "[20 30 20 40 20]\n",
      "[   0   10   20   30   40   50   60 -290   80   89]\n",
      "[   0   10   20   30   40   50   60 -290   80 -290]\n"
     ]
    }
   ],
   "source": [
    "# Indexing with an array of integers\n",
    "a=np.arange(0,100,10)\n",
    "print(a)\n",
    "# Indexing can be done with array of integers where same index can be repeated\n",
    "print(a[[2,3,2,4,2]])\n",
    "a[[7,9]]=(-290,89)\n",
    "print(a)\n",
    "a[[7,9]]=-290\n",
    "print(a)"
   ]
  },
  {
   "cell_type": "code",
   "execution_count": 40,
   "metadata": {},
   "outputs": [
    {
     "name": "stdout",
     "output_type": "stream",
     "text": [
      "[ 0  1  2  3  4  5  6  7  8  9 10 11]\n",
      "Element at index 6 of an array arr: 6\n",
      "Element from index 3 to 8 of an array arr: [3 4 5 6 7]\n"
     ]
    }
   ],
   "source": [
    "import numpy as np\n",
    "arr = np.arange(12)\n",
    "print(arr)\n",
    "print(\"Element at index 6 of an array arr:\",arr[6])\n",
    "print(\"Element from index 3 to 8 of an array arr:\",arr[3:8])"
   ]
  },
  {
   "cell_type": "code",
   "execution_count": 41,
   "metadata": {},
   "outputs": [
    {
     "name": "stdout",
     "output_type": "stream",
     "text": [
      "The array is:\n",
      "[[[ 1  2  3]\n",
      "  [ 3  4  5]]\n",
      "\n",
      " [[ 5  6  7]\n",
      "  [ 9 10 11]]]\n",
      "\n",
      "\n",
      "using simple indexing:\n",
      " [[1 3]\n",
      " [5 9]]\n",
      "using ellipsis:\n",
      "  [[1 3]\n",
      " [5 9]]\n"
     ]
    }
   ],
   "source": [
    "import numpy as np \n",
    "arr = np.array([[[1,2,3],[3,4,5]],[[5,6,7],[9,10,11]]]) \n",
    "print (\"The array is:\") \n",
    "print (arr )\n",
    "print ('\\n')\n",
    "## Access the last dimension\n",
    "print(\"using simple indexing:\\n\",arr[:,:,0])\n",
    "print(\"using ellipsis:\\n \",arr[...,0])"
   ]
  },
  {
   "cell_type": "code",
   "execution_count": 13,
   "metadata": {},
   "outputs": [
    {
     "name": "stdout",
     "output_type": "stream",
     "text": [
      "[[11 12]\n",
      " [13 14]\n",
      " [15 16]]\n",
      "[11 13 16]\n"
     ]
    }
   ],
   "source": [
    "# Advance indexing\n",
    "import numpy as np\n",
    "arr = np.array([[11 ,12 ],[13 ,14 ],[15 ,16 ]])\n",
    "print(arr)\n",
    "print(arr[[0 ,1 ,2 ],[0 ,0 ,1]])   # coordinates (0,0)----> 11, (1,0)---->13, and (2,1)---->16"
   ]
  },
  {
   "cell_type": "code",
   "execution_count": 44,
   "metadata": {},
   "outputs": [
    {
     "name": "stdout",
     "output_type": "stream",
     "text": [
      "Elements of array:  [1 3 5 7 9]\n",
      "Indexed Elements of array arr:  [9 1 5 9 7]\n"
     ]
    }
   ],
   "source": [
    "# Using purely integer indexing\n",
    "import numpy as np\n",
    "arr=np.arange(1,10,2)\n",
    "print(\"Elements of array: \",arr)\n",
    "arr1=arr[np.array([4,0,2,-1,-2])]\n",
    "print(\"Indexed Elements of array arr: \",arr1)"
   ]
  },
  {
   "cell_type": "code",
   "execution_count": 45,
   "metadata": {},
   "outputs": [
    {
     "name": "stdout",
     "output_type": "stream",
     "text": [
      "[41 50 55 45]\n"
     ]
    }
   ],
   "source": [
    "# Using boolean indexing\n",
    "import numpy as np\n",
    "arr = np.array([11,6,41,10,29,50,55,45])\n",
    "print(arr[arr>35])"
   ]
  },
  {
   "cell_type": "code",
   "execution_count": 66,
   "metadata": {},
   "outputs": [
    {
     "name": "stdout",
     "output_type": "stream",
     "text": [
      "3\n",
      "0\n"
     ]
    }
   ],
   "source": [
    "# For multidimensional array,indexes are tuple of integers                    0  1  2 (indexing)\n",
    "a=np.diag([1,2,3])                                                   #   0->  1  0  0\n",
    "print(a[2,2])                                                        #   1->  0  2  0\n",
    "# Access element of 2 indexing of row and 2 indexing of column       #   2->  0  0  3\n",
    "b=np.diag([3,4])\n",
    "print(b[1,0]) "
   ]
  },
  {
   "cell_type": "code",
   "execution_count": 64,
   "metadata": {},
   "outputs": [
    {
     "name": "stdout",
     "output_type": "stream",
     "text": [
      "[[1 0 0]\n",
      " [0 2 0]\n",
      " [0 5 3]]\n"
     ]
    }
   ],
   "source": [
    "a=np.diag([1,2,3])  \n",
    "a[2,1]=5\n",
    "print(a)"
   ]
  },
  {
   "cell_type": "markdown",
   "metadata": {},
   "source": [
    "# _SLICING_"
   ]
  },
  {
   "cell_type": "code",
   "execution_count": 46,
   "metadata": {},
   "outputs": [
    {
     "name": "stdout",
     "output_type": "stream",
     "text": [
      "array arr: [0 1 2 3 4 5]\n",
      "sliced element of array: [1 2 3 4]\n"
     ]
    }
   ],
   "source": [
    "# Slicing 1D Numpy Array\n",
    "import numpy as np\n",
    "arr = np.arange(6)\n",
    "print(\"array arr:\",arr)\n",
    "print(\"sliced element of array:\",arr[1:5])"
   ]
  },
  {
   "cell_type": "code",
   "execution_count": 47,
   "metadata": {},
   "outputs": [
    {
     "name": "stdout",
     "output_type": "stream",
     "text": [
      "Array arr1:\n",
      " [[ 0  1  2  3]\n",
      " [ 4  5  6  7]\n",
      " [ 8  9 10 11]]\n",
      "\n",
      "\n",
      "elements of 1st row and 1st column upto last column :\n",
      " [[ 5  6  7]\n",
      " [ 9 10 11]]\n"
     ]
    }
   ],
   "source": [
    "# Slicing 2D Numpy Array\n",
    "import numpy as np\n",
    "arr=np.arange(12)\n",
    "arr1=arr.reshape(3,4)\n",
    "print(\"Array arr1:\\n\",arr1)\n",
    "print(\"\\n\")\n",
    "print(\"elements of 1st row and 1st column upto last column :\\n\",arr1[1:,1:4])"
   ]
  },
  {
   "cell_type": "code",
   "execution_count": 48,
   "metadata": {},
   "outputs": [
    {
     "name": "stdout",
     "output_type": "stream",
     "text": [
      "[[[ 1  2  3]\n",
      "  [11 13 14]\n",
      "  [21 22 23]]\n",
      "\n",
      " [[ 4  5  6]\n",
      "  [15 16 17]\n",
      "  [24 25 26]]\n",
      "\n",
      " [[ 7  8  9]\n",
      "  [18 19 20]\n",
      "  [27 28 29]]]\n",
      "\n",
      "\n",
      "sliced array: \n",
      " [[[11 13]\n",
      "  [21 22]]\n",
      "\n",
      " [[15 16]\n",
      "  [24 25]]]\n"
     ]
    }
   ],
   "source": [
    "# Slicing 3D Array\n",
    "import numpy as np\n",
    "\n",
    "arr = np.array([[[1, 2, 3], [11, 13, 14], [21, 22, 23]],\n",
    "               [[4, 5, 6], [15, 16, 17], [24, 25, 26]],\n",
    "               [[7, 8, 9], [18, 19, 20], [27, 28, 29]]])\n",
    "print(arr)\n",
    "print(\"\\n\")\n",
    "print(\"sliced array: \\n\",arr[:2,1:,:2])  "
   ]
  },
  {
   "cell_type": "code",
   "execution_count": 50,
   "metadata": {},
   "outputs": [
    {
     "name": "stdout",
     "output_type": "stream",
     "text": [
      "[[ 0  1  2  3]\n",
      " [ 4  5  6  7]\n",
      " [ 8  9 10 11]]\n",
      "\n",
      "\n",
      "2-D array sliced from first row to last:\n",
      " [[ 4  5  6  7]\n",
      " [ 8  9 10 11]]\n"
     ]
    }
   ],
   "source": [
    "# Full slicing of 2D Array\n",
    "import numpy as np\n",
    "arr = np.arange(12)\n",
    "arr1=arr.reshape(3,4)\n",
    "print(arr1)\n",
    "print(\"\\n\")\n",
    "print(\"2-D array sliced from first row to last:\\n\",arr1[1:3])"
   ]
  },
  {
   "cell_type": "code",
   "execution_count": 51,
   "metadata": {},
   "outputs": [
    {
     "name": "stdout",
     "output_type": "stream",
     "text": [
      "3-D array:\n",
      " [[[ 1  2  3]\n",
      "  [11 13 14]\n",
      "  [21 22 23]]\n",
      "\n",
      " [[ 4  5  6]\n",
      "  [15 16 17]\n",
      "  [24 25 26]]\n",
      "\n",
      " [[ 7  8  9]\n",
      "  [18 19 20]\n",
      "  [27 28 29]]]\n",
      "\n",
      "\n",
      "3-D array sliced from first row to last:\n",
      " [[[ 4  5  6]\n",
      "  [15 16 17]\n",
      "  [24 25 26]]\n",
      "\n",
      " [[ 7  8  9]\n",
      "  [18 19 20]\n",
      "  [27 28 29]]]\n"
     ]
    }
   ],
   "source": [
    "# Full slicing of 3D Array\n",
    "import numpy as np\n",
    "arr = np.array([[[1, 2, 3], [11, 13, 14], [21, 22, 23]],\n",
    "               [[4, 5, 6], [15, 16,17], [24, 25, 26]],\n",
    "               [[7, 8, 9], [18, 19, 20], [27, 28, 29]]])\n",
    "print(\"3-D array:\\n\",arr)   \n",
    "print(\"\\n\")\n",
    "print(\"3-D array sliced from first row to last:\\n\",arr[1:,:,:])"
   ]
  },
  {
   "cell_type": "code",
   "execution_count": 52,
   "metadata": {},
   "outputs": [
    {
     "name": "stdout",
     "output_type": "stream",
     "text": [
      "Element at index 2 or -7 of an array arr: 30\n",
      "Sliced Element from index -8 or 2 and -3 or 6 of an array arr: [20 30 40 50 60]\n"
     ]
    }
   ],
   "source": [
    "# Negative slicing and indexing\n",
    "import numpy as np\n",
    "arr = np.array([10,20,30,40,50,60,70,80,90])\n",
    "print(\"Element at index 2 or -7 of an array arr:\",arr[-7])\n",
    "print(\"Sliced Element from index -8 or 2 and -3 or 6 of an array arr:\",arr[-8:-3])"
   ]
  },
  {
   "cell_type": "markdown",
   "metadata": {},
   "source": [
    "# In which method can we assign a single assignment or iterable? \n",
    "ANS. In indexing only\n",
    "# In how many ways can we perform indexing in NumPy? \n",
    "ANS. 2 (Basic indexing and advance indexing)"
   ]
  },
  {
   "cell_type": "code",
   "execution_count": 67,
   "metadata": {},
   "outputs": [
    {
     "name": "stdout",
     "output_type": "stream",
     "text": [
      "[1 3 5 7]\n"
     ]
    }
   ],
   "source": [
    "a=np.arange(10)\n",
    "print(a[1:8:2])"
   ]
  },
  {
   "cell_type": "code",
   "execution_count": 71,
   "metadata": {},
   "outputs": [
    {
     "name": "stdout",
     "output_type": "stream",
     "text": [
      "[ 0  1  2  3  4 20 20 20 20 20]\n",
      "[0 1 2 3 4 4 3 2 1 0]\n"
     ]
    }
   ],
   "source": [
    "# We can also combine assignment and slicing\n",
    "a=np.arange(10)\n",
    "a[5:]=20\n",
    "print(a)\n",
    "b=np.arange(5)\n",
    "a[5:]=b[::-1]\n",
    "print(a)"
   ]
  },
  {
   "cell_type": "markdown",
   "metadata": {},
   "source": [
    "# _COPIES AND VIEWS"
   ]
  },
  {
   "cell_type": "code",
   "execution_count": 75,
   "metadata": {},
   "outputs": [
    {
     "name": "stdout",
     "output_type": "stream",
     "text": [
      "[0 1 2 3 4 5 6 7 8 9]\n",
      "[0 2 4 6 8]\n",
      "[0 2 4 6 8]\n",
      "True\n",
      "False\n"
     ]
    }
   ],
   "source": [
    "a=np.arange(10)\n",
    "print(a)\n",
    "b=a[::2]\n",
    "print(b)\n",
    "c=a[::2].copy()\n",
    "print(c)\n",
    "print(np.shares_memory(a,b))\n",
    "print(np.shares_memory(a,c))"
   ]
  },
  {
   "cell_type": "markdown",
   "metadata": {},
   "source": [
    "# _FANCY INDEXING_ : Numpy arrays can be indexed with slices but also with boolean or integer arrays(mask).This method is called fancy indexing.\n",
    "It creates copies not views."
   ]
  },
  {
   "cell_type": "code",
   "execution_count": 79,
   "metadata": {},
   "outputs": [
    {
     "name": "stdout",
     "output_type": "stream",
     "text": [
      "[ 6  2  6  8  7 10  0  4  7  2 14 12 13 10 19]\n",
      "[ 6  2  6  8 10  0  4  2 14 12 10]\n",
      "[-1 -1 -1 -1  7 -1 -1 -1  7 -1 -1 -1 13 -1 19]\n"
     ]
    }
   ],
   "source": [
    "# Using Boolean mask\n",
    "a=np.random.randint(0,20,15)\n",
    "print(a)\n",
    "mask=(a%2==0)      #  Here,a%2==0 is boolean condition\n",
    "b=a[mask]\n",
    "print(b)\n",
    "a[mask]=-1\n",
    "print(a)"
   ]
  },
  {
   "cell_type": "markdown",
   "metadata": {},
   "source": [
    "# _NUMPY ARRAY ITERATIONS Using for and while loops_\n",
    "Nditer is a multidimensional iterator object in the NumPy package that can traverse an array efficiently.\n",
    "We can modify the array value by using an optional parameter of the nditer object called Op flags (operand flags).\n",
    "We have to perform multiple loops to iterate over a multidimensional array. To avoid using multiple loops, we use a NumPy function called nditer."
   ]
  },
  {
   "cell_type": "code",
   "execution_count": 53,
   "metadata": {},
   "outputs": [
    {
     "name": "stdout",
     "output_type": "stream",
     "text": [
      "arr1:\n",
      " [[ 0  1  2  3]\n",
      " [ 4  5  6  7]\n",
      " [ 8  9 10 11]]\n",
      "Traversed array:\n",
      "0 1 2 3 4 5 6 7 8 9 10 11 "
     ]
    }
   ],
   "source": [
    "# Using for loops:\n",
    "import numpy as np\n",
    "arr = np.arange(12)\n",
    "arr1=arr.reshape(3,4)\n",
    "print(\"arr1:\\n\",arr1)\n",
    "print(\"Traversed array:\")\n",
    "for i in arr1:\n",
    "   for j in i:\n",
    "    print(j, end=' ')\n",
    "# Using nditer function:\n",
    "\"\"\"for i in np.nditer(arr1):\n",
    "   print(i, end=' ')\"\"\""
   ]
  }
 ],
 "metadata": {
  "kernelspec": {
   "display_name": "Python 3",
   "language": "python",
   "name": "python3"
  },
  "language_info": {
   "codemirror_mode": {
    "name": "ipython",
    "version": 3
   },
   "file_extension": ".py",
   "mimetype": "text/x-python",
   "name": "python",
   "nbconvert_exporter": "python",
   "pygments_lexer": "ipython3",
   "version": "undefined.undefined.undefined"
  }
 },
 "nbformat": 4,
 "nbformat_minor": 2
}
