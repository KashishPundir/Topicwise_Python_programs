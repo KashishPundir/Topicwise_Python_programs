{
 "cells": [
  {
   "cell_type": "markdown",
   "metadata": {},
   "source": [
    "# MARKDOWN FEATURES:\n",
    "*NUMPY* OR  _NUMPY_ ----> Using single star OR underscore shows italic format of string\n",
    "# NUMPY  ----> Use of single hash \"#\" in starting of word gives blue colour to string\n",
    "** NUMPY ** ----> Use of double asterisk makes the word bold."
   ]
  },
  {
   "cell_type": "code",
   "execution_count": 1,
   "metadata": {},
   "outputs": [
    {
     "name": "stdout",
     "output_type": "stream",
     "text": [
      "1.26.1\n"
     ]
    }
   ],
   "source": [
    "import numpy as np\n",
    "print(np.__version__)"
   ]
  },
  {
   "cell_type": "code",
   "execution_count": 2,
   "metadata": {},
   "outputs": [
    {
     "name": "stdout",
     "output_type": "stream",
     "text": [
      "<class 'numpy.ndarray'> [1 2 3]\n"
     ]
    }
   ],
   "source": [
    "# 1D array ----> Called as Vector\n",
    "import numpy as np\n",
    "arr = np.array([1, 2, 3])         # arr = np.array((1, 2, 3)) \n",
    "print(type(arr),arr)\n",
    "  "
   ]
  },
  {
   "cell_type": "code",
   "execution_count": 3,
   "metadata": {},
   "outputs": [
    {
     "name": "stdout",
     "output_type": "stream",
     "text": [
      "<class 'list'> [1, 2, 3]\n"
     ]
    }
   ],
   "source": [
    "l=arr.tolist()\n",
    "print(type(l),l)"
   ]
  },
  {
   "cell_type": "code",
   "execution_count": 4,
   "metadata": {},
   "outputs": [
    {
     "name": "stdout",
     "output_type": "stream",
     "text": [
      "[[1 2 3]\n",
      " [4 5 6]] <class 'numpy.ndarray'>\n",
      "[ 0  1  2  3  4  5  6  7  8  9 10 11 12 13 14 15 16 17 18 19]\n",
      "6\n",
      "[1 2 3]\n"
     ]
    }
   ],
   "source": [
    "# 2D array ----> Called as Matrix\n",
    "import numpy as np\n",
    "arr = np.array([[1,2,3],           #arr = np.array(((1,2,3),(4,5,6,))) \n",
    "               [4,5,6]]) \n",
    "print(arr,type(arr))\n",
    "print(np.arange(20))\n",
    "print(arr[1][2])     # print(arr[1,2])\n",
    "print(arr[0])"
   ]
  },
  {
   "cell_type": "code",
   "execution_count": 46,
   "metadata": {},
   "outputs": [
    {
     "name": "stdout",
     "output_type": "stream",
     "text": [
      "<class 'dict'>\n",
      "{'Ram': 23, 'Sham': 24}\n",
      "<class 'numpy.ndarray'>\n"
     ]
    },
    {
     "data": {
      "text/plain": [
       "numpy.ndarray"
      ]
     },
     "execution_count": 46,
     "metadata": {},
     "output_type": "execute_result"
    }
   ],
   "source": [
    "b={\"Ram\":23,\"Sham\":24}\n",
    "print(type(b))\n",
    "a=np.array(b)\n",
    "print(a)\n",
    "print(type(a))\n",
    "type(a)"
   ]
  },
  {
   "cell_type": "code",
   "execution_count": 6,
   "metadata": {},
   "outputs": [
    {
     "name": "stdout",
     "output_type": "stream",
     "text": [
      "[[[ 1  2  3  4]\n",
      "  [ 5  6  7  8]]\n",
      "\n",
      " [[ 9 10 11 12]\n",
      "  [13 14 15 16]]\n",
      "\n",
      " [[17 18 19 20]\n",
      "  [21 22 23 24]]]\n",
      "10\n",
      "[ 9 10 11 12]\n"
     ]
    }
   ],
   "source": [
    "# nD Array ----> Called as Tensor\n",
    "# 3D array \n",
    "import numpy as np\n",
    "c=np.array([[[1,2,3,4],[5,6,7,8]],\n",
    "           [[9,10,11,12],[13,14,15,16]],\n",
    "           [[17,18,19,20],[21,22,23,24]]])\n",
    "print(c)\n",
    "print(c[1,0,1])     # print(c[1][0][1])\n",
    "print(c[1][0])"
   ]
  },
  {
   "cell_type": "markdown",
   "metadata": {},
   "source": [
    "# Why it is useful:\n",
    "Memory efficent container that provide fast numerical operations.\n",
    "----> Here, array takes certainly less time to execute than list."
   ]
  },
  {
   "cell_type": "code",
   "execution_count": 7,
   "metadata": {},
   "outputs": [
    {
     "name": "stdout",
     "output_type": "stream",
     "text": [
      "19.2 µs ± 2.48 µs per loop (mean ± std. dev. of 7 runs, 10,000 loops each)\n"
     ]
    }
   ],
   "source": [
    "l=range(100)\n",
    "%timeit [i**2 for i in l]"
   ]
  },
  {
   "cell_type": "code",
   "execution_count": 8,
   "metadata": {},
   "outputs": [
    {
     "name": "stdout",
     "output_type": "stream",
     "text": [
      "1.33 µs ± 110 ns per loop (mean ± std. dev. of 7 runs, 1,000,000 loops each)\n"
     ]
    }
   ],
   "source": [
    "import numpy as np;\n",
    "arr=np.arange(100)\n",
    "%timeit arr**2"
   ]
  },
  {
   "cell_type": "markdown",
   "metadata": {},
   "source": [
    "# BASIC FUNCTIONS OF ARRAY:"
   ]
  },
  {
   "cell_type": "code",
   "execution_count": 9,
   "metadata": {},
   "outputs": [
    {
     "name": "stdout",
     "output_type": "stream",
     "text": [
      "Dimension: 2 D\n",
      "Dimension: 3 D\n",
      "Dimension: 5 D\n"
     ]
    }
   ],
   "source": [
    "# 1.Finding dimension of array using ndim function\n",
    "import numpy as np;\n",
    "a=np.array([[4,8,2,9,1],\n",
    "           [4,8,2,9,1]])\n",
    "s=np.array([[[12]]])\n",
    "k=np.array([[[12]]],ndmin=5)\n",
    "print(\"Dimension:\",a.ndim,\"D\")\n",
    "print(\"Dimension:\",s.ndim,\"D\")\n",
    "print(\"Dimension:\",k.ndim,\"D\")"
   ]
  },
  {
   "cell_type": "code",
   "execution_count": 10,
   "metadata": {},
   "outputs": [
    {
     "name": "stdout",
     "output_type": "stream",
     "text": [
      "(5,)\n",
      "(2, 4)\n",
      "(3, 1, 5)\n",
      "5 2 3\n"
     ]
    }
   ],
   "source": [
    "# 2. shape function returns: A tuple whose elements give the lengths of the corresponding array dimensions. \n",
    "import numpy as np;\n",
    "a=np.array([4,8,2,9,1])\n",
    "b=np.array([[4,8,2,9],\n",
    "           [4,8,2,9]])\n",
    "c=np.array([[[4,8,2,9,1]],\n",
    "            [[4,8,2,9,1]],\n",
    "            [[4,8,2,9,1]]])\n",
    "print(a.shape) \n",
    "print(b.shape) \n",
    "print(c.shape) \n",
    "print(len(a), len(b),len(c))"
   ]
  },
  {
   "cell_type": "code",
   "execution_count": 11,
   "metadata": {},
   "outputs": [
    {
     "name": "stdout",
     "output_type": "stream",
     "text": [
      "[1 3 5 7 9]\n"
     ]
    }
   ],
   "source": [
    "# 3. arange function having parameters as(start, end(exclusive),step)\n",
    "import numpy as np\n",
    "a=np.arange(1,10,2)\n",
    "print(a)"
   ]
  },
  {
   "cell_type": "code",
   "execution_count": 12,
   "metadata": {},
   "outputs": [
    {
     "name": "stdout",
     "output_type": "stream",
     "text": [
      "[0.  0.2 0.4 0.6 0.8 1. ]\n",
      "[1.         1.13793103 1.27586207 1.4137931  1.55172414 1.68965517\n",
      " 1.82758621 1.96551724 2.10344828 2.24137931 2.37931034 2.51724138\n",
      " 2.65517241 2.79310345 2.93103448 3.06896552 3.20689655 3.34482759\n",
      " 3.48275862 3.62068966 3.75862069 3.89655172 4.03448276 4.17241379\n",
      " 4.31034483 4.44827586 4.5862069  4.72413793 4.86206897 5.        ]\n"
     ]
    }
   ],
   "source": [
    "# 4. np.linspace(start,stop,number of values) function returns number spaces evenly w.r.t interval.here,6 is the interval\n",
    "import numpy as np\n",
    "a=np.linspace(0,1,6)    # (1-0)/5\n",
    "b=np.linspace(1,5,30)   # (5-1)/29\n",
    "print(a)\n",
    "print(b)"
   ]
  },
  {
   "cell_type": "code",
   "execution_count": 13,
   "metadata": {},
   "outputs": [
    {
     "name": "stdout",
     "output_type": "stream",
     "text": [
      "[[1 1 1]\n",
      " [1 1 1]] \n",
      "\n",
      "[[1. 1. 1.]\n",
      " [1. 1. 1.]] \n",
      "\n",
      "[[1. 1. 1.]\n",
      " [1. 1. 1.]\n",
      " [1. 1. 1.]] \n",
      "\n",
      "[[1. 1.]\n",
      " [1. 1.]\n",
      " [1. 1.]]\n"
     ]
    }
   ],
   "source": [
    "# 5. np.ones() function will return an array of number 1 acc. to intervals written(We can give values in list or tuple)\n",
    "import numpy as np;\n",
    "a=np.ones([3,3])\n",
    "b=np.ones((2,3),dtype=int)\n",
    "print(b,\"\\n\")\n",
    "b=np.ones((2,3),dtype=float)    # 1. means 1.0\n",
    "print(b,\"\\n\")\n",
    "c=np.ones((3,2))\n",
    "print(a,\"\\n\")\n",
    "print(c)"
   ]
  },
  {
   "cell_type": "code",
   "execution_count": 60,
   "metadata": {},
   "outputs": [
    {
     "data": {
      "text/plain": [
       "array([[[1., 1., 1., 1., 1.],\n",
       "        [1., 1., 1., 1., 1.]],\n",
       "\n",
       "       [[1., 1., 1., 1., 1.],\n",
       "        [1., 1., 1., 1., 1.]]])"
      ]
     },
     "execution_count": 60,
     "metadata": {},
     "output_type": "execute_result"
    }
   ],
   "source": [
    "array3D = np.ones((2,2,5))\n",
    "array3D"
   ]
  },
  {
   "cell_type": "markdown",
   "metadata": {},
   "source": [
    "# MATHEMATICAL OPERATIONS"
   ]
  },
  {
   "cell_type": "code",
   "execution_count": 78,
   "metadata": {},
   "outputs": [
    {
     "name": "stdout",
     "output_type": "stream",
     "text": [
      "[[4. 4. 4. 4. 4. 4.]\n",
      " [4. 4. 4. 4. 4. 4.]\n",
      " [4. 4. 4. 4. 4. 4.]]\n"
     ]
    }
   ],
   "source": [
    "my2d_array = np.ones((3,6))\n",
    "my2d_array\n",
    "print(my2d_array + 3)"
   ]
  },
  {
   "cell_type": "code",
   "execution_count": 81,
   "metadata": {},
   "outputs": [
    {
     "data": {
      "text/plain": [
       "array([ 0.54030231, -0.41614684, -0.9899925 , -0.65364362,  0.28366219])"
      ]
     },
     "execution_count": 81,
     "metadata": {},
     "output_type": "execute_result"
    }
   ],
   "source": [
    "myarray=np.array([1,2,3,4,5])\n",
    "np.cos(myarray)"
   ]
  },
  {
   "cell_type": "code",
   "execution_count": 83,
   "metadata": {},
   "outputs": [
    {
     "data": {
      "text/plain": [
       "array([  2.71828183,   7.3890561 ,  20.08553692,  54.59815003,\n",
       "       148.4131591 ])"
      ]
     },
     "execution_count": 83,
     "metadata": {},
     "output_type": "execute_result"
    }
   ],
   "source": [
    "np.exp(myarray)"
   ]
  },
  {
   "cell_type": "code",
   "execution_count": 82,
   "metadata": {},
   "outputs": [
    {
     "data": {
      "text/plain": [
       "array([0.        , 0.30103   , 0.47712125, 0.60205999, 0.69897   ])"
      ]
     },
     "execution_count": 82,
     "metadata": {},
     "output_type": "execute_result"
    }
   ],
   "source": [
    "np.log10(myarray)"
   ]
  },
  {
   "cell_type": "code",
   "execution_count": 84,
   "metadata": {},
   "outputs": [
    {
     "data": {
      "text/plain": [
       "array([[0., 0., 0., 0.],\n",
       "       [0., 0., 0., 0.],\n",
       "       [0., 0., 0., 1.],\n",
       "       [0., 0., 0., 0.]])"
      ]
     },
     "execution_count": 84,
     "metadata": {},
     "output_type": "execute_result"
    }
   ],
   "source": [
    "myarray = np.zeros((4,4))\n",
    "myarray[2,3] = 1\n",
    "myarray"
   ]
  },
  {
   "cell_type": "code",
   "execution_count": 85,
   "metadata": {},
   "outputs": [
    {
     "data": {
      "text/plain": [
       "array([[False, False, False, False],\n",
       "       [False, False, False, False],\n",
       "       [False, False, False,  True],\n",
       "       [False, False, False, False]])"
      ]
     },
     "execution_count": 85,
     "metadata": {},
     "output_type": "execute_result"
    }
   ],
   "source": [
    "myarray > 0"
   ]
  },
  {
   "cell_type": "code",
   "execution_count": 86,
   "metadata": {},
   "outputs": [
    {
     "data": {
      "text/plain": [
       "array([[12.5194264 ,  8.84192759, 11.84209732, 12.46239355],\n",
       "       [12.4001656 ,  9.6810768 , 10.41894363,  9.1549499 ],\n",
       "       [ 7.03221348,  8.73454797,  8.56230832,  5.85191984]])"
      ]
     },
     "execution_count": 86,
     "metadata": {},
     "output_type": "execute_result"
    }
   ],
   "source": [
    "nd_array = np.random.normal(10, 2, (3,4))\n",
    "nd_array"
   ]
  },
  {
   "cell_type": "code",
   "execution_count": 87,
   "metadata": {},
   "outputs": [
    {
     "data": {
      "text/plain": [
       "9.79183086689923"
      ]
     },
     "execution_count": 87,
     "metadata": {},
     "output_type": "execute_result"
    }
   ],
   "source": [
    "np.mean(nd_array)\n",
    "# nd_array.mean()"
   ]
  },
  {
   "cell_type": "code",
   "execution_count": 88,
   "metadata": {},
   "outputs": [
    {
     "data": {
      "text/plain": [
       "2.1027782292770274"
      ]
     },
     "execution_count": 88,
     "metadata": {},
     "output_type": "execute_result"
    }
   ],
   "source": [
    "np.std(nd_array)"
   ]
  },
  {
   "cell_type": "code",
   "execution_count": 89,
   "metadata": {},
   "outputs": [
    {
     "data": {
      "text/plain": [
       "12.519426404655787"
      ]
     },
     "execution_count": 89,
     "metadata": {},
     "output_type": "execute_result"
    }
   ],
   "source": [
    "np.max(nd_array)"
   ]
  },
  {
   "cell_type": "code",
   "execution_count": 90,
   "metadata": {},
   "outputs": [
    {
     "data": {
      "text/plain": [
       "array([12.5194264 ,  9.6810768 , 11.84209732, 12.46239355])"
      ]
     },
     "execution_count": 90,
     "metadata": {},
     "output_type": "execute_result"
    }
   ],
   "source": [
    "nd_array.max(axis=0)  # Gives max. value from each column"
   ]
  },
  {
   "cell_type": "code",
   "execution_count": 91,
   "metadata": {},
   "outputs": [
    {
     "data": {
      "text/plain": [
       "array([12.5194264 , 12.4001656 ,  8.73454797])"
      ]
     },
     "execution_count": 91,
     "metadata": {},
     "output_type": "execute_result"
    }
   ],
   "source": [
    "nd_array.max(axis=1) # Gives max. value from each rows"
   ]
  },
  {
   "cell_type": "code",
   "execution_count": 49,
   "metadata": {},
   "outputs": [
    {
     "name": "stdout",
     "output_type": "stream",
     "text": [
      "[[0 0 0]\n",
      " [0 0 0]] \n",
      "\n",
      "[[0. 0. 0.]\n",
      " [0. 0. 0.]] \n",
      "\n",
      "[[0. 0. 0.]\n",
      " [0. 0. 0.]\n",
      " [0. 0. 0.]] \n",
      "\n",
      "[[0. 0.]\n",
      " [0. 0.]\n",
      " [0. 0.]]\n"
     ]
    }
   ],
   "source": [
    "# --------------------------------------------------------------------------------------------------------------------------------------------------------------------------\n",
    "# 6. np.zeros() function will return an array of number 0 acc. to intervals written(We can give values in list or tuple)\n",
    "import numpy as np;\n",
    "a=np.zeros([3,3])\n",
    "b=np.zeros((2,3),dtype=int)\n",
    "print(b,\"\\n\")\n",
    "b=np.zeros((2,3),dtype=float)    # 0. means 0.0\n",
    "print(b,\"\\n\")\n",
    "c=np.zeros((3,2))\n",
    "print(a,\"\\n\")\n",
    "print(c)"
   ]
  },
  {
   "cell_type": "markdown",
   "metadata": {},
   "source": [
    "# COPYING THE SHAPE:\n",
    "We can do this using \"like\" function.."
   ]
  },
  {
   "cell_type": "code",
   "execution_count": 53,
   "metadata": {},
   "outputs": [
    {
     "data": {
      "text/plain": [
       "array([[0., 0., 0.],\n",
       "       [0., 0., 0.],\n",
       "       [0., 0., 0.]])"
      ]
     },
     "execution_count": 53,
     "metadata": {},
     "output_type": "execute_result"
    }
   ],
   "source": [
    "a=np.ones([3,3])\n",
    "same_shape_array=np.zeros_like(a)\n",
    "same_shape_array\n"
   ]
  },
  {
   "cell_type": "code",
   "execution_count": 56,
   "metadata": {},
   "outputs": [
    {
     "data": {
      "text/plain": [
       "array([[1., 1., 1.],\n",
       "       [1., 1., 1.],\n",
       "       [1., 1., 1.]])"
      ]
     },
     "execution_count": 56,
     "metadata": {},
     "output_type": "execute_result"
    }
   ],
   "source": [
    "b=np.zeros([3,3])\n",
    "same_shape_array=np.ones_like(b)\n",
    "same_shape_array"
   ]
  },
  {
   "cell_type": "code",
   "execution_count": 15,
   "metadata": {},
   "outputs": [
    {
     "name": "stdout",
     "output_type": "stream",
     "text": [
      "[[1. 0. 0. 0.]\n",
      " [0. 1. 0. 0.]\n",
      " [0. 0. 1. 0.]\n",
      " [0. 0. 0. 1.]] \n",
      "\n",
      "[[1. 0. 0.]\n",
      " [0. 1. 0.]\n",
      " [0. 0. 1.]] \n",
      "\n",
      "[[1. 0.]\n",
      " [0. 1.]\n",
      " [0. 0.]]\n"
     ]
    }
   ],
   "source": [
    "# 7. np.eye() function returns 2D array have one on diagonal and zero elsewhere\n",
    "import numpy as np;\n",
    "a=np.eye(4)              # np.identity(4) also works same\n",
    "b=np.eye(3)\n",
    "c=np.eye(3,2)  # 3 is no. of rows and 2 is no. of columns\n",
    "print(a,\"\\n\")\n",
    "print(b,\"\\n\")\n",
    "print(c)          # it is not identity matrix"
   ]
  },
  {
   "cell_type": "code",
   "execution_count": 16,
   "metadata": {},
   "outputs": [
    {
     "name": "stdout",
     "output_type": "stream",
     "text": [
      "[[1 0 0 0]\n",
      " [0 2 0 0]\n",
      " [0 0 3 0]\n",
      " [0 0 0 4]] \n",
      "\n",
      "[[1. 0. 0. 0.]\n",
      " [0. 2. 0. 0.]\n",
      " [0. 0. 3. 0.]\n",
      " [0. 0. 0. 4.]] \n",
      "\n",
      "[1 2 3 4]\n"
     ]
    }
   ],
   "source": [
    "# 8. Create array using diag function\n",
    "import numpy as np;\n",
    "a=np.diag([1,2,3,4]) # construct a diagonal array\n",
    "c=np.diag([1.,2,3,4]) # construct a diagonal array\n",
    "print(a,\"\\n\")\n",
    "print(c,\"\\n\")\n",
    "b=np.diag(a) # extract diagonal\n",
    "print(b)"
   ]
  },
  {
   "cell_type": "code",
   "execution_count": 17,
   "metadata": {},
   "outputs": [
    {
     "data": {
      "text/plain": [
       "array([1, 2, 3, 4, 5, 6])"
      ]
     },
     "execution_count": 17,
     "metadata": {},
     "output_type": "execute_result"
    }
   ],
   "source": [
    "# Flattening Arrays --> Converting multidimensional array to 1D array\n",
    "import numpy as np\n",
    "a=np.array([[1,2,3],[4,5,6]])\n",
    "a.reshape(-1)\n"
   ]
  },
  {
   "cell_type": "code",
   "execution_count": 18,
   "metadata": {},
   "outputs": [
    {
     "name": "stdout",
     "output_type": "stream",
     "text": [
      "[0.95392893 0.92980347 0.80120162 0.86706818 0.13321758]\n",
      "[-0.45947763  0.89622133 -0.40092647 -0.09347057 -0.06677732]\n",
      "[17 11  7  8  1 12 18  7 13  6 10  9 19  4 10]\n"
     ]
    }
   ],
   "source": [
    "# 9. Create array using random module where rand & randn are one of the function of random module\n",
    "import numpy as np;\n",
    "a=np.random.rand(5)\n",
    "b=np.random.randn(5)  # it can include negative numbers also\n",
    "c=np.random.randint(0,20,15)  # start,end,length\n",
    "print(a)      # our output can be shown as: array([0.03880731 0.73273688 0.11557813 0.38140661 0.13596918])\n",
    "print(b)\n",
    "print(c)"
   ]
  },
  {
   "cell_type": "code",
   "execution_count": 58,
   "metadata": {},
   "outputs": [
    {
     "data": {
      "text/plain": [
       "array([[12.1481574 ,  9.854434  , 11.41250434,  9.77005279],\n",
       "       [11.2837753 , 11.41609433,  9.14189779,  7.52975502],\n",
       "       [ 7.89939151, 10.18141703, 13.18421224,  6.51776785]])"
      ]
     },
     "execution_count": 58,
     "metadata": {},
     "output_type": "execute_result"
    }
   ],
   "source": [
    "normal_array = np.random.normal(loc=10, scale=2, size=(3,4))   # loc : mean value, scale : standard deviation\n",
    "normal_array"
   ]
  },
  {
   "cell_type": "code",
   "execution_count": 57,
   "metadata": {},
   "outputs": [
    {
     "data": {
      "text/plain": [
       "array([[5, 3, 4, 5],\n",
       "       [5, 4, 7, 3],\n",
       "       [2, 4, 5, 9]])"
      ]
     },
     "execution_count": 57,
     "metadata": {},
     "output_type": "execute_result"
    }
   ],
   "source": [
    "# lam (short for \"lambda\") represents the rate parameter of the Poisson distribution.\n",
    "# It means that on average, 5 events are expected to occur in each interval withh somme variability.\n",
    "np.random.poisson(lam=5, size=(3,4))"
   ]
  },
  {
   "cell_type": "markdown",
   "metadata": {},
   "source": [
    "# IMPORTING ARRAYS\n",
    "*Loading and saving arrays*"
   ]
  },
  {
   "cell_type": "code",
   "execution_count": 67,
   "metadata": {},
   "outputs": [
    {
     "data": {
      "text/plain": [
       "array([[11.13422567,  9.2270869 , 15.13291535, 13.89005163,  9.47420977],\n",
       "       [13.05750629,  7.81823934, 13.88405639,  7.80739642,  8.54557965],\n",
       "       [ 9.90801157, 10.94020434,  7.61942455, 11.25366869, 12.33113373],\n",
       "       [ 8.82309894, 10.03026749, 10.10238203, 11.42899308, 11.20047212]])"
      ]
     },
     "execution_count": 67,
     "metadata": {},
     "output_type": "execute_result"
    }
   ],
   "source": [
    "array1 = np.random.normal(10, 2, (4,5))\n",
    "array1\n"
   ]
  },
  {
   "cell_type": "code",
   "execution_count": 68,
   "metadata": {},
   "outputs": [],
   "source": [
    "np.save('my_saved_array.npy', array1)"
   ]
  },
  {
   "cell_type": "code",
   "execution_count": 69,
   "metadata": {},
   "outputs": [
    {
     "name": "stdout",
     "output_type": "stream",
     "text": [
      " Volume in drive C has no label.\n",
      " Volume Serial Number is 369A-7D37\n",
      "\n",
      " Directory of c:\\Users\\hp\\Desktop\\Python\n",
      "\n",
      "\n",
      " Directory of c:\\Users\\hp\\Desktop\\Python\n",
      "\n",
      "\n",
      " Directory of c:\\Users\\hp\\Desktop\\Python\n",
      "\n",
      "\n",
      " Directory of c:\\Users\\hp\\Desktop\\Python\n",
      "\n",
      "\n",
      " Directory of c:\\Users\\hp\\Desktop\\Python\n",
      "\n",
      "\n",
      " Directory of c:\\Users\\hp\\Desktop\\Python\n",
      "\n",
      "\n",
      " Directory of c:\\Users\\hp\\Desktop\\Python\n",
      "\n",
      "\n",
      " Directory of c:\\Users\\hp\\Desktop\\Python\n",
      "\n",
      "\n",
      " Directory of c:\\Users\\hp\\Desktop\\Python\n",
      "\n",
      "\n",
      " Directory of c:\\Users\\hp\\Desktop\\Python\n",
      "\n",
      "\n",
      " Directory of c:\\Users\\hp\\Desktop\\Python\n",
      "\n"
     ]
    },
    {
     "name": "stderr",
     "output_type": "stream",
     "text": [
      "File Not Found\n"
     ]
    }
   ],
   "source": [
    "ls   # To check that if the file is saved or not"
   ]
  },
  {
   "cell_type": "code",
   "execution_count": 70,
   "metadata": {},
   "outputs": [
    {
     "data": {
      "text/plain": [
       "array([[11.13422567,  9.2270869 , 15.13291535, 13.89005163,  9.47420977],\n",
       "       [13.05750629,  7.81823934, 13.88405639,  7.80739642,  8.54557965],\n",
       "       [ 9.90801157, 10.94020434,  7.61942455, 11.25366869, 12.33113373],\n",
       "       [ 8.82309894, 10.03026749, 10.10238203, 11.42899308, 11.20047212]])"
      ]
     },
     "execution_count": 70,
     "metadata": {},
     "output_type": "execute_result"
    }
   ],
   "source": [
    "new_array = np.load('my_saved_array.npy')\n",
    "new_array"
   ]
  },
  {
   "cell_type": "code",
   "execution_count": 66,
   "metadata": {},
   "outputs": [
    {
     "data": {
      "text/plain": [
       "array([[ 7.67655285, 12.85537569]])"
      ]
     },
     "execution_count": 66,
     "metadata": {},
     "output_type": "execute_result"
    }
   ],
   "source": [
    "# If you have several arrays that belong together, you can also save them in a single file using np.savez in npz format.\n",
    "# Let's create a second array:\n",
    "array2 = np.random.normal(10, 2, (1,2))\n",
    "array2"
   ]
  },
  {
   "cell_type": "code",
   "execution_count": 71,
   "metadata": {},
   "outputs": [],
   "source": [
    "np.savez('multiple_arrays.npz', array_to_save=array1, array_to_save2=array2)"
   ]
  },
  {
   "cell_type": "code",
   "execution_count": 72,
   "metadata": {},
   "outputs": [
    {
     "data": {
      "text/plain": [
       "numpy.lib.npyio.NpzFile"
      ]
     },
     "execution_count": 72,
     "metadata": {},
     "output_type": "execute_result"
    }
   ],
   "source": [
    "load_multiple = np.load('multiple_arrays.npz')\n",
    "type(load_multiple)"
   ]
  },
  {
   "cell_type": "code",
   "execution_count": 74,
   "metadata": {},
   "outputs": [
    {
     "data": {
      "text/plain": [
       "['array_to_save', 'array_to_save2']"
      ]
     },
     "execution_count": 74,
     "metadata": {},
     "output_type": "execute_result"
    }
   ],
   "source": [
    "load_multiple.files"
   ]
  },
  {
   "cell_type": "code",
   "execution_count": 75,
   "metadata": {},
   "outputs": [
    {
     "data": {
      "text/plain": [
       "array([[ 7.67655285, 12.85537569]])"
      ]
     },
     "execution_count": 75,
     "metadata": {},
     "output_type": "execute_result"
    }
   ],
   "source": [
    "load_multiple.get('array_to_save2')"
   ]
  },
  {
   "cell_type": "markdown",
   "metadata": {},
   "source": [
    "#  _BASIC DATA TYPES_"
   ]
  },
  {
   "cell_type": "code",
   "execution_count": 47,
   "metadata": {},
   "outputs": [
    {
     "name": "stdout",
     "output_type": "stream",
     "text": [
      "int32\n"
     ]
    },
    {
     "data": {
      "text/plain": [
       "dtype('int32')"
      ]
     },
     "execution_count": 47,
     "metadata": {},
     "output_type": "execute_result"
    }
   ],
   "source": [
    "# Finding data types\n",
    "import numpy as np;\n",
    "a=np.arange(100)\n",
    "print(a.dtype)\n",
    "a.dtype"
   ]
  },
  {
   "cell_type": "code",
   "execution_count": 20,
   "metadata": {},
   "outputs": [
    {
     "name": "stdout",
     "output_type": "stream",
     "text": [
      "complex128\n",
      "bool\n",
      "<U5\n"
     ]
    }
   ],
   "source": [
    "# complex datatypes\n",
    "import numpy as np;\n",
    "a=np.array([1+2j,2+4j])\n",
    "print(a.dtype)\n",
    "# boolean datatype\n",
    "b=np.array([True,False,True,True])\n",
    "print(b.dtype)\n",
    "# String datatype\n",
    "c=np.array(['Rahul','Uma','John'])  # here,U means Unicode datatype\n",
    "print(c.dtype)"
   ]
  },
  {
   "cell_type": "markdown",
   "metadata": {},
   "source": [
    "# _Datatype_\n",
    "'b' - boolean\n",
    "'i' - (signed) integer\n",
    "'u' - unsigned integer\n",
    "'f' - floating-point\n",
    "'c' - complex-floating point\n",
    "'m' - timedelta\n",
    "'M' - datetime\n",
    "'O' (Python) - objects \n",
    "'S', 'a' (byte-) - string \n",
    "'U' - Unicode\n",
    "'V' - raw data"
   ]
  },
  {
   "cell_type": "markdown",
   "metadata": {},
   "source": [
    "# _INDEXING_"
   ]
  },
  {
   "cell_type": "code",
   "execution_count": 21,
   "metadata": {},
   "outputs": [
    {
     "name": "stdout",
     "output_type": "stream",
     "text": [
      "[0 1 2 3 4 5 6 7 8 9]\n",
      "3\n",
      "[0 1 2 3 4 9 6 7 8 9]\n"
     ]
    }
   ],
   "source": [
    "# Finding index and changing value of particular index in 1 D Array\n",
    "import numpy as np;\n",
    "a=np.arange(10)\n",
    "print(a)\n",
    "print(a[3])\n",
    "a[5]=9\n",
    "print(a)"
   ]
  },
  {
   "cell_type": "code",
   "execution_count": 22,
   "metadata": {},
   "outputs": [
    {
     "name": "stdout",
     "output_type": "stream",
     "text": [
      "Array arr1:\n",
      " [[ 0  1  2  3]\n",
      " [ 4  5  6  7]\n",
      " [ 8  9 10 11]]\n",
      "Element at 0th row and 0th column of arr1 is: 0\n",
      "Element at 1st row and 2nd column  of arr1 is: 6\n",
      "Element at 1st row and 2nd column  of arr1 is: 8\n"
     ]
    }
   ],
   "source": [
    "# Finding index and changing value of particular index in 1 D Array\n",
    "arr=np.arange(12)\n",
    "arr1=arr.reshape(3,4)\n",
    "print(\"Array arr1:\\n\",arr1)\n",
    "print(\"Element at 0th row and 0th column of arr1 is:\",arr1[0,0])\n",
    "print(\"Element at 1st row and 2nd column  of arr1 is:\",arr1[1,2])\n",
    "arr1[1,2]=8                                                        # Changing value \n",
    "print(\"Element at 1st row and 2nd column  of arr1 is:\",arr1[1,2])"
   ]
  },
  {
   "cell_type": "code",
   "execution_count": 23,
   "metadata": {},
   "outputs": [
    {
     "name": "stdout",
     "output_type": "stream",
     "text": [
      "Array arr1:\n",
      " [[ 0  1  2  3]\n",
      " [ 4  5  6  7]\n",
      " [ 8  9 10 11]]\n",
      "\n",
      "\n",
      "1st index row :\n",
      " [4 5 6 7]\n",
      "\n",
      "\n",
      "2nd index column :\n",
      " [ 2  6 10]\n"
     ]
    }
   ],
   "source": [
    "# Picking a row and a column in 2D Numpy Array\n",
    "import numpy as np\n",
    "arr=np.arange(12)\n",
    "arr1=arr.reshape(3,4)\n",
    "print(\"Array arr1:\\n\",arr1)\n",
    "print(\"\\n\")\n",
    "print(\"1st index row :\\n\",arr1[1])\n",
    "print(\"\\n\")\n",
    "print(\"2nd index column :\\n\",arr1[:,2])"
   ]
  },
  {
   "cell_type": "code",
   "execution_count": 92,
   "metadata": {},
   "outputs": [
    {
     "data": {
      "text/plain": [
       "array([ 0,  1,  2,  3,  8, 10])"
      ]
     },
     "execution_count": 92,
     "metadata": {},
     "output_type": "execute_result"
    }
   ],
   "source": [
    "a=np.array([2,8,3,1,0,10])\n",
    "np.sort(a)"
   ]
  },
  {
   "cell_type": "code",
   "execution_count": 24,
   "metadata": {},
   "outputs": [
    {
     "name": "stdout",
     "output_type": "stream",
     "text": [
      "Array arr1:\n",
      " [[[ 0  1  2]\n",
      "  [ 3  4  5]]\n",
      "\n",
      " [[ 6  7  8]\n",
      "  [ 9 10 11]]]\n",
      "Element: 8\n"
     ]
    }
   ],
   "source": [
    "#  Indexing in 3D ARRAY\n",
    "import numpy as np\n",
    "arr=np.arange(12)\n",
    "arr1=arr.reshape(2,2,3)\n",
    "print(\"Array arr1:\\n\",arr1)   \n",
    "print(\"Element:\",arr1[1,0,2]) # here,[1,0,2]=[i,j,k] where i,j,k stands for 1D,2D,3D"
   ]
  },
  {
   "cell_type": "code",
   "execution_count": 25,
   "metadata": {},
   "outputs": [
    {
     "name": "stdout",
     "output_type": "stream",
     "text": [
      "Array arr1:\n",
      " [[[ 0  1  2]\n",
      "  [ 3  4  5]]\n",
      "\n",
      " [[ 6  7  8]\n",
      "  [ 9 10 11]]]\n",
      "1st row : [3 4 5]\n",
      "0 and 2nd column of 1st index row : [[ 6  9]\n",
      " [ 8 11]]\n",
      "2nd column of 1st index row : [[ 8 11]]\n"
     ]
    }
   ],
   "source": [
    "# Picking a row or a column in 3D Array\n",
    "import numpy as np\n",
    "arr=np.arange(12)\n",
    "arr1=arr.reshape(2,2,3)\n",
    "print(\"Array arr1:\\n\",arr1)\n",
    "print(\"1st row :\",arr1[0,1])\n",
    "print(\"0 and 2nd column of 1st index row :\",arr1[1,:,[0,2]])\n",
    "# Subarrays are dependent on normal arrays i.e. any changes made in normal array will reflect changes in sub arrays\n",
    "print(\"2nd column of 1st index row :\",arr1[1,:,[2]])"
   ]
  },
  {
   "cell_type": "code",
   "execution_count": 26,
   "metadata": {},
   "outputs": [
    {
     "name": "stdout",
     "output_type": "stream",
     "text": [
      "Array arr1:\n",
      " [[[ 0  1  2]\n",
      "  [ 3  4  5]]\n",
      "\n",
      " [[ 6  7  8]\n",
      "  [ 9 10 11]]]\n",
      "\n",
      "\n",
      "1st matrix :\n",
      " [[ 6  7  8]\n",
      " [ 9 10 11]]\n"
     ]
    }
   ],
   "source": [
    "# Picking a matrix in 3D ARRAY\n",
    "import numpy as np\n",
    "arr=np.arange(12)\n",
    "arr1=arr.reshape(2,2,3)\n",
    "print(\"Array arr1:\\n\",arr1)\n",
    "print(\"\\n\")\n",
    "print(\"1st matrix :\\n\",arr1[1])"
   ]
  },
  {
   "cell_type": "code",
   "execution_count": 27,
   "metadata": {},
   "outputs": [
    {
     "name": "stdout",
     "output_type": "stream",
     "text": [
      "[ 0 10 20 30 40 50 60 70 80 90]\n",
      "[20 30 20 40 20]\n",
      "[   0   10   20   30   40   50   60 -290   80   89]\n",
      "[   0   10   20   30   40   50   60 -290   80 -290]\n"
     ]
    }
   ],
   "source": [
    "# Indexing with an array of integers\n",
    "a=np.arange(0,100,10)\n",
    "print(a)\n",
    "# Indexing can be done with array of integers where same index can be repeated\n",
    "print(a[[2,3,2,4,2]])\n",
    "a[[7,9]]=(-290,89)\n",
    "print(a)\n",
    "a[[7,9]]=-290\n",
    "print(a)"
   ]
  },
  {
   "cell_type": "code",
   "execution_count": 28,
   "metadata": {},
   "outputs": [
    {
     "name": "stdout",
     "output_type": "stream",
     "text": [
      "[ 0  1  2  3  4  5  6  7  8  9 10 11]\n",
      "Element at index 6 of an array arr: 6\n",
      "Element from index 3 to 8 of an array arr: [3 4 5 6 7]\n"
     ]
    }
   ],
   "source": [
    "import numpy as np\n",
    "arr = np.arange(12)\n",
    "print(arr)\n",
    "print(\"Element at index 6 of an array arr:\",arr[6])\n",
    "print(\"Element from index 3 to 8 of an array arr:\",arr[3:8])"
   ]
  },
  {
   "cell_type": "code",
   "execution_count": 29,
   "metadata": {},
   "outputs": [
    {
     "name": "stdout",
     "output_type": "stream",
     "text": [
      "The array is:\n",
      "[[[ 1  2  3]\n",
      "  [ 3  4  5]]\n",
      "\n",
      " [[ 5  6  7]\n",
      "  [ 9 10 11]]]\n",
      "\n",
      "\n",
      "using simple indexing:\n",
      " [[1 3]\n",
      " [5 9]]\n",
      "using ellipsis:\n",
      "  [[1 3]\n",
      " [5 9]]\n"
     ]
    }
   ],
   "source": [
    "import numpy as np \n",
    "arr = np.array([[[1,2,3],[3,4,5]],[[5,6,7],[9,10,11]]]) \n",
    "print (\"The array is:\") \n",
    "print (arr )\n",
    "print ('\\n')\n",
    "## Access the last dimension\n",
    "print(\"using simple indexing:\\n\",arr[:,:,0])\n",
    "print(\"using ellipsis:\\n \",arr[...,0])"
   ]
  },
  {
   "cell_type": "code",
   "execution_count": 30,
   "metadata": {},
   "outputs": [
    {
     "name": "stdout",
     "output_type": "stream",
     "text": [
      "[[11 12]\n",
      " [13 14]\n",
      " [15 16]]\n",
      "[11 13 16]\n"
     ]
    }
   ],
   "source": [
    "# Advance indexing\n",
    "import numpy as np\n",
    "arr = np.array([[11 ,12 ],[13 ,14 ],[15 ,16 ]])\n",
    "print(arr)\n",
    "print(arr[[0 ,1 ,2 ],[0 ,0 ,1]])   # coordinates (0,0)----> 11, (1,0)---->13, and (2,1)---->16"
   ]
  },
  {
   "cell_type": "code",
   "execution_count": 31,
   "metadata": {},
   "outputs": [
    {
     "name": "stdout",
     "output_type": "stream",
     "text": [
      "Elements of array:  [1 3 5 7 9]\n",
      "Indexed Elements of array arr:  [9 1 5 9 7]\n"
     ]
    }
   ],
   "source": [
    "# Using purely integer indexing\n",
    "import numpy as np\n",
    "arr=np.arange(1,10,2)\n",
    "print(\"Elements of array: \",arr)\n",
    "arr1=arr[np.array([4,0,2,-1,-2])]\n",
    "print(\"Indexed Elements of array arr: \",arr1)"
   ]
  },
  {
   "cell_type": "code",
   "execution_count": 32,
   "metadata": {},
   "outputs": [
    {
     "name": "stdout",
     "output_type": "stream",
     "text": [
      "[41 50 55 45]\n"
     ]
    }
   ],
   "source": [
    "# Using boolean indexing\n",
    "import numpy as np\n",
    "arr = np.array([11,6,41,10,29,50,55,45])\n",
    "print(arr[arr>35])"
   ]
  },
  {
   "cell_type": "code",
   "execution_count": 33,
   "metadata": {},
   "outputs": [
    {
     "name": "stdout",
     "output_type": "stream",
     "text": [
      "3\n",
      "0\n"
     ]
    }
   ],
   "source": [
    "# For multidimensional array,indexes are tuple of integers                    0  1  2 (indexing)\n",
    "a=np.diag([1,2,3])                                                   #   0->  1  0  0\n",
    "print(a[2,2])                                                        #   1->  0  2  0\n",
    "# Access element of 2 indexing of row and 2 indexing of column       #   2->  0  0  3\n",
    "b=np.diag([3,4])\n",
    "print(b[1,0]) "
   ]
  },
  {
   "cell_type": "code",
   "execution_count": 34,
   "metadata": {},
   "outputs": [
    {
     "name": "stdout",
     "output_type": "stream",
     "text": [
      "[[1 0 0]\n",
      " [0 2 0]\n",
      " [0 5 3]]\n"
     ]
    }
   ],
   "source": [
    "a=np.diag([1,2,3])  \n",
    "a[2,1]=5\n",
    "print(a)"
   ]
  },
  {
   "cell_type": "markdown",
   "metadata": {},
   "source": [
    "# _SLICING_"
   ]
  },
  {
   "cell_type": "code",
   "execution_count": 35,
   "metadata": {},
   "outputs": [
    {
     "name": "stdout",
     "output_type": "stream",
     "text": [
      "array arr: [0 1 2 3 4 5]\n",
      "sliced element of array: [1 2 3 4]\n"
     ]
    }
   ],
   "source": [
    "# Slicing 1D Numpy Array\n",
    "import numpy as np\n",
    "arr = np.arange(6)\n",
    "print(\"array arr:\",arr)\n",
    "print(\"sliced element of array:\",arr[1:5])"
   ]
  },
  {
   "cell_type": "code",
   "execution_count": 36,
   "metadata": {},
   "outputs": [
    {
     "name": "stdout",
     "output_type": "stream",
     "text": [
      "Array arr1:\n",
      " [[ 0  1  2  3]\n",
      " [ 4  5  6  7]\n",
      " [ 8  9 10 11]]\n",
      "\n",
      "\n",
      "elements of 1st row and 1st column upto last column :\n",
      " [[ 5  6  7]\n",
      " [ 9 10 11]]\n"
     ]
    }
   ],
   "source": [
    "# Slicing 2D Numpy Array\n",
    "import numpy as np\n",
    "arr=np.arange(12)\n",
    "arr1=arr.reshape(3,4)\n",
    "print(\"Array arr1:\\n\",arr1)\n",
    "print(\"\\n\")\n",
    "print(\"elements of 1st row and 1st column upto last column :\\n\",arr1[1:,1:4])"
   ]
  },
  {
   "cell_type": "code",
   "execution_count": 37,
   "metadata": {},
   "outputs": [
    {
     "name": "stdout",
     "output_type": "stream",
     "text": [
      "[[[ 1  2  3]\n",
      "  [11 13 14]\n",
      "  [21 22 23]]\n",
      "\n",
      " [[ 4  5  6]\n",
      "  [15 16 17]\n",
      "  [24 25 26]]\n",
      "\n",
      " [[ 7  8  9]\n",
      "  [18 19 20]\n",
      "  [27 28 29]]]\n",
      "\n",
      "\n",
      "sliced array: \n",
      " [[[11 13]\n",
      "  [21 22]]\n",
      "\n",
      " [[15 16]\n",
      "  [24 25]]]\n"
     ]
    }
   ],
   "source": [
    "# Slicing 3D Array\n",
    "import numpy as np\n",
    "\n",
    "arr = np.array([[[1, 2, 3], [11, 13, 14], [21, 22, 23]],\n",
    "               [[4, 5, 6], [15, 16, 17], [24, 25, 26]],\n",
    "               [[7, 8, 9], [18, 19, 20], [27, 28, 29]]])\n",
    "print(arr)\n",
    "print(\"\\n\")\n",
    "print(\"sliced array: \\n\",arr[:2,1:,:2])  "
   ]
  },
  {
   "cell_type": "code",
   "execution_count": 38,
   "metadata": {},
   "outputs": [
    {
     "name": "stdout",
     "output_type": "stream",
     "text": [
      "[[ 0  1  2  3]\n",
      " [ 4  5  6  7]\n",
      " [ 8  9 10 11]]\n",
      "\n",
      "\n",
      "2-D array sliced from first row to last:\n",
      " [[ 4  5  6  7]\n",
      " [ 8  9 10 11]]\n"
     ]
    }
   ],
   "source": [
    "# Full slicing of 2D Array\n",
    "import numpy as np\n",
    "arr = np.arange(12)\n",
    "arr1=arr.reshape(3,4)\n",
    "print(arr1)\n",
    "print(\"\\n\")\n",
    "print(\"2-D array sliced from first row to last:\\n\",arr1[1:3])"
   ]
  },
  {
   "cell_type": "code",
   "execution_count": 39,
   "metadata": {},
   "outputs": [
    {
     "name": "stdout",
     "output_type": "stream",
     "text": [
      "3-D array:\n",
      " [[[ 1  2  3]\n",
      "  [11 13 14]\n",
      "  [21 22 23]]\n",
      "\n",
      " [[ 4  5  6]\n",
      "  [15 16 17]\n",
      "  [24 25 26]]\n",
      "\n",
      " [[ 7  8  9]\n",
      "  [18 19 20]\n",
      "  [27 28 29]]]\n",
      "\n",
      "\n",
      "3-D array sliced from first row to last:\n",
      " [[[ 4  5  6]\n",
      "  [15 16 17]\n",
      "  [24 25 26]]\n",
      "\n",
      " [[ 7  8  9]\n",
      "  [18 19 20]\n",
      "  [27 28 29]]]\n"
     ]
    }
   ],
   "source": [
    "# Full slicing of 3D Array\n",
    "import numpy as np\n",
    "arr = np.array([[[1, 2, 3], [11, 13, 14], [21, 22, 23]],\n",
    "               [[4, 5, 6], [15, 16,17], [24, 25, 26]],\n",
    "               [[7, 8, 9], [18, 19, 20], [27, 28, 29]]])\n",
    "print(\"3-D array:\\n\",arr)   \n",
    "print(\"\\n\")\n",
    "print(\"3-D array sliced from first row to last:\\n\",arr[1:,:,:])"
   ]
  },
  {
   "cell_type": "code",
   "execution_count": 40,
   "metadata": {},
   "outputs": [
    {
     "name": "stdout",
     "output_type": "stream",
     "text": [
      "Element at index 2 or -7 of an array arr: 30\n",
      "Sliced Element from index -8 or 2 and -3 or 6 of an array arr: [20 30 40 50 60]\n"
     ]
    }
   ],
   "source": [
    "# Negative slicing and indexing\n",
    "import numpy as np\n",
    "arr = np.array([10,20,30,40,50,60,70,80,90])\n",
    "print(\"Element at index 2 or -7 of an array arr:\",arr[-7])\n",
    "print(\"Sliced Element from index -8 or 2 and -3 or 6 of an array arr:\",arr[-8:-3])"
   ]
  },
  {
   "cell_type": "code",
   "execution_count": 93,
   "metadata": {},
   "outputs": [
    {
     "data": {
      "text/plain": [
       "array([8, 7, 6, 5, 4, 3, 2, 1])"
      ]
     },
     "execution_count": 93,
     "metadata": {},
     "output_type": "execute_result"
    }
   ],
   "source": [
    "# REVERSING ARRAY\n",
    "arr = np.array([1, 2, 3, 4, 5, 6, 7, 8])\n",
    "np.flip(arr)"
   ]
  },
  {
   "cell_type": "markdown",
   "metadata": {},
   "source": [
    "# In which method can we assign a single assignment or iterable? \n",
    "ANS. In indexing only\n",
    "# In how many ways can we perform indexing in NumPy? \n",
    "ANS. 2 (Basic indexing and advance indexing)"
   ]
  },
  {
   "cell_type": "code",
   "execution_count": 41,
   "metadata": {},
   "outputs": [
    {
     "name": "stdout",
     "output_type": "stream",
     "text": [
      "[1 3 5 7]\n"
     ]
    }
   ],
   "source": [
    "a=np.arange(10)\n",
    "print(a[1:8:2])"
   ]
  },
  {
   "cell_type": "code",
   "execution_count": 42,
   "metadata": {},
   "outputs": [
    {
     "name": "stdout",
     "output_type": "stream",
     "text": [
      "[ 0  1  2  3  4 20 20 20 20 20]\n",
      "[0 1 2 3 4 4 3 2 1 0]\n"
     ]
    }
   ],
   "source": [
    "# We can also combine assignment and slicing\n",
    "a=np.arange(10)\n",
    "a[5:]=20\n",
    "print(a)\n",
    "b=np.arange(5)\n",
    "a[5:]=b[::-1]\n",
    "print(a)"
   ]
  },
  {
   "cell_type": "markdown",
   "metadata": {},
   "source": [
    "# _COPIES AND VIEWS"
   ]
  },
  {
   "cell_type": "code",
   "execution_count": 43,
   "metadata": {},
   "outputs": [
    {
     "name": "stdout",
     "output_type": "stream",
     "text": [
      "[0 1 2 3 4 5 6 7 8 9]\n",
      "[0 2 4 6 8]\n",
      "[0 2 4 6 8]\n",
      "True\n",
      "False\n"
     ]
    }
   ],
   "source": [
    "a=np.arange(10)\n",
    "print(a)\n",
    "b=a[::2]\n",
    "print(b)\n",
    "c=a[::2].copy()\n",
    "print(c)\n",
    "print(np.shares_memory(a,b))\n",
    "print(np.shares_memory(a,c))"
   ]
  },
  {
   "cell_type": "markdown",
   "metadata": {},
   "source": [
    "# _FANCY INDEXING_ : Numpy arrays can be indexed with slices but also with boolean or integer arrays(mask).This method is called fancy indexing.\n",
    "It creates copies not views."
   ]
  },
  {
   "cell_type": "code",
   "execution_count": 44,
   "metadata": {},
   "outputs": [
    {
     "name": "stdout",
     "output_type": "stream",
     "text": [
      "[13 19  3  6  6  1 18  1 10  5 12  9 13  9 12]\n",
      "[ 6  6 18 10 12 12]\n",
      "[13 19  3 -1 -1  1 -1  1 -1  5 -1  9 13  9 -1]\n"
     ]
    }
   ],
   "source": [
    "# Using Boolean mask\n",
    "a=np.random.randint(0,20,15)\n",
    "print(a)\n",
    "mask=(a%2==0)      #  Here,a%2==0 is boolean condition\n",
    "b=a[mask]\n",
    "print(b)\n",
    "a[mask]=-1\n",
    "print(a)"
   ]
  },
  {
   "cell_type": "markdown",
   "metadata": {},
   "source": [
    "# _NUMPY ARRAY ITERATIONS Using for and while loops_\n",
    "Nditer is a multidimensional iterator object in the NumPy package that can traverse an array efficiently.\n",
    "We can modify the array value by using an optional parameter of the nditer object called Op flags (operand flags).\n",
    "We have to perform multiple loops to iterate over a multidimensional array. To avoid using multiple loops, we use a NumPy function called nditer."
   ]
  },
  {
   "cell_type": "code",
   "execution_count": 45,
   "metadata": {},
   "outputs": [
    {
     "name": "stdout",
     "output_type": "stream",
     "text": [
      "arr1:\n",
      " [[ 0  1  2  3]\n",
      " [ 4  5  6  7]\n",
      " [ 8  9 10 11]]\n",
      "Traversed array:\n",
      "0 1 2 3 4 5 6 7 8 9 10 11 "
     ]
    },
    {
     "data": {
      "text/plain": [
       "\"for i in np.nditer(arr1):\\n   print(i, end=' ')\""
      ]
     },
     "execution_count": 45,
     "metadata": {},
     "output_type": "execute_result"
    }
   ],
   "source": [
    "# Using for loops:\n",
    "import numpy as np\n",
    "arr = np.arange(12)\n",
    "arr1=arr.reshape(3,4)\n",
    "print(\"arr1:\\n\",arr1)\n",
    "print(\"Traversed array:\")\n",
    "for i in arr1:\n",
    "   for j in i:\n",
    "    print(j, end=' ')\n",
    "# Using nditer function:\n",
    "\"\"\"for i in np.nditer(arr1):\n",
    "   print(i, end=' ')\"\"\""
   ]
  },
  {
   "cell_type": "code",
   "execution_count": 94,
   "metadata": {},
   "outputs": [
    {
     "data": {
      "text/plain": [
       "array([ 1,  2,  3,  4,  5,  6,  7,  8,  9, 10, 11, 12])"
      ]
     },
     "execution_count": 94,
     "metadata": {},
     "output_type": "execute_result"
    }
   ],
   "source": [
    "x = np.array([[1 , 2, 3, 4], [5, 6, 7, 8], [9, 10, 11, 12]])\n",
    "x.flatten()"
   ]
  },
  {
   "cell_type": "markdown",
   "metadata": {},
   "source": [
    "# QUESTIONS :"
   ]
  },
  {
   "cell_type": "code",
   "execution_count": 30,
   "metadata": {},
   "outputs": [
    {
     "name": "stdout",
     "output_type": "stream",
     "text": [
      "[ 0 -1  2 -1  4 -1  6 -1  8 -1]\n",
      "[ 0 -1  2 -1  4 -1  6 -1  8 -1]\n"
     ]
    }
   ],
   "source": [
    "# Replace all odd numbers in the given array with -1\n",
    "import numpy as np\n",
    "exercise_1 = np.array([0, 1, 2, 3, 4, 5, 6, 7, 8, 9])\n",
    "for i in exercise_1:\n",
    "    if i%2!=0:\n",
    "        exercise_1[i]=-1\n",
    "print(exercise_1)\n"
   ]
  },
  {
   "cell_type": "code",
   "execution_count": 35,
   "metadata": {},
   "outputs": [
    {
     "name": "stdout",
     "output_type": "stream",
     "text": [
      "[ 0 -1  2 -1  4 -1  6 -1  8 -1]\n",
      "[0 1 2 3 4 5 6 7 8 9]\n"
     ]
    }
   ],
   "source": [
    "# Replace all odd numbers in the given array with -1 without changing original array \n",
    "arr_1 = np.array([0, 1, 2, 3, 4, 5, 6, 7, 8, 9])\n",
    "out = np.where(arr_1 % 2 != 0, -1, arr_1)\n",
    "print(out)\n",
    "print(arr_1)\n"
   ]
  },
  {
   "cell_type": "code",
   "execution_count": 20,
   "metadata": {},
   "outputs": [
    {
     "name": "stdout",
     "output_type": "stream",
     "text": [
      "[[0 1 2]\n",
      " [3 4 5]\n",
      " [6 7 8]]\n"
     ]
    }
   ],
   "source": [
    "# Convert a 1-D array into a 2-D array with 3 rows\n",
    "exercise_2 = np.array([0, 1, 2, 3, 4, 5, 6, 7, 8])\n",
    "arr=exercise_2.reshape(3,3)\n",
    "# arr=exercise_2.reshape(3, -1)  # Setting to -1 automatically decides the number of cols\n",
    "print(arr)"
   ]
  },
  {
   "cell_type": "code",
   "execution_count": 21,
   "metadata": {},
   "outputs": [
    {
     "name": "stdout",
     "output_type": "stream",
     "text": [
      "[[202 203]\n",
      " [204 205]]\n"
     ]
    }
   ],
   "source": [
    "# Add 202 to all the values in given array\n",
    "exercise_3 = np.arange(4).reshape(2,-1)\n",
    "print(exercise_3+202)"
   ]
  },
  {
   "cell_type": "code",
   "execution_count": 25,
   "metadata": {},
   "outputs": [
    {
     "name": "stdout",
     "output_type": "stream",
     "text": [
      "[36 37 31 39 33 34 39 30 30 32]\n"
     ]
    }
   ],
   "source": [
    "# Generate a 1-D array of 10 random integers. Each integer should be a number between 30 and 40 (inclusive)\n",
    "lst=[]\n",
    "for i in range(10):\n",
    "    digit=np.random.randint(30,41)\n",
    "    lst.append(digit)\n",
    "arr=np.array(lst)\n",
    "print(arr)"
   ]
  },
  {
   "cell_type": "code",
   "execution_count": 26,
   "metadata": {},
   "outputs": [
    {
     "name": "stdout",
     "output_type": "stream",
     "text": [
      "[1 2 4 5 6 7 8 9]\n"
     ]
    }
   ],
   "source": [
    "# Find the positions of:\n",
    "# (i) elements in x where its value is more than its corresponding element in y \n",
    "x = np.array([21, 64, 86, 22, 74, 55, 81, 79, 90, 89]) \n",
    "y = np.array([21, 7, 3, 45, 10, 29, 55, 4, 37, 18])\n",
    "lst=[]\n",
    "for i in range(len(x)):\n",
    "    if x[i] > y[i]:\n",
    "        lst.append(i)\n",
    "arr=np.array(lst)\n",
    "print(arr)"
   ]
  },
  {
   "cell_type": "code",
   "execution_count": 27,
   "metadata": {},
   "outputs": [
    {
     "name": "stdout",
     "output_type": "stream",
     "text": [
      "[0]\n"
     ]
    }
   ],
   "source": [
    "# (ii) elements in x where its value is equals to its corresponding element in y.\n",
    "x = np.array([21, 64, 86, 22, 74, 55, 81, 79, 90, 89]) \n",
    "y = np.array([21, 7, 3, 45, 10, 29, 55, 4, 37, 18])\n",
    "lst=[]\n",
    "for i in range(len(x)):\n",
    "    if x[i] == y[i]:\n",
    "        lst.append(i)\n",
    "arr=np.array(lst)\n",
    "print(arr)"
   ]
  },
  {
   "cell_type": "code",
   "execution_count": 29,
   "metadata": {},
   "outputs": [
    {
     "name": "stdout",
     "output_type": "stream",
     "text": [
      "[[ 0  1  2  3]\n",
      " [20 21 22 23]\n",
      " [40 41 42 43]\n",
      " [60 61 62 63]\n",
      " [80 81 82 83]]\n"
     ]
    }
   ],
   "source": [
    "# Extract the first four columns of this 2-D array\n",
    "exercise_6 = np.arange(100).reshape(5,-1)\n",
    "arr=exercise_6[:,0:4]\n",
    "print(arr)"
   ]
  },
  {
   "cell_type": "code",
   "execution_count": 48,
   "metadata": {},
   "outputs": [
    {
     "name": "stdout",
     "output_type": "stream",
     "text": [
      "b: \n",
      " [[2 2 2 2 2]\n",
      " [2 2 2 2 2]] \n",
      "\n",
      "[[0 1 2 3 4]\n",
      " [5 6 7 8 9]\n",
      " [2 2 2 2 2]\n",
      " [2 2 2 2 2]]\n"
     ]
    }
   ],
   "source": [
    "# Stacking two arrays vertically\n",
    "a = np.arange(10).reshape(2,-1)\n",
    "b = np.repeat(2, 10).reshape(2,-1)\n",
    "print(\"b:\",\"\\n\",b,\"\\n\")\n",
    "arr=np.concatenate([a,b])\n",
    "# np.concatenate([a,b],axis=0)\n",
    "print(arr)"
   ]
  },
  {
   "cell_type": "code",
   "execution_count": 49,
   "metadata": {},
   "outputs": [
    {
     "name": "stdout",
     "output_type": "stream",
     "text": [
      "[[0 1 2 3 4 2 2 2 2 2]\n",
      " [5 6 7 8 9 2 2 2 2 2]]\n"
     ]
    }
   ],
   "source": [
    "# Stacking two arrays horizontally\n",
    "a = np.arange(10).reshape(2,-1)\n",
    "b = np.repeat(2, 10).reshape(2,-1)\n",
    "arr=np.concatenate([a,b],axis=1)\n",
    "print(arr)"
   ]
  },
  {
   "cell_type": "code",
   "execution_count": 92,
   "metadata": {},
   "outputs": [
    {
     "name": "stdout",
     "output_type": "stream",
     "text": [
      "[1 1 1 2 2 2 3 3 3 1 2 3]\n"
     ]
    }
   ],
   "source": [
    "#  Create the following pattern without hardcoding. Use only numpy functions and the below input array a.\n",
    "a = np.array([1,2,3])\n",
    "lst=np.repeat(a,3)\n",
    "arr=np.concatenate([lst,a])\n",
    "print(arr)"
   ]
  },
  {
   "cell_type": "code",
   "execution_count": 96,
   "metadata": {},
   "outputs": [
    {
     "name": "stdout",
     "output_type": "stream",
     "text": [
      "[2 4]\n"
     ]
    }
   ],
   "source": [
    "# How to get the common items between two python numpy arrays?\n",
    "a = np.array([1,2,3,2,3,4,3,4,5,6])\n",
    "b = np.array([7,2,10,2,7,4,9,4,9,8])\n",
    "lst=[]\n",
    "for i in range(len(a)):\n",
    "    if a[i] == b[i]:\n",
    "        lst.append(a[i])\n",
    "arr=np.array(lst)\n",
    "arr_1=np.unique(arr)\n",
    "print(arr_1)\n"
   ]
  },
  {
   "cell_type": "code",
   "execution_count": 106,
   "metadata": {},
   "outputs": [
    {
     "name": "stdout",
     "output_type": "stream",
     "text": [
      "[1 2 3 4]\n"
     ]
    }
   ],
   "source": [
    "# How to remove from one array those items that exist in another?\n",
    "a = np.array([1,2,3,4,5])\n",
    "b = np.array([5,6,7,8,9])\n",
    "for i in range(len(a)):\n",
    "    for j in range(len(b)):\n",
    "        if a[i]==b[j]:\n",
    "            arr=np.delete(a,i)   # np.delete(array from which item need to be deleted, index of an item to be deleted)\n",
    "print(arr)"
   ]
  },
  {
   "cell_type": "code",
   "execution_count": 107,
   "metadata": {},
   "outputs": [
    {
     "name": "stdout",
     "output_type": "stream",
     "text": [
      "[6 9]\n"
     ]
    }
   ],
   "source": [
    "# Get all items between 5 and 10 from a.\n",
    "a = np.array([2, 6, 1, 9, 10, 3, 27])\n",
    "lst=[]\n",
    "for i in a:\n",
    "    if i>5 and i<10:\n",
    "        lst.append(i)\n",
    "arr=np.array(lst)\n",
    "print(arr)"
   ]
  }
 ],
 "metadata": {
  "kernelspec": {
   "display_name": "Python 3",
   "language": "python",
   "name": "python3"
  },
  "language_info": {
   "codemirror_mode": {
    "name": "ipython",
    "version": 3
   },
   "file_extension": ".py",
   "mimetype": "text/x-python",
   "name": "python",
   "nbconvert_exporter": "python",
   "pygments_lexer": "ipython3",
   "version": "3.11.5"
  }
 },
 "nbformat": 4,
 "nbformat_minor": 2
}
