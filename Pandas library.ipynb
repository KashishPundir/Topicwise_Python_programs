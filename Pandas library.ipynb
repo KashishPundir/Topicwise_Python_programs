{
 "cells": [
  {
   "cell_type": "code",
   "execution_count": 11,
   "metadata": {},
   "outputs": [
    {
     "name": "stdout",
     "output_type": "stream",
     "text": [
      "A    2.1\n",
      "B    3.2\n",
      "C    4.3\n",
      "dtype: float64\n"
     ]
    }
   ],
   "source": [
    "import pandas as pd\n",
    "C=pd.Series([2.1,3.2,4.3],index=[\"A\",\"B\",\"C\"])  # For integer values return int64\n",
    "print(C)\n"
   ]
  },
  {
   "cell_type": "code",
   "execution_count": 4,
   "metadata": {},
   "outputs": [
    {
     "name": "stdout",
     "output_type": "stream",
     "text": [
      "A       HI\n",
      "B    HELLO\n",
      "C      HEY\n",
      "dtype: object\n"
     ]
    }
   ],
   "source": [
    "import pandas as pd\n",
    "C=pd.Series([\"HI\",\"HELLO\",\"HEY\"],index=[\"A\",\"B\",\"C\"])\n",
    "print(C)"
   ]
  },
  {
   "cell_type": "code",
   "execution_count": 5,
   "metadata": {},
   "outputs": [
    {
     "name": "stdout",
     "output_type": "stream",
     "text": [
      "A     True\n",
      "B    False\n",
      "C     True\n",
      "dtype: bool\n"
     ]
    }
   ],
   "source": [
    "import pandas as pd\n",
    "C=pd.Series([True,False,True],index=[\"A\",\"B\",\"C\"])\n",
    "print(C)"
   ]
  },
  {
   "cell_type": "code",
   "execution_count": 12,
   "metadata": {},
   "outputs": [
    {
     "name": "stdout",
     "output_type": "stream",
     "text": [
      "<class 'str'>\n"
     ]
    },
    {
     "name": "stderr",
     "output_type": "stream",
     "text": [
      "C:\\Users\\hp\\AppData\\Local\\Temp\\ipykernel_17824\\1100837434.py:3: FutureWarning: Series.__getitem__ treating keys as positions is deprecated. In a future version, integer keys will always be treated as labels (consistent with DataFrame behavior). To access a value by position, use `ser.iloc[pos]`\n",
      "  print(type(C[1]))                       # check type of series\n"
     ]
    }
   ],
   "source": [
    "# Changing datatype:\n",
    "import pandas as pd\n",
    "C=pd.Series([True,False,True],index=[\"A\",\"B\",\"C\"],dtype=str)\n",
    "print(type(C[1]))                       # check type of series"
   ]
  },
  {
   "cell_type": "code",
   "execution_count": 32,
   "metadata": {},
   "outputs": [
    {
     "name": "stdout",
     "output_type": "stream",
     "text": [
      "      NAME  MATH  CHEM\n",
      "0      Uma  56.0    78\n",
      "1   Bhavya  78.0    90\n",
      "2   Ritika  89.0    94\n",
      "3  Sashwat   NaN    90\n",
      "4     Asha  45.0    67\n",
      "5   Sushma  79.0    69\n"
     ]
    }
   ],
   "source": [
    "data={\"NAME\":[\"Uma\",\"Bhavya\",\"Ritika\",\"Sashwat\",\"Asha\",\"Sushma\"],\"MATH\":[56,78,89,None,45,79],\"CHEM\":[78,90,94,90,67,69]}\n",
    "df=pd.DataFrame(data)\n",
    "print(df)"
   ]
  },
  {
   "cell_type": "code",
   "execution_count": 22,
   "metadata": {},
   "outputs": [
    {
     "name": "stdout",
     "output_type": "stream",
     "text": [
      "      NAME  MATH  CHEM\n",
      "0      Uma    56    78\n",
      "1   Bhavya    78    90\n",
      "2   Ritika    89    94\n",
      "3  Sashwat    78    90\n",
      "4     Asha    45    67 \n",
      "\n",
      "     NAME  MATH  CHEM\n",
      "0     Uma    56    78\n",
      "1  Bhavya    78    90\n",
      "2  Ritika    89    94\n"
     ]
    },
    {
     "data": {
      "text/html": [
       "<div>\n",
       "<style scoped>\n",
       "    .dataframe tbody tr th:only-of-type {\n",
       "        vertical-align: middle;\n",
       "    }\n",
       "\n",
       "    .dataframe tbody tr th {\n",
       "        vertical-align: top;\n",
       "    }\n",
       "\n",
       "    .dataframe thead th {\n",
       "        text-align: right;\n",
       "    }\n",
       "</style>\n",
       "<table border=\"1\" class=\"dataframe\">\n",
       "  <thead>\n",
       "    <tr style=\"text-align: right;\">\n",
       "      <th></th>\n",
       "      <th>NAME</th>\n",
       "      <th>MATH</th>\n",
       "      <th>CHEM</th>\n",
       "    </tr>\n",
       "  </thead>\n",
       "  <tbody>\n",
       "    <tr>\n",
       "      <th>0</th>\n",
       "      <td>Uma</td>\n",
       "      <td>56</td>\n",
       "      <td>78</td>\n",
       "    </tr>\n",
       "    <tr>\n",
       "      <th>1</th>\n",
       "      <td>Bhavya</td>\n",
       "      <td>78</td>\n",
       "      <td>90</td>\n",
       "    </tr>\n",
       "    <tr>\n",
       "      <th>2</th>\n",
       "      <td>Ritika</td>\n",
       "      <td>89</td>\n",
       "      <td>94</td>\n",
       "    </tr>\n",
       "  </tbody>\n",
       "</table>\n",
       "</div>"
      ],
      "text/plain": [
       "     NAME  MATH  CHEM\n",
       "0     Uma    56    78\n",
       "1  Bhavya    78    90\n",
       "2  Ritika    89    94"
      ]
     },
     "metadata": {},
     "output_type": "display_data"
    }
   ],
   "source": [
    "r=df.head()\n",
    "s=df.head(3)\n",
    "print(r,\"\\n\")\n",
    "print(s)\n",
    "display(s)            # display shows data in gradient table form"
   ]
  },
  {
   "cell_type": "code",
   "execution_count": 25,
   "metadata": {},
   "outputs": [
    {
     "name": "stdout",
     "output_type": "stream",
     "text": [
      "      NAME  MATH  CHEM\n",
      "1   Bhavya    78    90\n",
      "2   Ritika    89    94\n",
      "3  Sashwat    78    90\n",
      "4     Asha    45    67\n",
      "5   Sushma    79    69 \n",
      "\n",
      "     NAME  MATH  CHEM\n",
      "4    Asha    45    67\n",
      "5  Sushma    79    69\n"
     ]
    }
   ],
   "source": [
    "u=df.tail()\n",
    "v=df.tail(2)\n",
    "print(u,\"\\n\")\n",
    "print(v)"
   ]
  },
  {
   "cell_type": "code",
   "execution_count": 33,
   "metadata": {},
   "outputs": [
    {
     "name": "stdout",
     "output_type": "stream",
     "text": [
      "<class 'pandas.core.frame.DataFrame'>\n",
      "RangeIndex: 6 entries, 0 to 5\n",
      "Data columns (total 3 columns):\n",
      " #   Column  Non-Null Count  Dtype  \n",
      "---  ------  --------------  -----  \n",
      " 0   NAME    6 non-null      object \n",
      " 1   MATH    5 non-null      float64\n",
      " 2   CHEM    6 non-null      int64  \n",
      "dtypes: float64(1), int64(1), object(1)\n",
      "memory usage: 276.0+ bytes\n",
      "None\n"
     ]
    }
   ],
   "source": [
    "i=df.info(data)\n",
    "print(i)"
   ]
  },
  {
   "cell_type": "code",
   "execution_count": 4,
   "metadata": {},
   "outputs": [
    {
     "name": "stdout",
     "output_type": "stream",
     "text": [
      "   Age  Salary\n",
      "0   45    3000\n",
      "1   34    4000\n",
      "2   31    2000\n",
      "(3, 2)\n",
      "6\n",
      "             Age  Salary\n",
      "count   3.000000     3.0\n",
      "mean   36.666667  3000.0\n",
      "std     7.371115  1000.0\n",
      "min    31.000000  2000.0\n",
      "25%    32.500000  2500.0\n",
      "50%    34.000000  3000.0\n",
      "75%    39.500000  3500.0\n",
      "max    45.000000  4000.0\n"
     ]
    }
   ],
   "source": [
    "import pandas as pd\n",
    "data2=pd.DataFrame({\"Age\":[45,34,31],\"Salary\":[3000,4000,2000]})\n",
    "print(data2)\n",
    "print(data2.shape)\n",
    "print(data2.size)\n",
    "print(data2.describe())"
   ]
  },
  {
   "cell_type": "code",
   "execution_count": 6,
   "metadata": {},
   "outputs": [
    {
     "name": "stdout",
     "output_type": "stream",
     "text": [
      "Index(['Age', 'Salary'], dtype='object')\n",
      "[[  45 3000]\n",
      " [  34 4000]\n",
      " [  31 2000]]\n",
      "Age       int64\n",
      "Salary    int64\n",
      "dtype: object\n"
     ]
    }
   ],
   "source": [
    "print(data2.columns)\n",
    "print(data2.values)\n",
    "print(data2.dtypes)"
   ]
  },
  {
   "cell_type": "code",
   "execution_count": 56,
   "metadata": {},
   "outputs": [
    {
     "name": "stdout",
     "output_type": "stream",
     "text": [
      "    NAME   MATH   CHEM\n",
      "0  False  False  False\n",
      "1  False  False  False\n",
      "2  False  False  False\n",
      "3  False   True  False\n",
      "4  False  False  False\n",
      "5  False  False  False\n",
      "NAME    0\n",
      "MATH    1\n",
      "CHEM    0\n",
      "dtype: int64\n"
     ]
    }
   ],
   "source": [
    "data=pd.DataFrame({\"NAME\":[\"Uma\",\"Bhavya\",\"Ritika\",\"Sashwat\",\"Asha\",\"Sushma\"],\"MATH\":[56,78,89,None,45,79],\"CHEM\":[78,90,94,90,67,69]})\n",
    "print(data.isnull())\n",
    "print(data.isnull().sum())"
   ]
  },
  {
   "cell_type": "code",
   "execution_count": 74,
   "metadata": {},
   "outputs": [
    {
     "name": "stdout",
     "output_type": "stream",
     "text": [
      "      NAME  CHEM\n",
      "0      Uma    78\n",
      "1   Bhavya    90\n",
      "2   Ritika    94\n",
      "3  Sashwat    90\n",
      "4     Asha    67\n",
      "5   Sushma    69 \n",
      "\n",
      "      NAME  MATH  CHEM\n",
      "2   Ritika  89.0    94\n",
      "3  Sashwat   NaN    90\n",
      "4     Asha  45.0    67\n",
      "5   Sushma  79.0    69 \n",
      "\n",
      "      NAME  MATH  CHEM\n",
      "0      Uma  56.0    78\n",
      "1   Bhavya  78.0    90\n",
      "3  Sashwat   NaN    90\n",
      "4     Asha  45.0    67\n",
      "5   Sushma  79.0    69\n"
     ]
    }
   ],
   "source": [
    "print(data.drop(\"MATH\",axis=1),\"\\n\")    # 1 or 'columns\n",
    "print(data.drop([0,1],axis=0),\"\\n\")     # 0 or 'index'\n",
    "print(data.drop(2,axis='index'))        # Remove row of 2nd index"
   ]
  },
  {
   "cell_type": "code",
   "execution_count": 75,
   "metadata": {},
   "outputs": [
    {
     "name": "stdout",
     "output_type": "stream",
     "text": [
      ",NAME,MATH,CHEM\n",
      "0,Uma,56.0,78\n",
      "1,Bhavya,78.0,90\n",
      "2,Ritika,89.0,94\n",
      "3,Sashwat,,90\n",
      "4,Asha,45.0,67\n",
      "5,Sushma,79.0,69\n",
      "\n"
     ]
    }
   ],
   "source": [
    "print(data.to_csv())"
   ]
  },
  {
   "cell_type": "code",
   "execution_count": 4,
   "metadata": {},
   "outputs": [
    {
     "data": {
      "text/html": [
       "<div>\n",
       "<style scoped>\n",
       "    .dataframe tbody tr th:only-of-type {\n",
       "        vertical-align: middle;\n",
       "    }\n",
       "\n",
       "    .dataframe tbody tr th {\n",
       "        vertical-align: top;\n",
       "    }\n",
       "\n",
       "    .dataframe thead th {\n",
       "        text-align: right;\n",
       "    }\n",
       "</style>\n",
       "<table border=\"1\" class=\"dataframe\">\n",
       "  <thead>\n",
       "    <tr style=\"text-align: right;\">\n",
       "      <th></th>\n",
       "      <th>Name</th>\n",
       "      <th>Age</th>\n",
       "      <th>Salary</th>\n",
       "      <th>Department</th>\n",
       "      <th>Post</th>\n",
       "      <th>Gender</th>\n",
       "    </tr>\n",
       "  </thead>\n",
       "  <tbody>\n",
       "    <tr>\n",
       "      <th>0</th>\n",
       "      <td>Nitesh</td>\n",
       "      <td>34</td>\n",
       "      <td>40000</td>\n",
       "      <td>Finance</td>\n",
       "      <td>General Manager</td>\n",
       "      <td>M</td>\n",
       "    </tr>\n",
       "    <tr>\n",
       "      <th>1</th>\n",
       "      <td>Tamana</td>\n",
       "      <td>23</td>\n",
       "      <td>50000</td>\n",
       "      <td>Sales</td>\n",
       "      <td>Executive</td>\n",
       "      <td>F</td>\n",
       "    </tr>\n",
       "    <tr>\n",
       "      <th>2</th>\n",
       "      <td>Uma</td>\n",
       "      <td>21</td>\n",
       "      <td>30000</td>\n",
       "      <td>Marketing</td>\n",
       "      <td>Assistant manager</td>\n",
       "      <td>F</td>\n",
       "    </tr>\n",
       "    <tr>\n",
       "      <th>3</th>\n",
       "      <td>Ritika</td>\n",
       "      <td>29</td>\n",
       "      <td>20000</td>\n",
       "      <td>Security</td>\n",
       "      <td>Deputy Manager</td>\n",
       "      <td>F</td>\n",
       "    </tr>\n",
       "    <tr>\n",
       "      <th>4</th>\n",
       "      <td>Shubham</td>\n",
       "      <td>37</td>\n",
       "      <td>70000</td>\n",
       "      <td>Purchasing</td>\n",
       "      <td>Engineer</td>\n",
       "      <td>M</td>\n",
       "    </tr>\n",
       "    <tr>\n",
       "      <th>5</th>\n",
       "      <td>Himanshi</td>\n",
       "      <td>27</td>\n",
       "      <td>60000</td>\n",
       "      <td>HR</td>\n",
       "      <td>Supervisior</td>\n",
       "      <td>F</td>\n",
       "    </tr>\n",
       "    <tr>\n",
       "      <th>6</th>\n",
       "      <td>Akshat</td>\n",
       "      <td>30</td>\n",
       "      <td>55000</td>\n",
       "      <td>IT</td>\n",
       "      <td>Senior Manager</td>\n",
       "      <td>M</td>\n",
       "    </tr>\n",
       "    <tr>\n",
       "      <th>7</th>\n",
       "      <td>Kartik</td>\n",
       "      <td>26</td>\n",
       "      <td>90000</td>\n",
       "      <td>Quality</td>\n",
       "      <td>Senior Engineer</td>\n",
       "      <td>M</td>\n",
       "    </tr>\n",
       "    <tr>\n",
       "      <th>8</th>\n",
       "      <td>Rahul</td>\n",
       "      <td>38</td>\n",
       "      <td>82000</td>\n",
       "      <td>PPC</td>\n",
       "      <td>Helper</td>\n",
       "      <td>M</td>\n",
       "    </tr>\n",
       "  </tbody>\n",
       "</table>\n",
       "</div>"
      ],
      "text/plain": [
       "       Name  Age  Salary  Department               Post Gender\n",
       "0    Nitesh   34   40000     Finance    General Manager      M\n",
       "1    Tamana   23   50000       Sales          Executive      F\n",
       "2       Uma   21   30000   Marketing  Assistant manager      F\n",
       "3    Ritika   29   20000    Security     Deputy Manager      F\n",
       "4   Shubham   37   70000  Purchasing           Engineer      M\n",
       "5  Himanshi   27   60000          HR        Supervisior      F\n",
       "6    Akshat   30   55000          IT     Senior Manager      M\n",
       "7    Kartik   26   90000     Quality    Senior Engineer      M\n",
       "8     Rahul   38   82000         PPC             Helper      M"
      ]
     },
     "execution_count": 4,
     "metadata": {},
     "output_type": "execute_result"
    }
   ],
   "source": [
    "import pandas as pd\n",
    "df=pd.read_csv(r\"C:\\Users\\hp\\Desktop\\Employees_data.csv\")\n",
    "df"
   ]
  },
  {
   "cell_type": "code",
   "execution_count": 10,
   "metadata": {},
   "outputs": [
    {
     "data": {
      "text/html": [
       "<div>\n",
       "<style scoped>\n",
       "    .dataframe tbody tr th:only-of-type {\n",
       "        vertical-align: middle;\n",
       "    }\n",
       "\n",
       "    .dataframe tbody tr th {\n",
       "        vertical-align: top;\n",
       "    }\n",
       "\n",
       "    .dataframe thead th {\n",
       "        text-align: right;\n",
       "    }\n",
       "</style>\n",
       "<table border=\"1\" class=\"dataframe\">\n",
       "  <thead>\n",
       "    <tr style=\"text-align: right;\">\n",
       "      <th></th>\n",
       "      <th>Age</th>\n",
       "      <th>Salary</th>\n",
       "    </tr>\n",
       "  </thead>\n",
       "  <tbody>\n",
       "    <tr>\n",
       "      <th>Age</th>\n",
       "      <td>1.000000</td>\n",
       "      <td>0.203497</td>\n",
       "    </tr>\n",
       "    <tr>\n",
       "      <th>Salary</th>\n",
       "      <td>0.203497</td>\n",
       "      <td>1.000000</td>\n",
       "    </tr>\n",
       "  </tbody>\n",
       "</table>\n",
       "</div>"
      ],
      "text/plain": [
       "             Age    Salary\n",
       "Age     1.000000  0.203497\n",
       "Salary  0.203497  1.000000"
      ]
     },
     "execution_count": 10,
     "metadata": {},
     "output_type": "execute_result"
    }
   ],
   "source": [
    "data2=pd.DataFrame({\"Age\":[45,34,31],\"Salary\":[3000,4000,2000]})\n",
    "data2.corr()     # Applicable for only numerical dataframe"
   ]
  },
  {
   "cell_type": "code",
   "execution_count": 16,
   "metadata": {},
   "outputs": [
    {
     "data": {
      "text/html": [
       "<div>\n",
       "<style scoped>\n",
       "    .dataframe tbody tr th:only-of-type {\n",
       "        vertical-align: middle;\n",
       "    }\n",
       "\n",
       "    .dataframe tbody tr th {\n",
       "        vertical-align: top;\n",
       "    }\n",
       "\n",
       "    .dataframe thead th {\n",
       "        text-align: right;\n",
       "    }\n",
       "</style>\n",
       "<table border=\"1\" class=\"dataframe\">\n",
       "  <thead>\n",
       "    <tr style=\"text-align: right;\">\n",
       "      <th></th>\n",
       "      <th>Age</th>\n",
       "      <th>Salary</th>\n",
       "    </tr>\n",
       "  </thead>\n",
       "  <tbody>\n",
       "    <tr>\n",
       "      <th>0</th>\n",
       "      <td>45</td>\n",
       "      <td>3000</td>\n",
       "    </tr>\n",
       "    <tr>\n",
       "      <th>2</th>\n",
       "      <td>31</td>\n",
       "      <td>2000</td>\n",
       "    </tr>\n",
       "  </tbody>\n",
       "</table>\n",
       "</div>"
      ],
      "text/plain": [
       "   Age  Salary\n",
       "0   45    3000\n",
       "2   31    2000"
      ]
     },
     "execution_count": 16,
     "metadata": {},
     "output_type": "execute_result"
    }
   ],
   "source": [
    "data2=pd.DataFrame({\"Age\":[45,45,31],\"Salary\":[3000,3000,2000]})\n",
    "data2.drop_duplicates()"
   ]
  },
  {
   "cell_type": "code",
   "execution_count": 9,
   "metadata": {},
   "outputs": [
    {
     "data": {
      "text/html": [
       "<div>\n",
       "<style scoped>\n",
       "    .dataframe tbody tr th:only-of-type {\n",
       "        vertical-align: middle;\n",
       "    }\n",
       "\n",
       "    .dataframe tbody tr th {\n",
       "        vertical-align: top;\n",
       "    }\n",
       "\n",
       "    .dataframe thead th {\n",
       "        text-align: right;\n",
       "    }\n",
       "</style>\n",
       "<table border=\"1\" class=\"dataframe\">\n",
       "  <thead>\n",
       "    <tr style=\"text-align: right;\">\n",
       "      <th></th>\n",
       "      <th>NAME</th>\n",
       "      <th>MATH</th>\n",
       "      <th>CHEM</th>\n",
       "    </tr>\n",
       "  </thead>\n",
       "  <tbody>\n",
       "    <tr>\n",
       "      <th>0</th>\n",
       "      <td>Uma</td>\n",
       "      <td>56.0</td>\n",
       "      <td>78</td>\n",
       "    </tr>\n",
       "    <tr>\n",
       "      <th>1</th>\n",
       "      <td>Bhavya</td>\n",
       "      <td>78.0</td>\n",
       "      <td>90</td>\n",
       "    </tr>\n",
       "    <tr>\n",
       "      <th>2</th>\n",
       "      <td>Ritika</td>\n",
       "      <td>89.0</td>\n",
       "      <td>94</td>\n",
       "    </tr>\n",
       "    <tr>\n",
       "      <th>3</th>\n",
       "      <td>Sashwat</td>\n",
       "      <td>0.0</td>\n",
       "      <td>90</td>\n",
       "    </tr>\n",
       "    <tr>\n",
       "      <th>4</th>\n",
       "      <td>Asha</td>\n",
       "      <td>45.0</td>\n",
       "      <td>67</td>\n",
       "    </tr>\n",
       "    <tr>\n",
       "      <th>5</th>\n",
       "      <td>Sushma</td>\n",
       "      <td>79.0</td>\n",
       "      <td>69</td>\n",
       "    </tr>\n",
       "  </tbody>\n",
       "</table>\n",
       "</div>"
      ],
      "text/plain": [
       "      NAME  MATH  CHEM\n",
       "0      Uma  56.0    78\n",
       "1   Bhavya  78.0    90\n",
       "2   Ritika  89.0    94\n",
       "3  Sashwat   0.0    90\n",
       "4     Asha  45.0    67\n",
       "5   Sushma  79.0    69"
      ]
     },
     "execution_count": 9,
     "metadata": {},
     "output_type": "execute_result"
    }
   ],
   "source": [
    "data=pd.DataFrame({\"NAME\":[\"Uma\",\"Bhavya\",\"Ritika\",\"Sashwat\",\"Asha\",\"Sushma\"],\"MATH\":[56,78,89,None,45,79],\"CHEM\":[78,90,94,90,67,69]})\n",
    "data.fillna(0)   # Replace NaN value by 0.0 in MATH column"
   ]
  }
 ],
 "metadata": {
  "kernelspec": {
   "display_name": "Python 3",
   "language": "python",
   "name": "python3"
  },
  "language_info": {
   "codemirror_mode": {
    "name": "ipython",
    "version": 3
   },
   "file_extension": ".py",
   "mimetype": "text/x-python",
   "name": "python",
   "nbconvert_exporter": "python",
   "pygments_lexer": "ipython3",
   "version": "3.11.5"
  }
 },
 "nbformat": 4,
 "nbformat_minor": 2
}
